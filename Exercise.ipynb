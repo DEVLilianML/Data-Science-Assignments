{
 "cells": [
  {
   "cell_type": "markdown",
   "metadata": {},
   "source": [
    "##  Excercises\n",
    "\n"
   ]
  },
  {
   "cell_type": "markdown",
   "metadata": {},
   "source": [
    " 1. Import the numpy package under the name np (★☆☆)"
   ]
  },
  {
   "cell_type": "code",
   "execution_count": 1,
   "metadata": {},
   "outputs": [],
   "source": [
    "import numpy as np\n"
   ]
  },
  {
   "cell_type": "markdown",
   "metadata": {},
   "source": [
    "2. Print the numpy version and the configuration"
   ]
  },
  {
   "cell_type": "code",
   "execution_count": 2,
   "metadata": {},
   "outputs": [
    {
     "name": "stdout",
     "output_type": "stream",
     "text": [
      "NumPy Version: 1.26.4\n",
      "\n",
      "NumPy Configuration:\n",
      "{\n",
      "  \"Compilers\": {\n",
      "    \"c\": {\n",
      "      \"name\": \"msvc\",\n",
      "      \"linker\": \"link\",\n",
      "      \"version\": \"19.29.30153\",\n",
      "      \"commands\": \"cl\"\n",
      "    },\n",
      "    \"cython\": {\n",
      "      \"name\": \"cython\",\n",
      "      \"linker\": \"cython\",\n",
      "      \"version\": \"3.0.8\",\n",
      "      \"commands\": \"cython\"\n",
      "    },\n",
      "    \"c++\": {\n",
      "      \"name\": \"msvc\",\n",
      "      \"linker\": \"link\",\n",
      "      \"version\": \"19.29.30153\",\n",
      "      \"commands\": \"cl\"\n",
      "    }\n",
      "  },\n",
      "  \"Machine Information\": {\n",
      "    \"host\": {\n",
      "      \"cpu\": \"x86_64\",\n",
      "      \"family\": \"x86_64\",\n",
      "      \"endian\": \"little\",\n",
      "      \"system\": \"windows\"\n",
      "    },\n",
      "    \"build\": {\n",
      "      \"cpu\": \"x86_64\",\n",
      "      \"family\": \"x86_64\",\n",
      "      \"endian\": \"little\",\n",
      "      \"system\": \"windows\"\n",
      "    }\n",
      "  },\n",
      "  \"Build Dependencies\": {\n",
      "    \"blas\": {\n",
      "      \"name\": \"openblas64\",\n",
      "      \"found\": true,\n",
      "      \"version\": \"0.3.23.dev\",\n",
      "      \"detection method\": \"pkgconfig\",\n",
      "      \"include directory\": \"/c/opt/64/include\",\n",
      "      \"lib directory\": \"/c/opt/64/lib\",\n",
      "      \"openblas configuration\": \"USE_64BITINT=1 DYNAMIC_ARCH=1 DYNAMIC_OLDER= NO_CBLAS= NO_LAPACK= NO_LAPACKE= NO_AFFINITY=1 USE_OPENMP= SKYLAKEX MAX_THREADS=2\",\n",
      "      \"pc file directory\": \"C:/opt/64/lib/pkgconfig\"\n",
      "    },\n",
      "    \"lapack\": {\n",
      "      \"name\": \"dep2270588361616\",\n",
      "      \"found\": true,\n",
      "      \"version\": \"1.26.4\",\n",
      "      \"detection method\": \"internal\",\n",
      "      \"include directory\": \"unknown\",\n",
      "      \"lib directory\": \"unknown\",\n",
      "      \"openblas configuration\": \"unknown\",\n",
      "      \"pc file directory\": \"unknown\"\n",
      "    }\n",
      "  },\n",
      "  \"Python Information\": {\n",
      "    \"path\": \"C:\\\\Users\\\\runneradmin\\\\AppData\\\\Local\\\\Temp\\\\cibw-run-j442zwj6\\\\cp311-win_amd64\\\\build\\\\venv\\\\Scripts\\\\python.exe\",\n",
      "    \"version\": \"3.11\"\n",
      "  },\n",
      "  \"SIMD Extensions\": {\n",
      "    \"baseline\": [\n",
      "      \"SSE\",\n",
      "      \"SSE2\",\n",
      "      \"SSE3\"\n",
      "    ],\n",
      "    \"found\": [\n",
      "      \"SSSE3\",\n",
      "      \"SSE41\",\n",
      "      \"POPCNT\",\n",
      "      \"SSE42\",\n",
      "      \"AVX\",\n",
      "      \"F16C\",\n",
      "      \"FMA3\",\n",
      "      \"AVX2\"\n",
      "    ],\n",
      "    \"not found\": [\n",
      "      \"AVX512F\",\n",
      "      \"AVX512CD\",\n",
      "      \"AVX512_SKX\",\n",
      "      \"AVX512_CLX\",\n",
      "      \"AVX512_CNL\",\n",
      "      \"AVX512_ICL\"\n",
      "    ]\n",
      "  }\n",
      "}\n",
      "None\n"
     ]
    },
    {
     "name": "stderr",
     "output_type": "stream",
     "text": [
      "C:\\Users\\HP\\AppData\\Local\\Packages\\PythonSoftwareFoundation.Python.3.11_qbz5n2kfra8p0\\LocalCache\\local-packages\\Python311\\site-packages\\numpy\\__config__.py:155: UserWarning: Install `pyyaml` for better output\n",
      "  warnings.warn(\"Install `pyyaml` for better output\", stacklevel=1)\n"
     ]
    }
   ],
   "source": [
    "import numpy as np\n",
    "\n",
    "print(\"NumPy Version:\", np.__version__)\n",
    "print(\"\\nNumPy Configuration:\")\n",
    "print(np.show_config())\n"
   ]
  },
  {
   "cell_type": "markdown",
   "metadata": {},
   "source": [
    "3. Create a null vector of size 10"
   ]
  },
  {
   "cell_type": "code",
   "execution_count": 3,
   "metadata": {},
   "outputs": [
    {
     "name": "stdout",
     "output_type": "stream",
     "text": [
      "[0. 0. 0. 0. 0. 0. 0. 0. 0. 0.]\n"
     ]
    }
   ],
   "source": [
    "import numpy as np\n",
    "\n",
    "null_vector = np.zeros(10)\n",
    "print(null_vector)\n"
   ]
  },
  {
   "cell_type": "markdown",
   "metadata": {},
   "source": [
    "4. How to find the memory size of any array"
   ]
  },
  {
   "cell_type": "code",
   "execution_count": 6,
   "metadata": {},
   "outputs": [
    {
     "name": "stdout",
     "output_type": "stream",
     "text": [
      "Memory size of the array: 96 bytes\n"
     ]
    }
   ],
   "source": [
    "import numpy as np\n",
    "\n",
    "# Create an example array\n",
    "arr = np.zeros((3, 4))\n",
    "\n",
    "# Find the memory size in bytes\n",
    "memory_size = arr.nbytes\n",
    "\n",
    "print(\"Memory size of the array:\", memory_size, \"bytes\")\n"
   ]
  },
  {
   "cell_type": "markdown",
   "metadata": {},
   "source": [
    "5. How to get the documentation of the numpy add function from the command line?"
   ]
  },
  {
   "cell_type": "code",
   "execution_count": null,
   "metadata": {},
   "outputs": [],
   "source": [
    "pydoc numpy.add\n"
   ]
  },
  {
   "cell_type": "markdown",
   "metadata": {},
   "source": [
    "6. Create a null vector of size 10 but the fifth value which is 1 "
   ]
  },
  {
   "cell_type": "code",
   "execution_count": 5,
   "metadata": {},
   "outputs": [
    {
     "name": "stdout",
     "output_type": "stream",
     "text": [
      "[0. 0. 0. 0. 1. 0. 0. 0. 0. 0.]\n"
     ]
    }
   ],
   "source": [
    "import numpy as np\n",
    "\n",
    "null_vector = np.zeros(10)\n",
    "null_vector[4] = 1  # Indexing starts from 0, so the fifth value has index 4\n",
    "print(null_vector)\n"
   ]
  },
  {
   "cell_type": "markdown",
   "metadata": {},
   "source": [
    "7. Create a vector with values ranging from 10 to 49"
   ]
  },
  {
   "cell_type": "code",
   "execution_count": 6,
   "metadata": {},
   "outputs": [
    {
     "name": "stdout",
     "output_type": "stream",
     "text": [
      "[10 11 12 13 14 15 16 17 18 19 20 21 22 23 24 25 26 27 28 29 30 31 32 33\n",
      " 34 35 36 37 38 39 40 41 42 43 44 45 46 47 48 49]\n"
     ]
    }
   ],
   "source": [
    "import numpy as np\n",
    "\n",
    "vector = np.arange(10, 50)\n",
    "print(vector)\n"
   ]
  },
  {
   "cell_type": "markdown",
   "metadata": {},
   "source": [
    "8. Reverse a vector (first element becomes last)"
   ]
  },
  {
   "cell_type": "code",
   "execution_count": 7,
   "metadata": {},
   "outputs": [
    {
     "name": "stdout",
     "output_type": "stream",
     "text": [
      "Original vector: [1 2 3 4 5]\n",
      "Reversed vector: [5 4 3 2 1]\n"
     ]
    }
   ],
   "source": [
    "import numpy as np\n",
    "\n",
    "# Create an example vector\n",
    "vector = np.array([1, 2, 3, 4, 5])\n",
    "\n",
    "# Reverse the vector\n",
    "reversed_vector = np.flip(vector)\n",
    "\n",
    "print(\"Original vector:\", vector)\n",
    "print(\"Reversed vector:\", reversed_vector)\n"
   ]
  },
  {
   "cell_type": "markdown",
   "metadata": {},
   "source": [
    "9. Create a 3x3 matrix with values ranging from 0 to 8"
   ]
  },
  {
   "cell_type": "code",
   "execution_count": null,
   "metadata": {},
   "outputs": [],
   "source": [
    "0 1 2\n",
    "3 4 5\n",
    "6 7 8\n"
   ]
  },
  {
   "cell_type": "markdown",
   "metadata": {},
   "source": [
    "10. Find indices of non-zero elements from [1,2,0,0,4,0]"
   ]
  },
  {
   "cell_type": "code",
   "execution_count": null,
   "metadata": {},
   "outputs": [],
   "source": [
    "\n",
    "The indices of the non-zero elements in the array [1, 2, 0, 0, 4, 0] are:\n",
    "\n",
    "1 (index 0)\n",
    "2 (index 1)\n",
    "4 (index 4)\n",
    "\n",
    "So, the indices are [0, 1, 4]."
   ]
  },
  {
   "cell_type": "markdown",
   "metadata": {},
   "source": [
    "11. An identity matrix is a square matrix in which all the elements of the principal diagonal are ones and all other elements are zeros. Here's a 3x3 identity matrix:"
   ]
  },
  {
   "cell_type": "code",
   "execution_count": null,
   "metadata": {},
   "outputs": [],
   "source": [
    "1 0 0\n",
    "0 1 0\n",
    "0 0 1\n"
   ]
  },
  {
   "cell_type": "markdown",
   "metadata": {},
   "source": [
    "12. Create a 3x3x3 array with random values"
   ]
  },
  {
   "cell_type": "code",
   "execution_count": 9,
   "metadata": {},
   "outputs": [
    {
     "name": "stdout",
     "output_type": "stream",
     "text": [
      "[[[0.37470863 0.64274376 0.89634793]\n",
      "  [0.95375535 0.86295522 0.35059506]\n",
      "  [0.01840845 0.35694524 0.19693194]]\n",
      "\n",
      " [[0.49678368 0.85324568 0.13136191]\n",
      "  [0.36304732 0.80009065 0.22041817]\n",
      "  [0.00592681 0.10950173 0.77017731]]\n",
      "\n",
      " [[0.00648927 0.31218225 0.22991855]\n",
      "  [0.56381713 0.06905077 0.35000862]\n",
      "  [0.58355258 0.57403203 0.44916165]]]\n"
     ]
    }
   ],
   "source": [
    "import numpy as np\n",
    "\n",
    "# Create a 3x3x3 array with random values\n",
    "array = np.random.rand(3, 3, 3)\n",
    "\n",
    "print(array)\n"
   ]
  },
  {
   "cell_type": "markdown",
   "metadata": {},
   "source": [
    "13. Create a 10x10 array with random values and find the minimum and maximum values "
   ]
  },
  {
   "cell_type": "code",
   "execution_count": 10,
   "metadata": {},
   "outputs": [
    {
     "name": "stdout",
     "output_type": "stream",
     "text": [
      "Minimum value: 0.010738816564993314\n",
      "Maximum value: 0.9902782768880924\n"
     ]
    }
   ],
   "source": [
    "import numpy as np\n",
    "\n",
    "# Create a 10x10 array with random values\n",
    "array = np.random.rand(10, 10)\n",
    "\n",
    "# Find the minimum and maximum values in the array\n",
    "min_value = np.min(array)\n",
    "max_value = np.max(array)\n",
    "\n",
    "print(\"Minimum value:\", min_value)\n",
    "print(\"Maximum value:\", max_value)\n"
   ]
  },
  {
   "cell_type": "markdown",
   "metadata": {},
   "source": [
    "14. Create a random vector of size 30 and find the mean value"
   ]
  },
  {
   "cell_type": "code",
   "execution_count": 11,
   "metadata": {},
   "outputs": [
    {
     "name": "stdout",
     "output_type": "stream",
     "text": [
      "Mean value: 0.45981970581381865\n"
     ]
    }
   ],
   "source": [
    "import numpy as np\n",
    "\n",
    "# Create a random vector of size 30\n",
    "random_vector = np.random.rand(30)\n",
    "\n",
    "# Calculate the mean value of the elements in the vector\n",
    "mean_value = np.mean(random_vector)\n",
    "\n",
    "print(\"Mean value:\", mean_value)\n"
   ]
  },
  {
   "cell_type": "markdown",
   "metadata": {},
   "source": [
    "15. Create a 2d array with 1 on the border and 0 inside"
   ]
  },
  {
   "cell_type": "code",
   "execution_count": 12,
   "metadata": {},
   "outputs": [
    {
     "name": "stdout",
     "output_type": "stream",
     "text": [
      "[[1 1 1 1 1]\n",
      " [1 0 0 0 1]\n",
      " [1 0 0 0 1]\n",
      " [1 0 0 0 1]\n",
      " [1 1 1 1 1]]\n"
     ]
    }
   ],
   "source": [
    "import numpy as np\n",
    "\n",
    "# Define the dimensions of the array\n",
    "rows = 5\n",
    "cols = 5\n",
    "\n",
    "# Create an empty array filled with zeros\n",
    "array = np.zeros((rows, cols), dtype=int)\n",
    "\n",
    "# Set the border elements to 1\n",
    "array[0, :] = 1  # Top row\n",
    "array[:, 0] = 1  # Leftmost column\n",
    "array[-1, :] = 1  # Bottom row\n",
    "array[:, -1] = 1  # Rightmost column\n",
    "\n",
    "print(array)\n"
   ]
  },
  {
   "cell_type": "markdown",
   "metadata": {},
   "source": [
    "16. How to add a border (filled with 0's) around an existing array?"
   ]
  },
  {
   "cell_type": "code",
   "execution_count": 13,
   "metadata": {},
   "outputs": [
    {
     "name": "stdout",
     "output_type": "stream",
     "text": [
      "Existing Array:\n",
      "[[1 2 3]\n",
      " [4 5 6]\n",
      " [7 8 9]]\n",
      "\n",
      "Array with Border:\n",
      "[[0 0 0 0 0]\n",
      " [0 1 2 3 0]\n",
      " [0 4 5 6 0]\n",
      " [0 7 8 9 0]\n",
      " [0 0 0 0 0]]\n"
     ]
    }
   ],
   "source": [
    "import numpy as np\n",
    "\n",
    "# Example existing array\n",
    "existing_array = np.array([[1, 2, 3],\n",
    "                           [4, 5, 6],\n",
    "                           [7, 8, 9]])\n",
    "\n",
    "# Determine the dimensions of the new array with the border\n",
    "new_rows = existing_array.shape[0] + 2  # Add 2 for the top and bottom borders\n",
    "new_cols = existing_array.shape[1] + 2  # Add 2 for the left and right borders\n",
    "\n",
    "# Create a new array filled with zeros\n",
    "new_array = np.zeros((new_rows, new_cols), dtype=existing_array.dtype)\n",
    "\n",
    "# Place the existing array in the center of the new array\n",
    "new_array[1:-1, 1:-1] = existing_array\n",
    "\n",
    "print(\"Existing Array:\")\n",
    "print(existing_array)\n",
    "print(\"\\nArray with Border:\")\n",
    "print(new_array)\n"
   ]
  },
  {
   "cell_type": "markdown",
   "metadata": {},
   "source": [
    "17. What is the result of the following expression? (★☆☆)\n",
    "0 * np.nan\n",
    "np.nan == np.nan\n",
    "np.inf > np.nan\n",
    "np.nan - np.nan\n",
    "np.nan in set([np.nan])\n",
    "0.3 == 3 * 0.1"
   ]
  },
  {
   "cell_type": "code",
   "execution_count": null,
   "metadata": {},
   "outputs": [],
   "source": [
    "0 * np.nan = nan\n",
    "np.nan == np.nan = False\n",
    "np.inf > np.nan = False\n",
    "np.nan - np.nan = nan\n",
    "np.nan in set([np.nan]) = True\n",
    "0.3 == 3 * 0.1 = False"
   ]
  },
  {
   "cell_type": "markdown",
   "metadata": {},
   "source": [
    "You can achieve this by creating a 5x5 matrix filled with zeros and then setting the values just below the diagonal to 1, 2, 3, 4. Here's how you can do it:"
   ]
  },
  {
   "cell_type": "code",
   "execution_count": 14,
   "metadata": {},
   "outputs": [
    {
     "name": "stdout",
     "output_type": "stream",
     "text": [
      "[[0 0 0 0 0]\n",
      " [1 0 0 0 0]\n",
      " [0 2 0 0 0]\n",
      " [0 0 3 0 0]\n",
      " [0 0 0 4 0]]\n"
     ]
    }
   ],
   "source": [
    "import numpy as np\n",
    "\n",
    "# Create a 5x5 matrix filled with zeros\n",
    "matrix = np.zeros((5, 5), dtype=int)\n",
    "\n",
    "# Set values 1, 2, 3, 4 just below the diagonal\n",
    "np.fill_diagonal(matrix[1:], [1, 2, 3, 4])\n",
    "\n",
    "print(matrix)\n"
   ]
  },
  {
   "cell_type": "markdown",
   "metadata": {},
   "source": [
    "19. Create a 8x8 matrix and fill it with a checkerboard pattern"
   ]
  },
  {
   "cell_type": "code",
   "execution_count": 15,
   "metadata": {},
   "outputs": [
    {
     "name": "stdout",
     "output_type": "stream",
     "text": [
      "[[1 0 1 0 1 0 1 0]\n",
      " [0 1 0 1 0 1 0 1]\n",
      " [1 0 1 0 1 0 1 0]\n",
      " [0 1 0 1 0 1 0 1]\n",
      " [1 0 1 0 1 0 1 0]\n",
      " [0 1 0 1 0 1 0 1]\n",
      " [1 0 1 0 1 0 1 0]\n",
      " [0 1 0 1 0 1 0 1]]\n"
     ]
    }
   ],
   "source": [
    "import numpy as np\n",
    "\n",
    "# Create an 8x8 matrix filled with zeros\n",
    "matrix = np.zeros((8, 8), dtype=int)\n",
    "\n",
    "# Fill the even rows and columns with 1\n",
    "matrix[::2, ::2] = 1\n",
    "matrix[1::2, 1::2] = 1\n",
    "\n",
    "print(matrix)\n"
   ]
  },
  {
   "cell_type": "markdown",
   "metadata": {},
   "source": [
    "20. Consider a (6,7,8) shape array, what is the index (x,y,z) of the 100th element?"
   ]
  },
  {
   "cell_type": "code",
   "execution_count": 16,
   "metadata": {},
   "outputs": [
    {
     "name": "stdout",
     "output_type": "stream",
     "text": [
      "Index (x, y, z) of the 100th element: (1, 5, 3)\n"
     ]
    }
   ],
   "source": [
    "import numpy as np\n",
    "\n",
    "# Define the shape of the array\n",
    "shape = (6, 7, 8)\n",
    "\n",
    "# Total number of elements\n",
    "total_elements = np.prod(shape)\n",
    "\n",
    "# Find the index (x, y, z) of the 100th element\n",
    "index_1d = 99  # Since Python indexing starts from 0, the 100th element has index 99\n",
    "index_3d = np.unravel_index(index_1d, shape)\n",
    "\n",
    "print(\"Index (x, y, z) of the 100th element:\", index_3d)\n"
   ]
  },
  {
   "cell_type": "markdown",
   "metadata": {},
   "source": [
    "21. Create a checkerboard 8x8 matrix using the tile function"
   ]
  },
  {
   "cell_type": "code",
   "execution_count": 17,
   "metadata": {},
   "outputs": [
    {
     "name": "stdout",
     "output_type": "stream",
     "text": [
      "[[0 1 0 1 0 1 0 1]\n",
      " [1 0 1 0 1 0 1 0]\n",
      " [0 1 0 1 0 1 0 1]\n",
      " [1 0 1 0 1 0 1 0]\n",
      " [0 1 0 1 0 1 0 1]\n",
      " [1 0 1 0 1 0 1 0]\n",
      " [0 1 0 1 0 1 0 1]\n",
      " [1 0 1 0 1 0 1 0]]\n"
     ]
    }
   ],
   "source": [
    "import numpy as np\n",
    "\n",
    "# Define the checkerboard pattern\n",
    "checkerboard_pattern = np.array([[0, 1], [1, 0]])\n",
    "\n",
    "# Use np.tile to repeat the pattern to create an 8x8 matrix\n",
    "checkerboard = np.tile(checkerboard_pattern, (4, 4))\n",
    "\n",
    "print(checkerboard)\n"
   ]
  },
  {
   "cell_type": "markdown",
   "metadata": {},
   "source": [
    "22. Normalize a 5x5 random matrix "
   ]
  },
  {
   "cell_type": "code",
   "execution_count": 18,
   "metadata": {},
   "outputs": [
    {
     "name": "stdout",
     "output_type": "stream",
     "text": [
      "Original Matrix:\n",
      "[[0.21797289 0.6508912  0.36458192 0.96514361 0.122472  ]\n",
      " [0.89536369 0.69987527 0.00541703 0.59548987 0.35271127]\n",
      " [0.05294868 0.0415435  0.03573548 0.44902977 0.86675035]\n",
      " [0.61970048 0.53152124 0.26441185 0.79512052 0.88629294]\n",
      " [0.47271481 0.5474783  0.77079445 0.7135371  0.14318921]]\n",
      "\n",
      "Normalized Matrix:\n",
      "[[-0.87906448  0.55998442 -0.39172643  1.60458008 -1.19651571]\n",
      " [ 1.37262704  0.72281069 -1.58561413  0.37582675 -0.43118526]\n",
      " [-1.42761583 -1.46552739 -1.48483363 -0.11101624  1.27751441]\n",
      " [ 0.45630442  0.16319081 -0.72469833  1.03941215  1.34247528]\n",
      " [-0.03228561  0.21623314  0.95855069  0.76822352 -1.12765036]]\n"
     ]
    }
   ],
   "source": [
    "import numpy as np\n",
    "\n",
    "# Create a 5x5 random matrix\n",
    "random_matrix = np.random.rand(5, 5)\n",
    "\n",
    "# Calculate the mean and standard deviation of the matrix\n",
    "mean = np.mean(random_matrix)\n",
    "std_dev = np.std(random_matrix)\n",
    "\n",
    "# Normalize the matrix\n",
    "normalized_matrix = (random_matrix - mean) / std_dev\n",
    "\n",
    "print(\"Original Matrix:\")\n",
    "print(random_matrix)\n",
    "print(\"\\nNormalized Matrix:\")\n",
    "print(normalized_matrix)\n"
   ]
  },
  {
   "cell_type": "markdown",
   "metadata": {},
   "source": [
    "23. Create a custom dtype that describes a color as four unsigned bytes (RGBA) (★☆☆)\n"
   ]
  },
  {
   "cell_type": "code",
   "execution_count": 19,
   "metadata": {},
   "outputs": [
    {
     "name": "stdout",
     "output_type": "stream",
     "text": [
      "Custom RGBA dtype:\n",
      "[('R', 'u1'), ('G', 'u1'), ('B', 'u1'), ('A', 'u1')]\n"
     ]
    }
   ],
   "source": [
    "import numpy as np\n",
    "\n",
    "# Define the custom dtype for RGBA color\n",
    "rgba_dtype = np.dtype([('R', np.uint8),   # Red component\n",
    "                       ('G', np.uint8),   # Green component\n",
    "                       ('B', np.uint8),   # Blue component\n",
    "                       ('A', np.uint8)])  # Alpha component\n",
    "\n",
    "print(\"Custom RGBA dtype:\")\n",
    "print(rgba_dtype)\n"
   ]
  },
  {
   "cell_type": "markdown",
   "metadata": {},
   "source": [
    "24. Multiply a 5x3 matrix by a 3x2 matrix (real matrix product)"
   ]
  },
  {
   "cell_type": "code",
   "execution_count": 20,
   "metadata": {},
   "outputs": [
    {
     "name": "stdout",
     "output_type": "stream",
     "text": [
      "Result of matrix multiplication:\n",
      "[[0.27486479 0.18563832]\n",
      " [0.82527005 0.75903414]\n",
      " [1.28077513 1.00636163]\n",
      " [0.53926332 0.37220524]\n",
      " [0.80385999 0.47085905]]\n"
     ]
    }
   ],
   "source": [
    "import numpy as np\n",
    "\n",
    "# Create a 5x3 matrix\n",
    "matrix1 = np.random.rand(5, 3)\n",
    "\n",
    "# Create a 3x2 matrix\n",
    "matrix2 = np.random.rand(3, 2)\n",
    "\n",
    "# Perform matrix multiplication\n",
    "result = np.dot(matrix1, matrix2)  # or equivalently, matrix1 @ matrix2\n",
    "\n",
    "print(\"Result of matrix multiplication:\")\n",
    "print(result)\n"
   ]
  },
  {
   "cell_type": "markdown",
   "metadata": {},
   "source": [
    "25. Given a 1D array, negate all elements which are between 3 and 8, in place."
   ]
  },
  {
   "cell_type": "code",
   "execution_count": 21,
   "metadata": {},
   "outputs": [
    {
     "name": "stdout",
     "output_type": "stream",
     "text": [
      "Result: [ 1  2  3 -4 -5 -6 -7 -8 -9 10]\n"
     ]
    }
   ],
   "source": [
    "import numpy as np\n",
    "\n",
    "# Create a 1D array\n",
    "array = np.array([1, 2, 3, 4, 5, 6, 7, 8, 9, 10])\n",
    "\n",
    "# Negate elements between 3 and 8\n",
    "array[3:9] *= -1\n",
    "\n",
    "print(\"Result:\", array)\n"
   ]
  },
  {
   "cell_type": "markdown",
   "metadata": {},
   "source": [
    "26. What is the output of the following script? (★☆☆)\n",
    "# Author: Jake VanderPlas\n",
    "\n",
    "print(sum(range(5),-1))\n",
    "from numpy import *\n",
    "print(sum(range(5),-1))"
   ]
  },
  {
   "cell_type": "code",
   "execution_count": null,
   "metadata": {},
   "outputs": [],
   "source": [
    "9\n",
    "10\n"
   ]
  },
  {
   "cell_type": "markdown",
   "metadata": {},
   "source": [
    "User\n",
    "27. Consider an integer vector Z, which of these expressions are legal? (★☆☆)\n",
    "Z**Z\n",
    "2 << Z >> 2\n",
    "Z <- Z\n",
    "1j*Z\n",
    "Z/1/1\n",
    "Z<Z>Z"
   ]
  },
  {
   "cell_type": "code",
   "execution_count": null,
   "metadata": {},
   "outputs": [],
   "source": [
    "// the legal expressions are:\n",
    "\n",
    "Z**Z\n",
    "2 << Z >> 2\n",
    "Z <- Z\n",
    "1j*Z\n",
    "Z/1/1\n",
    "The illegal expression is:\n",
    "\n",
    "Z<Z>Z\n",
    "\n",
    "\n",
    "\n",
    "\n",
    "\n"
   ]
  },
  {
   "cell_type": "markdown",
   "metadata": {},
   "source": [
    "28. What are the result of the following expressions? (★☆☆)\n",
    "np.array(0) / np.array(0)\n",
    "np.array(0) // np.array(0)\n",
    "np.array([np.nan]).astype(int).astype(float)"
   ]
  },
  {
   "cell_type": "code",
   "execution_count": null,
   "metadata": {},
   "outputs": [],
   "source": [
    "So, the results of the expressions are:\n",
    "\n",
    "np.array(0) / np.array(0): nan\n",
    "np.array(0) // np.array(0): nan\n",
    "np.array([np.nan]).astype(int).astype(float): [0.]"
   ]
  },
  {
   "cell_type": "markdown",
   "metadata": {},
   "source": [
    "29. How to round away from zero a float array ?"
   ]
  },
  {
   "cell_type": "code",
   "execution_count": 23,
   "metadata": {},
   "outputs": [
    {
     "name": "stdout",
     "output_type": "stream",
     "text": [
      "Original array: [-1.5  2.3 -3.7  4.5]\n",
      "Rounded away from zero array: [-2.  3. -4.  5.]\n"
     ]
    }
   ],
   "source": [
    "import numpy as np\n",
    "\n",
    "# Example float array\n",
    "float_array = np.array([-1.5, 2.3, -3.7, 4.5])\n",
    "\n",
    "# Round away from zero\n",
    "rounded_array = np.where(float_array >= 0, np.ceil(float_array), np.floor(float_array))\n",
    "\n",
    "print(\"Original array:\", float_array)\n",
    "print(\"Rounded away from zero array:\", rounded_array)\n"
   ]
  },
  {
   "cell_type": "markdown",
   "metadata": {},
   "source": [
    "30. How to find common values between two arrays? (★☆☆)\n"
   ]
  },
  {
   "cell_type": "code",
   "execution_count": 24,
   "metadata": {},
   "outputs": [
    {
     "name": "stdout",
     "output_type": "stream",
     "text": [
      "Common values: [3 4 5]\n"
     ]
    }
   ],
   "source": [
    "import numpy as np\n",
    "\n",
    "# Example arrays\n",
    "array1 = np.array([1, 2, 3, 4, 5])\n",
    "array2 = np.array([3, 4, 5, 6, 7])\n",
    "\n",
    "# Find common values between the two arrays\n",
    "common_values = np.intersect1d(array1, array2)\n",
    "\n",
    "print(\"Common values:\", common_values)\n",
    "\n"
   ]
  },
  {
   "cell_type": "markdown",
   "metadata": {},
   "source": [
    "31. How to ignore all numpy warnings (not recommended)? (★☆☆)"
   ]
  },
  {
   "cell_type": "code",
   "execution_count": 25,
   "metadata": {},
   "outputs": [],
   "source": [
    "import numpy as np\n",
    "import warnings\n",
    "\n",
    "# Ignore all NumPy warnings\n",
    "warnings.filterwarnings('ignore', category=np.VisibleDeprecationWarning)\n"
   ]
  },
  {
   "cell_type": "markdown",
   "metadata": {},
   "source": [
    "32. Is the following expressions true? (★☆☆)\n",
    "np.sqrt(-1) == np.emath.sqrt(-1)"
   ]
  },
  {
   "cell_type": "code",
   "execution_count": null,
   "metadata": {},
   "outputs": [],
   "source": [
    "#No, the expression is not true.\n",
    "\n",
    "#NumPy's np.sqrt(-1) returns a runtime warning (RuntimeWarning: invalid value encountered in sqrt) \n",
    "#because it attempts to take the square root of a negative number, which is not a real number. Therefore, the result of np.sqrt(-1) is nan (not a number)."
   ]
  },
  {
   "cell_type": "markdown",
   "metadata": {},
   "source": [
    "33. How to get the dates of yesterday, today and tomorrow? (★☆☆)"
   ]
  },
  {
   "cell_type": "code",
   "execution_count": 26,
   "metadata": {},
   "outputs": [
    {
     "name": "stdout",
     "output_type": "stream",
     "text": [
      "Yesterday: 2024-02-07\n",
      "Today: 2024-02-08\n",
      "Tomorrow: 2024-02-09\n"
     ]
    }
   ],
   "source": [
    "from datetime import datetime, timedelta\n",
    "\n",
    "# Get today's date\n",
    "today = datetime.now().date()\n",
    "\n",
    "# Get yesterday's date\n",
    "yesterday = today - timedelta(days=1)\n",
    "\n",
    "# Get tomorrow's date\n",
    "tomorrow = today + timedelta(days=1)\n",
    "\n",
    "print(\"Yesterday:\", yesterday)\n",
    "print(\"Today:\", today)\n",
    "print(\"Tomorrow:\", tomorrow)\n"
   ]
  },
  {
   "cell_type": "markdown",
   "metadata": {},
   "source": [
    "34. How to get all the dates corresponding to the month of July 2016? (★★☆)"
   ]
  },
  {
   "cell_type": "code",
   "execution_count": 27,
   "metadata": {},
   "outputs": [
    {
     "name": "stdout",
     "output_type": "stream",
     "text": [
      "['2016-07-01', '2016-07-02', '2016-07-03', '2016-07-04', '2016-07-05', '2016-07-06', '2016-07-07', '2016-07-08', '2016-07-09', '2016-07-10', '2016-07-11', '2016-07-12', '2016-07-13', '2016-07-14', '2016-07-15', '2016-07-16', '2016-07-17', '2016-07-18', '2016-07-19', '2016-07-20', '2016-07-21', '2016-07-22', '2016-07-23', '2016-07-24', '2016-07-25', '2016-07-26', '2016-07-27', '2016-07-28', '2016-07-29', '2016-07-30', '2016-07-31']\n"
     ]
    }
   ],
   "source": [
    "import calendar\n",
    "\n",
    "def get_dates_july_2016():\n",
    "    # Get the number of days in July 2016\n",
    "    num_days = calendar.monthrange(2016, 7)[1]\n",
    "\n",
    "    # Generate dates for July 2016\n",
    "    dates = [f\"2016-07-{str(day).zfill(2)}\" for day in range(1, num_days + 1)]\n",
    "\n",
    "    return dates\n",
    "\n",
    "# Test the function\n",
    "dates_july_2016 = get_dates_july_2016()\n",
    "print(dates_july_2016)\n"
   ]
  },
  {
   "cell_type": "markdown",
   "metadata": {},
   "source": [
    "35. How to compute ((A+B)*(-A/2)) in place (without copy)? (★★☆)"
   ]
  },
  {
   "cell_type": "code",
   "execution_count": null,
   "metadata": {},
   "outputs": [],
   "source": [
    "import numpy as np\n",
    "\n",
    "def compute_in_place(A, B):\n",
    "    A += B  # Modify A in place by adding B\n",
    "    A *= -A/2  # Modify A in place by multiplying by -A/2\n",
    "\n",
    "# Example usage:\n",
    "A = np.array([1, 2, 3])\n",
    "B = np.array([4, 5, 6])\n",
    "\n",
    "compute_in_place(A, B)\n",
    "\n",
    "print(A)  # Output the result of ((A+B)*(-A/2))\n"
   ]
  },
  {
   "cell_type": "markdown",
   "metadata": {},
   "source": [
    "36. Extract the integer part of a random array of positive numbers using 4 different methods (★★☆)"
   ]
  },
  {
   "cell_type": "code",
   "execution_count": 29,
   "metadata": {},
   "outputs": [
    {
     "name": "stdout",
     "output_type": "stream",
     "text": [
      "Original Array: [7.11736064 7.55789527 0.18604182 9.32619261 2.92098542]\n",
      "Integer part (Method 1): [7 7 0 9 2]\n",
      "Integer part (Method 2): [7. 7. 0. 9. 2.]\n",
      "Integer part (Method 3): [7 7 0 9 2]\n",
      "Integer part (Method 4): [7 7 0 9 2]\n"
     ]
    }
   ],
   "source": [
    "import numpy as np\n",
    "\n",
    "# Generate a random array of positive numbers\n",
    "random_array = np.random.rand(5) * 10  # Generating numbers between 0 and 10\n",
    "\n",
    "# Method 1: Using astype method\n",
    "integer_part_1 = random_array.astype(int)\n",
    "\n",
    "# Method 2: Using floor function\n",
    "integer_part_2 = np.floor(random_array)\n",
    "\n",
    "# Method 3: Using integer division followed by multiplication\n",
    "integer_part_3 = (random_array // 1).astype(int)\n",
    "\n",
    "# Method 4: Using trunc function\n",
    "integer_part_4 = np.trunc(random_array).astype(int)\n",
    "\n",
    "print(\"Original Array:\", random_array)\n",
    "print(\"Integer part (Method 1):\", integer_part_1)\n",
    "print(\"Integer part (Method 2):\", integer_part_2)\n",
    "print(\"Integer part (Method 3):\", integer_part_3)\n",
    "print(\"Integer part (Method 4):\", integer_part_4)\n"
   ]
  },
  {
   "cell_type": "markdown",
   "metadata": {},
   "source": [
    "37. Create a 5x5 matrix with row values ranging from 0 to 4 (★★☆)"
   ]
  },
  {
   "cell_type": "code",
   "execution_count": 30,
   "metadata": {},
   "outputs": [
    {
     "name": "stdout",
     "output_type": "stream",
     "text": [
      "[[0 1 2 3 4]\n",
      " [0 1 2 3 4]\n",
      " [0 1 2 3 4]\n",
      " [0 1 2 3 4]\n",
      " [0 1 2 3 4]]\n"
     ]
    }
   ],
   "source": [
    "import numpy as np\n",
    "\n",
    "# Create a 1D array ranging from 0 to 4\n",
    "row_values = np.arange(5)\n",
    "\n",
    "# Use broadcasting to create the 5x5 matrix\n",
    "matrix = np.tile(row_values, (5, 1))\n",
    "\n",
    "print(matrix)\n"
   ]
  },
  {
   "cell_type": "markdown",
   "metadata": {},
   "source": [
    "38. Consider a generator function that generates 10 integers and use it to build an array (★☆☆)"
   ]
  },
  {
   "cell_type": "code",
   "execution_count": 31,
   "metadata": {},
   "outputs": [
    {
     "name": "stdout",
     "output_type": "stream",
     "text": [
      "[0 1 2 3 4 5 6 7 8 9]\n"
     ]
    }
   ],
   "source": [
    "import numpy as np\n",
    "\n",
    "# Define the generator function\n",
    "def generate_integers():\n",
    "    for i in range(10):\n",
    "        yield i\n",
    "\n",
    "# Use the generator function to build an array\n",
    "array_from_generator = np.fromiter(generate_integers(), dtype=int)\n",
    "\n",
    "print(array_from_generator)\n"
   ]
  },
  {
   "cell_type": "markdown",
   "metadata": {},
   "source": [
    "39. Create a vector of size 10 with values ranging from 0 to 1, both excluded (★★☆)"
   ]
  },
  {
   "cell_type": "code",
   "execution_count": 32,
   "metadata": {},
   "outputs": [
    {
     "name": "stdout",
     "output_type": "stream",
     "text": [
      "[0.08333333 0.16666667 0.25       0.33333333 0.41666667 0.5\n",
      " 0.58333333 0.66666667 0.75       0.83333333]\n"
     ]
    }
   ],
   "source": [
    "import numpy as np\n",
    "\n",
    "# Create a vector of size 10 with values ranging from 0 to 1 (both excluded)\n",
    "vector = np.linspace(0, 1, 12, endpoint=False)[1:-1]\n",
    "\n",
    "print(vector)\n"
   ]
  },
  {
   "cell_type": "markdown",
   "metadata": {},
   "source": [
    "40. Create a random vector of size 10 and sort it (★★☆)"
   ]
  },
  {
   "cell_type": "code",
   "execution_count": 33,
   "metadata": {},
   "outputs": [
    {
     "name": "stdout",
     "output_type": "stream",
     "text": [
      "Random Vector: [0.19695886 0.5080267  0.17802855 0.71808242 0.55912696 0.41246088\n",
      " 0.74245844 0.96650049 0.46373465 0.7233828 ]\n",
      "Sorted Vector: [0.17802855 0.19695886 0.41246088 0.46373465 0.5080267  0.55912696\n",
      " 0.71808242 0.7233828  0.74245844 0.96650049]\n"
     ]
    }
   ],
   "source": [
    "import numpy as np\n",
    "\n",
    "# Create a random vector of size 10\n",
    "random_vector = np.random.rand(10)\n",
    "\n",
    "# Sort the random vector\n",
    "sorted_vector = np.sort(random_vector)\n",
    "\n",
    "print(\"Random Vector:\", random_vector)\n",
    "print(\"Sorted Vector:\", sorted_vector)\n"
   ]
  },
  {
   "cell_type": "markdown",
   "metadata": {},
   "source": [
    "41. How to sum a small array faster than np.sum? (★★☆)\n"
   ]
  },
  {
   "cell_type": "code",
   "execution_count": 34,
   "metadata": {},
   "outputs": [
    {
     "name": "stdout",
     "output_type": "stream",
     "text": [
      "Sum using np.sum: 15\n",
      "Sum using built-in sum function: 15\n"
     ]
    }
   ],
   "source": [
    "import numpy as np\n",
    "\n",
    "# Define a small array\n",
    "small_array = np.array([1, 2, 3, 4, 5])\n",
    "\n",
    "# Sum the small array using np.sum\n",
    "sum_np = np.sum(small_array)\n",
    "\n",
    "# Sum the small array using the built-in sum function\n",
    "sum_builtin = sum(small_array)\n",
    "\n",
    "print(\"Sum using np.sum:\", sum_np)\n",
    "print(\"Sum using built-in sum function:\", sum_builtin)\n"
   ]
  },
  {
   "cell_type": "markdown",
   "metadata": {},
   "source": [
    "42. Consider two random array A and B, check if they are equal (★★☆)"
   ]
  },
  {
   "cell_type": "code",
   "execution_count": 35,
   "metadata": {},
   "outputs": [
    {
     "name": "stdout",
     "output_type": "stream",
     "text": [
      "Array A: [0.71960833 0.70029731 0.0666741  0.5541978  0.26424605]\n",
      "Array B: [0.25593324 0.84915542 0.69033575 0.75260742 0.66657497]\n",
      "Are arrays A and B equal? False\n"
     ]
    }
   ],
   "source": [
    "import numpy as np\n",
    "\n",
    "# Generate random arrays A and B\n",
    "A = np.random.rand(5)\n",
    "B = np.random.rand(5)\n",
    "\n",
    "# Check if arrays A and B are equal\n",
    "are_equal = np.array_equal(A, B)\n",
    "\n",
    "print(\"Array A:\", A)\n",
    "print(\"Array B:\", B)\n",
    "print(\"Are arrays A and B equal?\", are_equal)\n"
   ]
  },
  {
   "cell_type": "markdown",
   "metadata": {},
   "source": [
    "43. Make an array immutable (read-only) (★★☆)"
   ]
  },
  {
   "cell_type": "code",
   "execution_count": 36,
   "metadata": {},
   "outputs": [
    {
     "name": "stdout",
     "output_type": "stream",
     "text": [
      "Error: assignment destination is read-only\n"
     ]
    }
   ],
   "source": [
    "import numpy as np\n",
    "\n",
    "# Create a NumPy array\n",
    "my_array = np.array([1, 2, 3, 4, 5])\n",
    "\n",
    "# Make the array immutable\n",
    "my_array.flags.writeable = False\n",
    "\n",
    "# Try to modify the array (this will raise an error)\n",
    "try:\n",
    "    my_array[0] = 10\n",
    "except ValueError as e:\n",
    "    print(\"Error:\", e)\n"
   ]
  },
  {
   "cell_type": "markdown",
   "metadata": {},
   "source": [
    "44. Consider a random 10x2 matrix representing cartesian coordinates, convert them to polar coordinates (★★☆)"
   ]
  },
  {
   "cell_type": "code",
   "execution_count": 37,
   "metadata": {},
   "outputs": [
    {
     "name": "stdout",
     "output_type": "stream",
     "text": [
      "Cartesian Coordinates:\n",
      "[[0.7646223  0.62061634]\n",
      " [0.94098682 0.23381648]\n",
      " [0.06281167 0.04387085]\n",
      " [0.36957174 0.08584005]\n",
      " [0.58527885 0.8033492 ]\n",
      " [0.61477583 0.32981731]\n",
      " [0.05237981 0.38409672]\n",
      " [0.05483579 0.01440031]\n",
      " [0.28562613 0.80026486]\n",
      " [0.5992205  0.49339243]]\n",
      "\n",
      "Polar Coordinates:\n",
      "[[9.84790284e-01 3.90649924e+01]\n",
      " [9.69601122e-01 1.39542521e+01]\n",
      " [7.66156499e-02 3.49323986e+01]\n",
      " [3.79409782e-01 1.30761746e+01]\n",
      " [9.93942284e-01 5.39248469e+01]\n",
      " [6.97659504e-01 2.82128398e+01]\n",
      " [3.87651822e-01 8.22343965e+01]\n",
      " [5.66950853e-02 1.47140889e+01]\n",
      " [8.49709441e-01 7.03577807e+01]\n",
      " [7.76209573e-01 3.94677151e+01]]\n"
     ]
    }
   ],
   "source": [
    "import numpy as np\n",
    "\n",
    "# Generate random cartesian coordinates (10x2 matrix)\n",
    "cartesian_coordinates = np.random.rand(10, 2)\n",
    "\n",
    "# Extract x and y coordinates\n",
    "x = cartesian_coordinates[:, 0]\n",
    "y = cartesian_coordinates[:, 1]\n",
    "\n",
    "# Convert cartesian coordinates to polar coordinates\n",
    "r = np.sqrt(x**2 + y**2)  # Compute radius\n",
    "theta = np.arctan2(y, x)  # Compute angle (in radians)\n",
    "\n",
    "# Convert angle to degrees\n",
    "theta_degrees = np.degrees(theta)\n",
    "\n",
    "# Combine radius and angle to get polar coordinates\n",
    "polar_coordinates = np.column_stack((r, theta_degrees))\n",
    "\n",
    "print(\"Cartesian Coordinates:\")\n",
    "print(cartesian_coordinates)\n",
    "print(\"\\nPolar Coordinates:\")\n",
    "print(polar_coordinates)\n"
   ]
  },
  {
   "cell_type": "markdown",
   "metadata": {},
   "source": [
    "45. Create random vector of size 10 and replace the maximum value by 0 (★★☆)"
   ]
  },
  {
   "cell_type": "code",
   "execution_count": 38,
   "metadata": {},
   "outputs": [
    {
     "name": "stdout",
     "output_type": "stream",
     "text": [
      "Random Vector with Maximum Value Replaced by 0:\n",
      "[0.06074258 0.56724974 0.53211445 0.81723521 0.8127571  0.79379437\n",
      " 0.12177942 0.38671997 0.31046757 0.        ]\n"
     ]
    }
   ],
   "source": [
    "import numpy as np\n",
    "\n",
    "# Create a random vector of size 10\n",
    "random_vector = np.random.rand(10)\n",
    "\n",
    "# Find the index of the maximum value in the vector\n",
    "max_index = np.argmax(random_vector)\n",
    "\n",
    "# Replace the maximum value with 0\n",
    "random_vector[max_index] = 0\n",
    "\n",
    "print(\"Random Vector with Maximum Value Replaced by 0:\")\n",
    "print(random_vector)\n"
   ]
  },
  {
   "cell_type": "markdown",
   "metadata": {},
   "source": [
    "46. Create a structured array with x and y coordinates covering the [0,1]x[0,1] area (★★☆)"
   ]
  },
  {
   "cell_type": "code",
   "execution_count": null,
   "metadata": {},
   "outputs": [],
   "source": [
    "import numpy as np\n",
    "\n",
    "# Define the number of points in each dimension\n",
    "num_points = 5  # You can adjust this as needed\n",
    "\n",
    "# Create a structured array with x and y coordinates\n",
    "structured_array = np.zeros(num_points*num_points, dtype=[('x', float), ('y', float)])\n",
    "\n",
    "# Fill in the x and y coordinates\n",
    "structured_array['x'], structured_array['y'] = np.meshgrid(np.linspace(0, 1, num_points), np.linspace(0, 1, num_points))\n",
    "\n",
    "print(structured_array)\n"
   ]
  },
  {
   "cell_type": "markdown",
   "metadata": {},
   "source": [
    "47. Given two arrays, X and Y, construct the Cauchy matrix C (Cij =1/(xi - yj))"
   ]
  },
  {
   "cell_type": "code",
   "execution_count": 40,
   "metadata": {},
   "outputs": [
    {
     "name": "stdout",
     "output_type": "stream",
     "text": [
      "Cauchy Matrix C:\n",
      "[[-0.25       -0.2        -0.16666667]\n",
      " [-0.33333333 -0.25       -0.2       ]\n",
      " [-0.5        -0.33333333 -0.25      ]\n",
      " [-1.         -0.5        -0.33333333]]\n"
     ]
    }
   ],
   "source": [
    "import numpy as np\n",
    "\n",
    "# Define arrays X and Y\n",
    "X = np.array([1, 2, 3, 4])\n",
    "Y = np.array([5, 6, 7])\n",
    "\n",
    "# Construct the Cauchy matrix C\n",
    "C = 1.0 / (X[:, np.newaxis] - Y)\n",
    "\n",
    "print(\"Cauchy Matrix C:\")\n",
    "print(C)\n"
   ]
  },
  {
   "cell_type": "markdown",
   "metadata": {},
   "source": [
    "48. Print the minimum and maximum representable value for each numpy scalar type "
   ]
  },
  {
   "cell_type": "code",
   "execution_count": 42,
   "metadata": {},
   "outputs": [
    {
     "name": "stdout",
     "output_type": "stream",
     "text": [
      "Integer types:\n",
      "int8  : min=-128, max=127\n",
      "int16 : min=-32768, max=32767\n",
      "int32 : min=-2147483648, max=2147483647\n",
      "int64 : min=-9223372036854775808, max=9223372036854775807\n",
      "\n",
      "Unsigned integer types:\n",
      "uint8 : min=0, max=255\n",
      "uint16: min=0, max=65535\n",
      "uint32: min=0, max=4294967295\n",
      "uint64: min=0, max=18446744073709551615\n"
     ]
    }
   ],
   "source": [
    "import numpy as np\n",
    "\n",
    "# Integer types\n",
    "print(\"Integer types:\")\n",
    "for dtype in [np.int8, np.int16, np.int32, np.int64]:\n",
    "    info = np.iinfo(dtype)\n",
    "    print(f\"{dtype.__name__:6}: min={info.min}, max={info.max}\")\n",
    "\n",
    "# Unsigned integer types\n",
    "print(\"\\nUnsigned integer types:\")\n",
    "for dtype in [np.uint8, np.uint16, np.uint32, np.uint64]:\n",
    "    info = np.iinfo(dtype)\n",
    "    print(f\"{dtype.__name__:6}: min={info.min}, max={info.max}\")\n",
    "\n",
    "\n"
   ]
  },
  {
   "cell_type": "markdown",
   "metadata": {},
   "source": [
    "49. How to print all the values of an array? (★★☆)"
   ]
  },
  {
   "cell_type": "code",
   "execution_count": 43,
   "metadata": {},
   "outputs": [
    {
     "name": "stdout",
     "output_type": "stream",
     "text": [
      "[[ 0  1  2  3  4]\n",
      " [ 5  6  7  8  9]\n",
      " [10 11 12 13 14]\n",
      " [15 16 17 18 19]\n",
      " [20 21 22 23 24]]\n"
     ]
    }
   ],
   "source": [
    "import numpy as np\n",
    "\n",
    "# Create a NumPy array\n",
    "array = np.arange(25).reshape(5, 5)\n",
    "\n",
    "# Adjust NumPy printing options to display the entire array\n",
    "np.set_printoptions(threshold=np.inf)\n",
    "\n",
    "# Print the entire array\n",
    "print(array)\n"
   ]
  },
  {
   "cell_type": "markdown",
   "metadata": {},
   "source": [
    "50. How to find the closest value (to a given scalar) in a vector? "
   ]
  },
  {
   "cell_type": "code",
   "execution_count": 45,
   "metadata": {},
   "outputs": [
    {
     "name": "stdout",
     "output_type": "stream",
     "text": [
      "Closest value to 6 in the vector is: 5\n"
     ]
    }
   ],
   "source": [
    "import numpy as np\n",
    "\n",
    "# Define your vector\n",
    "vector = np.array([1, 3, 5, 7, 9])\n",
    "\n",
    "# Given scalar\n",
    "scalar = 6\n",
    "\n",
    "# Find index of closest value\n",
    "index = np.abs(vector - scalar).argmin()\n",
    "\n",
    "# Retrieve closest value\n",
    "closest_value = vector[index]\n",
    "\n",
    "print(\"Closest value to\", scalar, \"in the vector is:\", closest_value)\n"
   ]
  },
  {
   "cell_type": "markdown",
   "metadata": {},
   "source": [
    "51. Create a structured array representing a position (x,y) and a color (r,g,b) (★★☆)"
   ]
  },
  {
   "cell_type": "code",
   "execution_count": null,
   "metadata": {},
   "outputs": [],
   "source": [
    "import numpy as np\n",
    "\n",
    "# Define the dtype for the structured array\n",
    "dtype = [('position', [('x', float), ('y', float)]),\n",
    "         ('color', [('r', int), ('g', int), ('b', int)])]\n",
    "\n",
    "# Create an empty structured array with the defined dtype\n",
    "structured_array = np.empty(1, dtype=dtype)\n",
    "\n",
    "# Assign values to the structured array\n",
    "structured_array['position']['x'] = 10.0\n",
    "structured_array['position']['y'] = 20.0\n",
    "structured_array['color']['r'] = 255\n",
    "structured_array['color']['g'] = 0\n",
    "structured_array['color']['b'] = 0\n",
    "\n",
    "print(structured_array)\n"
   ]
  },
  {
   "cell_type": "markdown",
   "metadata": {},
   "source": [
    "52. Consider a random vector with shape (100,2) representing coordinates, find point by point distances "
   ]
  },
  {
   "cell_type": "code",
   "execution_count": 46,
   "metadata": {},
   "outputs": [
    {
     "name": "stdout",
     "output_type": "stream",
     "text": [
      "[[0.         0.58197943 0.2191109  0.33027779 0.42693915 0.57402504\n",
      "  0.36110443 0.32211422 0.31396545 0.53868493 0.60740015 0.46381249\n",
      "  0.47834692 0.09209082 0.47843914 0.26016929 0.23735515 0.52583187\n",
      "  0.38335116 0.14337787 0.21110003 0.57913241 0.40283617 0.42078131\n",
      "  0.62830886 0.57402378 0.305661   0.51486798 0.51332335 0.22528811\n",
      "  0.33351213 0.17314846 0.25389969 0.50848899 0.39310565 0.59319769\n",
      "  0.43345348 0.3718934  0.29450246 0.46770434 0.38251076 0.26426468\n",
      "  0.46670553 0.18755242 0.45853248 0.18173541 0.53536304 0.16537762\n",
      "  0.2075269  0.09074283 0.53714814 0.4429154  0.21561057 0.44548956\n",
      "  0.31024389 0.20232218 0.19783981 0.41439256 0.44092868 0.33302029\n",
      "  0.34369133 0.23184005 0.40106517 0.31764006 0.18190834 0.32157812\n",
      "  0.37803475 0.36362057 0.15685127 0.56975886 0.60058317 0.2028228\n",
      "  0.19059625 0.52161828 0.38777248 0.47573827 0.49293109 0.09191859\n",
      "  0.4021448  0.27378528 0.03624437 0.3616909  0.15418716 0.08448947\n",
      "  0.34665029 0.45152251 0.34131553 0.40124048 0.47225232 0.2732581\n",
      "  0.29255016 0.49441874 0.4823164  0.49230774 0.70505998 0.37459905\n",
      "  0.41920817 0.22279241 0.37383139 0.40876739]\n",
      " [0.58197943 0.         0.69989674 0.85947384 0.8636593  1.15345503\n",
      "  0.88205504 0.81183797 0.48458375 0.85817359 0.90213019 0.67669031\n",
      "  1.05292079 0.638963   0.963771   0.56293606 0.80868405 0.92988337\n",
      "  0.20204665 0.64332056 0.61895372 0.74568875 0.3120299  0.17649269\n",
      "  0.83713468 0.85158611 0.88745029 0.8700537  0.23306555 0.77529777\n",
      "  0.86314351 0.72869433 0.57116067 0.59897634 0.18894798 0.01402304\n",
      "  0.95272684 0.25532087 0.38184156 0.51824405 0.89343619 0.39142675\n",
      "  1.04618018 0.57985931 0.83019057 0.72273097 0.93536443 0.56566994\n",
      "  0.5457819  0.66447887 0.04825708 0.92054326 0.42236267 0.99829921\n",
      "  0.79898816 0.43872387 0.75246583 0.96683683 0.19424496 0.28523741\n",
      "  0.49795135 0.80526963 0.34786683 0.8576844  0.68358791 0.49597863\n",
      "  0.80781235 0.94151719 0.73465879 0.83964028 0.91906319 0.73914109\n",
      "  0.51246686 0.26032716 0.96467253 1.05586819 1.05068029 0.67292522\n",
      "  0.97961862 0.39795851 0.55851285 0.89537838 0.47624353 0.50105853\n",
      "  0.30786319 0.13244238 0.76255385 0.74920025 0.95826655 0.79402513\n",
      "  0.64657884 0.08906682 0.77134909 0.90218614 0.9131434  0.95512747\n",
      "  1.00068008 0.70736822 0.493513   0.85238015]\n",
      " [0.2191109  0.69989674 0.         0.16206136 0.20846772 0.55421076\n",
      "  0.18229816 0.4734468  0.26954232 0.73109793 0.80090348 0.67872441\n",
      "  0.48945276 0.2784147  0.27563864 0.17236565 0.3131936  0.69207075\n",
      "  0.52414733 0.07714886 0.08939715 0.79366101 0.59490634 0.52386033\n",
      "  0.44293726 0.3736496  0.30438672 0.30046171 0.55933873 0.34619986\n",
      "  0.44850526 0.30726037 0.1610612  0.39543381 0.52006208 0.70824564\n",
      "  0.54009091 0.54308117 0.33022572 0.68529088 0.19410951 0.46452895\n",
      "  0.4580854  0.12196153 0.24411464 0.08342762 0.70229564 0.13423648\n",
      "  0.160793   0.16019847 0.65177784 0.23541496 0.41826325 0.30616733\n",
      "  0.46477702 0.26119914 0.11339154 0.4838038  0.60335858 0.50661376\n",
      "  0.28364997 0.18275557 0.41525575 0.16601882 0.0386009  0.26741106\n",
      "  0.55181312 0.29879222 0.17196922 0.77083594 0.78869325 0.34846165\n",
      "  0.18866781 0.70447938 0.40422595 0.46176947 0.54155086 0.1860631\n",
      "  0.32956773 0.47698747 0.25385077 0.19797838 0.22800545 0.28037916\n",
      "  0.53244166 0.5690026  0.12481311 0.5991893  0.60065938 0.41189397\n",
      "  0.5017689  0.62134574 0.68568949 0.65969554 0.90994264 0.32474168\n",
      "  0.37251284 0.40139199 0.31210202 0.57149826]\n",
      " [0.33027779 0.85947384 0.16206136 0.         0.1742688  0.43245311\n",
      "  0.03282415 0.48305315 0.42630013 0.76303925 0.83169664 0.74999474\n",
      "  0.3926069  0.35214048 0.16005067 0.32844404 0.29993367 0.6969825\n",
      "  0.67826101 0.21836973 0.25011641 0.86103871 0.73022383 0.68406023\n",
      "  0.49683431 0.40882639 0.23582903 0.30567381 0.720724   0.35552122\n",
      "  0.43262267 0.33715969 0.31738484 0.51875225 0.67692288 0.86820956\n",
      "  0.5059149  0.68827063 0.49228584 0.78934901 0.0591323  0.59346973\n",
      "  0.35185806 0.28398556 0.26087487 0.14941839 0.70734271 0.29475242\n",
      "  0.3227094  0.24344096 0.81152284 0.13759992 0.54509697 0.14509241\n",
      "  0.47818276 0.42114672 0.13486096 0.42851969 0.75233384 0.65040771\n",
      "  0.43626723 0.1457264  0.57545944 0.0259879  0.17621946 0.4224249\n",
      "  0.57358299 0.18173221 0.20122904 0.81324009 0.81306508 0.37525023\n",
      "  0.35032355 0.8456494  0.32339624 0.35164001 0.46467869 0.25681779\n",
      "  0.19995161 0.60368782 0.36624609 0.03601054 0.38409935 0.40823668\n",
      "  0.67091339 0.7278358  0.17776999 0.64449135 0.57809097 0.42041587\n",
      "  0.56890107 0.77913615 0.73460483 0.66759533 0.95472514 0.21244384\n",
      "  0.25304455 0.44426486 0.46241185 0.58114574]\n",
      " [0.42693915 0.8636593  0.20846772 0.1742688  0.         0.59141891\n",
      "  0.15382165 0.64364905 0.38608086 0.91695674 0.9864961  0.88134908\n",
      "  0.5631677  0.47758399 0.11828652 0.30072377 0.46438369 0.86112286\n",
      "  0.70696166 0.28555876 0.25721859 0.99549288 0.79666733 0.68836191\n",
      "  0.33163556 0.23955286 0.40965501 0.13228762 0.68686003 0.51385394\n",
      "  0.60043203 0.48631986 0.29263846 0.40704582 0.69671995 0.8700203\n",
      "  0.67814313 0.73794111 0.48182974 0.89374705 0.13266882 0.67015099\n",
      "  0.52031405 0.29880916 0.09539185 0.26102049 0.87150033 0.32041187\n",
      "  0.32407376 0.3582861  0.8156234  0.08045468 0.62485356 0.26632211\n",
      "  0.63729839 0.438013   0.26873887 0.60256193 0.79304812 0.70329665\n",
      "  0.38284323 0.30855672 0.53862932 0.19996261 0.24503132 0.37717374\n",
      "  0.73051254 0.35203986 0.34288356 0.96230116 0.97058703 0.52689221\n",
      "  0.36168303 0.9012904  0.49729967 0.5186502  0.63817198 0.38041559\n",
      "  0.3636716  0.68321007 0.46207215 0.18333831 0.41742556 0.48790058\n",
      "  0.73286884 0.73835461 0.10218041 0.79098026 0.74871386 0.58043673\n",
      "  0.70188276 0.79320389 0.87975196 0.83054991 1.10312095 0.3829118\n",
      "  0.41921621 0.5896607  0.40053133 0.74281207]\n",
      " [0.57402504 1.15345503 0.55421076 0.43245311 0.59141891 0.\n",
      "  0.44172479 0.42602884 0.81593829 0.65863879 0.70942771 0.75430886\n",
      "  0.11030613 0.51647952 0.5104984  0.7228287  0.34657349 0.53765882\n",
      "  0.9522539  0.56327879 0.63743802 0.8328212  0.9247661  0.99478739\n",
      "  0.92286457 0.83082126 0.27095628 0.72146537 1.07693068 0.39131773\n",
      "  0.34538699 0.43033848 0.71166744 0.94445488 0.96540101 1.16517388\n",
      "  0.31875786 0.92357696 0.84588292 0.87771096 0.45929401 0.79154325\n",
      "  0.10736823 0.65541841 0.68549934 0.4844526  0.54544157 0.65292491\n",
      "  0.69583152 0.5013924  1.10976056 0.52317286 0.74805712 0.33197419\n",
      "  0.43346544 0.75636304 0.44922137 0.23749663 0.99534382 0.88577793\n",
      "  0.83450818 0.37962736 0.94664074 0.41222712 0.54214306 0.81627444\n",
      "  0.50230775 0.25687446 0.43332242 0.72588955 0.67737439 0.43128242\n",
      "  0.70761017 1.04736866 0.18968751 0.09855721 0.17570809 0.4866399\n",
      "  0.23258537 0.79317175 0.59510827 0.41153588 0.70799795 0.65259133\n",
      "  0.88481404 1.02456286 0.60970995 0.60809812 0.38637691 0.401938\n",
      "  0.61375097 1.06490568 0.68244323 0.52516545 0.84930939 0.22953892\n",
      "  0.18252274 0.48893419 0.86414858 0.47508258]\n",
      " [0.36110443 0.88205504 0.18229816 0.03282415 0.15382165 0.44172479\n",
      "  0.         0.5139202  0.43965406 0.79461025 0.86311884 0.78280291\n",
      "  0.40937003 0.38480149 0.12744849 0.34231358 0.33042308 0.72681651\n",
      "  0.70350356 0.24434095 0.26768263 0.89378401 0.75969865 0.70612261\n",
      "  0.48237657 0.39220521 0.26124208 0.28610877 0.73720342 0.38701712\n",
      "  0.461708   0.36961529 0.33151117 0.51943788 0.70103631 0.89048706\n",
      "  0.5325156  0.7159699  0.51110871 0.82159422 0.02724526 0.62357088\n",
      "  0.36682153 0.30375331 0.24500142 0.17957179 0.737163   0.31641869\n",
      "  0.34120125 0.27518057 0.83397    0.10743864 0.57533888 0.1348732\n",
      "  0.50931553 0.44333369 0.16704205 0.4528385  0.77920684 0.67834733\n",
      "  0.44746603 0.17747641 0.59071521 0.05567448 0.20106587 0.43487168\n",
      "  0.60492268 0.19822097 0.23404768 0.8452721  0.84411842 0.40745963\n",
      "  0.37083068 0.87429024 0.34469736 0.365527   0.48494279 0.28918503\n",
      "  0.21113216 0.63405647 0.39719254 0.03020866 0.40817776 0.43794435\n",
      "  0.699835   0.75090235 0.17556129 0.67680897 0.6056646  0.4514983\n",
      "  0.60171504 0.80282752 0.76695951 0.69774365 0.98675451 0.22909065\n",
      "  0.26614149 0.47679947 0.47240411 0.61166717]\n",
      " [0.32211422 0.81183797 0.4734468  0.48305315 0.64364905 0.42602884\n",
      "  0.5139202  0.         0.63601353 0.28370192 0.35067438 0.3309835\n",
      "  0.31672278 0.23002928 0.63921494 0.57511322 0.18377617 0.2190816\n",
      "  0.61415492 0.42201189 0.50928567 0.42081806 0.53600387 0.68398276\n",
      "  0.91598322 0.84602955 0.27662701 0.76261686 0.80631493 0.12995335\n",
      "  0.08172867 0.16692747 0.5672108  0.8266132  0.63787911 0.82515689\n",
      "  0.14288416 0.55992288 0.60784869 0.45434953 0.54116067 0.42160413\n",
      "  0.33986339 0.49810782 0.70836721 0.39461519 0.2293888  0.47986512\n",
      "  0.52533887 0.3208792  0.77533208 0.62065263 0.39005728 0.51370603\n",
      "  0.01310513 0.5187606  0.37749467 0.19025235 0.62928774 0.52701361\n",
      "  0.66543606 0.33790876 0.71349453 0.45831016 0.4378085  0.6433575\n",
      "  0.09401018 0.37337819 0.3052286  0.34067565 0.33029948 0.12666208\n",
      "  0.51228132 0.65330382 0.2657409  0.35296587 0.26907415 0.29317675\n",
      "  0.39942621 0.41735657 0.3159522  0.49516398 0.47327615 0.35965864\n",
      "  0.51165738 0.69721368 0.59163107 0.18951213 0.15416775 0.06321304\n",
      "  0.19372764 0.7240512  0.27466054 0.18743303 0.48038334 0.35737864\n",
      "  0.37148139 0.10916008 0.69576448 0.09925763]\n",
      " [0.31396545 0.48458375 0.26954232 0.42630013 0.38608086 0.81593829\n",
      "  0.43965406 0.63601353 0.         0.8356662  0.90176215 0.72362923\n",
      "  0.7402613  0.40604302 0.49507421 0.09789454 0.52494193 0.83704791\n",
      "  0.35815582 0.25421152 0.18092542 0.83472268 0.49739629 0.31454192\n",
      "  0.39427122 0.3822638  0.5524407  0.38631554 0.30211875 0.53115012\n",
      "  0.64131027 0.48033243 0.10904819 0.20633397 0.33777275 0.48957416\n",
      "  0.74083789 0.4167645  0.11262574 0.66198644 0.44315189 0.41127205\n",
      "  0.71484374 0.16100761 0.34564122 0.33151935 0.84629879 0.1679719\n",
      "  0.12179715 0.33761109 0.43746165 0.45167207 0.38355725 0.57129617\n",
      "  0.62419942 0.13920365 0.36676669 0.70717767 0.45296377 0.39214712\n",
      "  0.03221787 0.43648309 0.15361911 0.43412249 0.27447146 0.0136522\n",
      "  0.68896691 0.56469353 0.39345228 0.8561047  0.89989031 0.51443283\n",
      "  0.12412254 0.5747559  0.65035908 0.72022694 0.77739657 0.36209173\n",
      "  0.59737963 0.42767077 0.32502027 0.46099288 0.17039633 0.29861069\n",
      "  0.43362622 0.36744317 0.28921077 0.69706695 0.78489056 0.58525632\n",
      "  0.57897336 0.42304658 0.76823585 0.80354864 0.98166826 0.58849566\n",
      "  0.63694672 0.53547371 0.06014571 0.72176054]\n",
      " [0.53868493 0.85817359 0.73109793 0.76303925 0.91695674 0.65863879\n",
      "  0.79461025 0.28370192 0.8356662  0.         0.06982119 0.18994681\n",
      "  0.55993708 0.45677687 0.92096755 0.79742737 0.46642536 0.13197243\n",
      "  0.68987632 0.66773547 0.7475494  0.19782216 0.54676117 0.78031385\n",
      "  1.1646286  1.10348409 0.55949386 1.02920251 0.92631124 0.4075943\n",
      "  0.35291061 0.43063711 0.79187103 1.03950462 0.72249171 0.87219486\n",
      "  0.34068284 0.61015301 0.77596578 0.3661154  0.8217631  0.49410996\n",
      "  0.59487239 0.7262373  0.97351577 0.65934381 0.12844612 0.70375935\n",
      "  0.74372651 0.57116686 0.83436162 0.90033245 0.48975083 0.79679891\n",
      "  0.28645828 0.70084143 0.64822716 0.43061102 0.66405434 0.59093156\n",
      "  0.86752406 0.61731289 0.87193164 0.73894668 0.69312755 0.84584812\n",
      "  0.19031201 0.6555264  0.57411049 0.06815882 0.06536205 0.39019908\n",
      "  0.72025523 0.633132   0.53387016 0.6076961  0.48329137 0.54504008\n",
      "  0.6793878  0.48140434 0.51695449 0.77723129 0.66530871 0.53707616\n",
      "  0.55640864 0.77381538 0.85445802 0.13870489 0.27402168 0.34411479\n",
      "  0.25748051 0.78104373 0.0870732  0.13464002 0.19814552 0.63755659\n",
      "  0.64597605 0.32979083 0.89511772 0.19462545]\n",
      " [0.60740015 0.90213019 0.80090348 0.83169664 0.9864961  0.70942771\n",
      "  0.86311884 0.35067438 0.90176215 0.06982119 0.         0.22563244\n",
      "  0.61453964 0.52626765 0.9891952  0.86554323 0.53411298 0.17214991\n",
      "  0.74134225 0.73732759 0.81673591 0.19503038 0.59013159 0.83376739\n",
      "  1.23397131 1.17320111 0.62502051 1.09900907 0.98198038 0.47617562\n",
      "  0.41670503 0.50020151 0.86016535 1.10626231 0.77487134 0.91611161\n",
      "  0.39488602 0.65894395 0.83910181 0.39605164 0.89030393 0.54936572\n",
      "  0.65167839 0.79491632 1.04333234 0.72911659 0.16513164 0.77224123\n",
      "  0.81171671 0.64094669 0.88093022 0.96910739 0.54875623 0.86221346\n",
      "  0.35416922 0.76596191 0.7177913  0.48737812 0.70896132 0.64240727\n",
      "  0.9337312  0.68599084 0.93328392 0.80744459 0.76291645 0.91217159\n",
      "  0.25823193 0.72038592 0.64370017 0.06395248 0.03601178 0.45964146\n",
      "  0.78755023 0.66777904 0.59450188 0.66429406 0.53374668 0.61484897\n",
      "  0.74304774 0.53582147 0.58494564 0.84530533 0.73157822 0.60321218\n",
      "  0.60559368 0.82418802 0.9242791  0.20636169 0.32308241 0.41197995\n",
      "  0.32279612 0.82795845 0.1382061  0.1858751  0.13989022 0.70142896\n",
      "  0.70767448 0.3996112  0.9609622  0.25792155]\n",
      " [0.46381249 0.67669031 0.67872441 0.74999474 0.88134908 0.75430886\n",
      "  0.78280291 0.3309835  0.72362923 0.18994681 0.22563244 0.\n",
      "  0.64633742 0.40395162 0.90970455 0.70500482 0.48225464 0.29768989\n",
      "  0.52124661 0.60588063 0.67258387 0.11532772 0.36481869 0.61579283\n",
      "  1.08547567 1.03672228 0.58883428 0.97790161 0.76680647 0.41761962\n",
      "  0.41269396 0.41760332 0.70176714 0.92991779 0.55573838 0.69065826\n",
      "  0.44460901 0.43650075 0.64634514 0.17630377 0.80867085 0.33804558\n",
      "  0.67084659 0.64312923 0.92146601 0.62126148 0.29878949 0.61849016\n",
      "  0.65112564 0.523063   0.65637696 0.88153532 0.34758763 0.8168053\n",
      "  0.32585498 0.58451536 0.62033964 0.51681801 0.48395037 0.42304106\n",
      "  0.75581575 0.60994629 0.73255105 0.72914084 0.64026695 0.73539365\n",
      "  0.25347618 0.68500004 0.5491324  0.16297379 0.24517041 0.38544474\n",
      "  0.62091536 0.44421626 0.59543703 0.68394936 0.58797339 0.50162292\n",
      "  0.71617352 0.32301836 0.43331962 0.77189057 0.55841745 0.43389741\n",
      "  0.38386095 0.60251293 0.80306491 0.14751291 0.40065104 0.37179933\n",
      "  0.18113986 0.60366033 0.10582741 0.28254885 0.26139366 0.67475969\n",
      "  0.6960483  0.31176993 0.78030461 0.28795517]\n",
      " [0.47834692 1.05292079 0.48945276 0.3926069  0.5631677  0.11030613\n",
      "  0.40937003 0.31672278 0.7402613  0.55993708 0.61453964 0.64633742\n",
      "  0.         0.41406605 0.50115107 0.65113204 0.24427423 0.44482839\n",
      "  0.85109395 0.4860755  0.5666152  0.72806785 0.81690496 0.89817478\n",
      "  0.88941838 0.80100328 0.18791336 0.6954364  0.98797981 0.28381574\n",
      "  0.23561748 0.32560383 0.64027901 0.88470699 0.86591941 1.06494745\n",
      "  0.21973929 0.81871026 0.75979563 0.76748505 0.43145773 0.68513949\n",
      "  0.04798074 0.57936944 0.65319693 0.41264025 0.45338954 0.5736996\n",
      "  0.61865076 0.41300515 1.01014595 0.50465161 0.64264    0.32677251\n",
      "  0.32377048 0.6685162  0.37830946 0.13108831 0.89051074 0.78131976\n",
      "  0.76145284 0.30751897 0.86308841 0.36891276 0.47136396 0.74201361\n",
      "  0.39586532 0.21130708 0.3486805  0.62616243 0.5840786  0.32336842\n",
      "  0.62605487 0.93921535 0.09140912 0.05668225 0.09293096 0.39506364\n",
      "  0.20301783 0.68614565 0.49645281 0.37990274 0.61943326 0.5537058\n",
      "  0.77857171 0.92554301 0.56330593 0.50101308 0.29336034 0.2916804\n",
      "  0.50347871 0.96404342 0.57794127 0.42876976 0.7541253  0.1804291\n",
      "  0.14721308 0.37908001 0.79188526 0.3714829 ]\n",
      " [0.09209082 0.638963   0.2784147  0.35214048 0.47758399 0.51647952\n",
      "  0.38480149 0.23002928 0.40604302 0.45677687 0.52626765 0.40395162\n",
      "  0.41406605 0.         0.50981247 0.349077   0.17011913 0.43567471\n",
      "  0.43705281 0.21122864 0.2915576  0.51790969 0.41967938 0.48833057\n",
      "  0.70794917 0.64761009 0.26045879 0.57886325 0.59362076 0.14148142\n",
      "  0.24556722 0.09104837 0.34202994 0.59914968 0.45269726 0.65108674\n",
      "  0.34497271 0.40815136 0.38237521 0.43964301 0.40949823 0.28114061\n",
      "  0.40985681 0.2738795  0.52252929 0.21734172 0.445361   0.25354651\n",
      "  0.29760008 0.11954778 0.5966263  0.47935151 0.23480262 0.44357877\n",
      "  0.21815727 0.29133922 0.21876059 0.33484114 0.47972657 0.36994267\n",
      "  0.4356637  0.22413175 0.48886938 0.33388178 0.23985115 0.41356083\n",
      "  0.28854208 0.33716016 0.15257785 0.4932462  0.51688677 0.11331711\n",
      "  0.28251192 0.54242837 0.32687896 0.4203332  0.41649779 0.09782211\n",
      "  0.37491526 0.28576682 0.09073401 0.37811346 0.2444699  0.14407026\n",
      "  0.37265563 0.51259075 0.40318936 0.32206534 0.38072538 0.18261628\n",
      "  0.22441208 0.55003007 0.40749081 0.4022068  0.63171713 0.3407589\n",
      "  0.37999168 0.13268428 0.46587379 0.31758725]\n",
      " [0.47843914 0.963771   0.27563864 0.16005067 0.11828652 0.5104984\n",
      "  0.12744849 0.63921494 0.49507421 0.92096755 0.9891952  0.90970455\n",
      "  0.50115107 0.50981247 0.         0.40412449 0.45544033 0.84971989\n",
      "  0.79683426 0.34882228 0.34615565 1.02101524 0.86932596 0.78740937\n",
      "  0.42896215 0.333941   0.37745715 0.22317994 0.79715323 0.51348889\n",
      "  0.58358664 0.49705609 0.39481697 0.52511502 0.79010355 0.97096743\n",
      "  0.6483735  0.81869239 0.58370418 0.94360566 0.10107157 0.73635661\n",
      "  0.45491084 0.38680392 0.20537006 0.29779672 0.86002202 0.40483122\n",
      "  0.41831677 0.3966081  0.91552854 0.04350953 0.68893573 0.17874073\n",
      "  0.63508582 0.52935767 0.29106109 0.56371619 0.87830593 0.78224593\n",
      "  0.49492733 0.30454329 0.64862369 0.18262661 0.30468771 0.4872787\n",
      "  0.73097011 0.29871055 0.36059948 0.97231696 0.96950566 0.53475884\n",
      "  0.45333569 0.98004458 0.44990175 0.4506716  0.58482598 0.41297922\n",
      "  0.29841197 0.74789078 0.5146751  0.1440937  0.50151881 0.55045398\n",
      "  0.80748749 0.83553543 0.20588479 0.80416669 0.72354874 0.5772507\n",
      "  0.72857027 0.88941416 0.89434022 0.82137317 1.11378215 0.32781375\n",
      "  0.35394529 0.60424772 0.51455045 0.73617794]\n",
      " [0.26016929 0.56293606 0.17236565 0.32844404 0.30072377 0.7228287\n",
      "  0.34231358 0.57511322 0.09789454 0.79742737 0.86554323 0.70500482\n",
      "  0.65113204 0.349077   0.40412449 0.         0.44651369 0.78475163\n",
      "  0.41327811 0.16765778 0.08539735 0.81910029 0.52778819 0.38784898\n",
      "  0.38226115 0.34700829 0.46334708 0.32493303 0.39624404 0.46100816\n",
      "  0.57063352 0.41246982 0.01130759 0.25179813 0.39951565 0.56933482\n",
      "  0.66866406 0.4566611  0.18111003 0.66733507 0.34676238 0.42077618\n",
      "  0.6234919  0.07781822 0.27667117 0.23912014 0.79443249 0.09556062\n",
      "  0.05415379 0.26144986 0.51491133 0.36061965 0.38416101 0.47347528\n",
      "  0.56412386 0.15117228 0.27411928 0.6272111  0.50392658 0.42618247\n",
      "  0.1118297  0.34470438 0.24871997 0.33629683 0.18080325 0.09505071\n",
      "  0.6374488  0.46954401 0.30908694 0.8249151  0.86000672 0.44977794\n",
      "  0.08649945 0.61969464 0.5624832  0.62825442 0.69363609 0.28804413\n",
      "  0.50139108 0.43632686 0.28060591 0.36323195 0.15284899 0.27112498\n",
      "  0.46262832 0.43840372 0.20000645 0.65919188 0.71866795 0.51991244\n",
      "  0.54575976 0.4935771  0.73687687 0.75128234 0.95656651 0.49424374\n",
      "  0.54250371 0.48167019 0.14134638 0.6662914 ]\n",
      " [0.23735515 0.80868405 0.3131936  0.29993367 0.46438369 0.34657349\n",
      "  0.33042308 0.18377617 0.52494193 0.46642536 0.53411298 0.48225464\n",
      "  0.24427423 0.17011913 0.45544033 0.44651369 0.         0.39748337\n",
      "  0.60692943 0.28008765 0.36865202 0.5852115  0.58220015 0.65476803\n",
      "  0.75332475 0.67729189 0.10815792 0.58758601 0.7504402  0.06463575\n",
      "  0.13748973 0.08535297 0.43679562 0.69504836 0.62167383 0.82068479\n",
      "  0.22699815 0.57714167 0.52740112 0.56558358 0.35766799 0.44651327\n",
      "  0.24041783 0.36943292 0.53498178 0.23003775 0.40785768 0.35759627\n",
      "  0.40457912 0.18733155 0.76587813 0.43744381 0.4020604  0.33669933\n",
      "  0.17999753 0.43489969 0.20570501 0.18233315 0.64887645 0.53924643\n",
      "  0.55029079 0.15608492 0.63303702 0.27491257 0.28248341 0.52920039\n",
      "  0.27612264 0.2028641  0.14207161 0.52049063 0.51406651 0.10016021\n",
      "  0.40352164 0.705242   0.15688928 0.25130507 0.25671949 0.16360017\n",
      "  0.23537285 0.44916907 0.25279579 0.31138892 0.385586   0.30979678\n",
      "  0.53939153 0.68134472 0.42204904 0.3576967  0.28909401 0.1223308\n",
      "  0.30965219 0.71984214 0.44739374 0.36774007 0.66143608 0.19503848\n",
      "  0.22455331 0.17289002 0.58134549 0.28125791]\n",
      " [0.52583187 0.92988337 0.69207075 0.6969825  0.86112286 0.53765882\n",
      "  0.72681651 0.2190816  0.83704791 0.13197243 0.17214991 0.29768989\n",
      "  0.44482839 0.43567471 0.84971989 0.78475163 0.39748337 0.\n",
      "  0.74730556 0.63801    0.72377223 0.32833704 0.62492915 0.83100209\n",
      "  1.13405722 1.06501296 0.47564485 0.98141503 0.96873364 0.34865746\n",
      "  0.26636244 0.38488531 0.77763712 1.03431747 0.7769922  0.94382575\n",
      "  0.22639267 0.67561196 0.79360071 0.47003903 0.75400572 0.54666446\n",
      "  0.48377036 0.70919095 0.92733748 0.61368096 0.01037869 0.6892147\n",
      "  0.73304287 0.53726486 0.90091555 0.83417447 0.53088596 0.70999168\n",
      "  0.22730382 0.71013469 0.59628468 0.32055907 0.73668631 0.65051297\n",
      "  0.86778163 0.55349358 0.89563383 0.67165092 0.65599481 0.84568182\n",
      "  0.14808876 0.56745494 0.52429424 0.19925705 0.13975004 0.34384358\n",
      "  0.71555923 0.72422869 0.43240722 0.4961203  0.36209942 0.50970484\n",
      "  0.58636113 0.53675689 0.51203054 0.7059483  0.66870892 0.54488604\n",
      "  0.62231662 0.83250199 0.81071224 0.18124138 0.15178782 0.28184274\n",
      "  0.28892742 0.84756362 0.19402966 0.03353113 0.31185102 0.54568796\n",
      "  0.54668802 0.30317916 0.89719361 0.12061238]\n",
      " [0.38335116 0.20204665 0.52414733 0.67826101 0.70696166 0.9522539\n",
      "  0.70350356 0.61415492 0.35815582 0.68987632 0.74134225 0.52124661\n",
      "  0.85109395 0.43705281 0.79683426 0.41327811 0.60692943 0.74730556\n",
      "  0.         0.45989734 0.45176129 0.60877722 0.17855682 0.09716706\n",
      "  0.74696001 0.74041922 0.68774831 0.73656802 0.25093586 0.57332551\n",
      "  0.6625391  0.52665614 0.41906211 0.52615961 0.03605439 0.21444817\n",
      "  0.75369443 0.08918617 0.24553673 0.39014552 0.71782469 0.20070696\n",
      "  0.84508454 0.41049574 0.68983749 0.53530366 0.75367678 0.39203955\n",
      "  0.38290825 0.46875974 0.16173059 0.75465639 0.22430634 0.81210958\n",
      "  0.60117519 0.26900241 0.56269449 0.76519168 0.09564671 0.0990025\n",
      "  0.38146777 0.61092083 0.27077454 0.6735514  0.50250219 0.37151788\n",
      "  0.61742891 0.74578635 0.53836362 0.6817728  0.75352148 0.53739738\n",
      "  0.34544856 0.22011448 0.76317514 0.85496242 0.84890304 0.47504261\n",
      "  0.78416745 0.21080197 0.35806461 0.71362026 0.29614476 0.30083931\n",
      "  0.1380851  0.08520807 0.60482498 0.56967828 0.76324712 0.59347284\n",
      "  0.45923872 0.11301323 0.60513762 0.7178068  0.77488432 0.75783754\n",
      "  0.80254018 0.50803888 0.3890328  0.66127331]\n",
      " [0.14337787 0.64332056 0.07714886 0.21836973 0.28555876 0.56327879\n",
      "  0.24434095 0.42201189 0.25421152 0.66773547 0.73732759 0.60588063\n",
      "  0.4860755  0.21122864 0.34882228 0.16765778 0.28008765 0.63801\n",
      "  0.45989734 0.         0.08905692 0.72108982 0.52050395 0.46921475\n",
      "  0.49787481 0.43645029 0.29823043 0.3720456  0.52223599 0.30049795\n",
      "  0.408314   0.25546971 0.15747132 0.41501476 0.45911971 0.65252573\n",
      "  0.50466278 0.47233711 0.28925965 0.60828488 0.26069134 0.38846887\n",
      "  0.46102127 0.0933103  0.31562791 0.08285933 0.64805449 0.09005506\n",
      "  0.1328648  0.10114001 0.59565859 0.30998238 0.34178305 0.35499175\n",
      "  0.41215105 0.20809171 0.11694569 0.45983788 0.53491311 0.43510837\n",
      "  0.27584163 0.18386926 0.38513131 0.21453518 0.04423168 0.25604366\n",
      "  0.49404184 0.31712249 0.14142938 0.7042066  0.7271416  0.2953604\n",
      "  0.14635187 0.63216993 0.3964082  0.46674816 0.52607187 0.12884715\n",
      "  0.35238125 0.40062282 0.17738176 0.25375359 0.16707876 0.20357484\n",
      "  0.45886498 0.51117517 0.19794959 0.53325404 0.55877747 0.36309635\n",
      "  0.4311658  0.56164712 0.61794666 0.60501366 0.84194844 0.33841834\n",
      "  0.38693131 0.34001277 0.30654851 0.51766058]\n",
      " [0.21110003 0.61895372 0.08939715 0.25011641 0.25721859 0.63743802\n",
      "  0.26768263 0.50928567 0.18092542 0.7475494  0.81673591 0.67258387\n",
      "  0.5666152  0.2915576  0.34615565 0.08539735 0.36865202 0.72377223\n",
      "  0.45176129 0.08905692 0.         0.78782059 0.54157722 0.44246358\n",
      "  0.41751708 0.36415727 0.37907185 0.31549072 0.47061035 0.38927041\n",
      "  0.49734609 0.34338636 0.07423221 0.32647248 0.44401611 0.62665596\n",
      "  0.59367907 0.48077171 0.24353696 0.65621186 0.27599966 0.42019036\n",
      "  0.53835402 0.04161133 0.26088513 0.15410888 0.73371821 0.06409904\n",
      "  0.07380144 0.18915389 0.57070282 0.30346449 0.37759342 0.39488563\n",
      "  0.49908406 0.18332165 0.18894436 0.54731488 0.53620448 0.44640809\n",
      "  0.19718027 0.25966411 0.32593806 0.25531406 0.09555523 0.17968752\n",
      "  0.57843078 0.38434543 0.22840179 0.78056072 0.80828692 0.38268702\n",
      "  0.10718162 0.6442287  0.47854944 0.54299531 0.6114302  0.21675412\n",
      "  0.41657652 0.43433663 0.23935617 0.28574266 0.16027759 0.24737575\n",
      "  0.47720372 0.4897121  0.15640024 0.61114238 0.64762519 0.45121663\n",
      "  0.50362824 0.54334512 0.69329005 0.69057908 0.91615925 0.40887426\n",
      "  0.45716274 0.42315226 0.2267149  0.60380937]\n",
      " [0.57913241 0.74568875 0.79366101 0.86103871 0.99549288 0.8328212\n",
      "  0.89378401 0.42081806 0.83472268 0.19782216 0.19503038 0.11532772\n",
      "  0.72806785 0.51790969 1.02101524 0.81910029 0.5852115  0.32833704\n",
      "  0.60877722 0.72108982 0.78782059 0.         0.43992778 0.70534154\n",
      "  1.20010802 1.15197286 0.68962452 1.09307315 0.8584604  0.52089254\n",
      "  0.50092938 0.52594516 0.81609184 1.04072184 0.64432917 0.75938067\n",
      "  0.51554062 0.52085244 0.75342679 0.22744489 0.91994536 0.43895166\n",
      "  0.75707417 0.75808108 1.03663072 0.73497603 0.3257355  0.73336716\n",
      "  0.76535604 0.63729105 0.73115686 0.99384291 0.45447005 0.92165005\n",
      "  0.41807285 0.69552381 0.73289686 0.59701047 0.55864225 0.51337112\n",
      "  0.86682874 0.71926808 0.83542288 0.83957249 0.75516182 0.84674781\n",
      "  0.33295745 0.78662899 0.66088128 0.13722432 0.22688716 0.49149382\n",
      "  0.73451931 0.49676866 0.686247   0.77018458 0.66076428 0.61531534\n",
      "  0.8160171  0.42307474 0.54860439 0.88175395 0.67129246 0.54801058\n",
      "  0.47088964 0.68608936 0.91811361 0.23143208 0.45899153 0.46922157\n",
      "  0.29383135 0.68004879 0.15038338 0.32462291 0.16773227 0.77416052\n",
      "  0.79171614 0.41883401 0.89054103 0.3578052 ]\n",
      " [0.40283617 0.3120299  0.59490634 0.73022383 0.79666733 0.9247661\n",
      "  0.75969865 0.53600387 0.49739629 0.54676117 0.59013159 0.36481869\n",
      "  0.81690496 0.41967938 0.86932596 0.52778819 0.58220015 0.62492915\n",
      "  0.17855682 0.52050395 0.54157722 0.43992778 0.         0.2749222\n",
      "  0.89160368 0.87192785 0.67972676 0.85014933 0.42814301 0.53346148\n",
      "  0.60039308 0.49687456 0.53048934 0.68524995 0.21443742 0.32602354\n",
      "  0.67879689 0.09072936 0.39018758 0.21529886 0.77889974 0.13984047\n",
      "  0.82103574 0.50077924 0.79844396 0.58083544 0.62965095 0.47751481\n",
      "  0.48493254 0.49338158 0.29241422 0.83012161 0.18830605 0.84804082\n",
      "  0.52405248 0.37689867 0.60026278 0.71138199 0.11949547 0.10551227\n",
      "  0.52549611 0.63136476 0.44025366 0.71943297 0.56466154 0.51102824\n",
      "  0.51401327 0.75525132 0.55546854 0.52779243 0.60716316 0.49361201\n",
      "  0.44610385 0.12306315 0.73669615 0.83250844 0.795443   0.4894622\n",
      "  0.79342997 0.13391266 0.36846867 0.76297657 0.38289207 0.32202796\n",
      "  0.06516474 0.2481337  0.69765094 0.44372147 0.67109078 0.53331026\n",
      "  0.35244373 0.24048382 0.45978379 0.59912331 0.60753699 0.76028905\n",
      "  0.79951447 0.44303085 0.53953999 0.55894963]\n",
      " [0.42078131 0.17649269 0.52386033 0.68406023 0.68836191 0.99478739\n",
      "  0.70612261 0.68398276 0.31454192 0.78031385 0.83376739 0.61579283\n",
      "  0.89817478 0.48833057 0.78740937 0.38784898 0.65476803 0.83100209\n",
      "  0.09716706 0.46921475 0.44246358 0.70534154 0.2749222  0.\n",
      "  0.68697933 0.69109988 0.72552525 0.70076606 0.15376892 0.62882968\n",
      "  0.72512366 0.57936768 0.39572399 0.45637435 0.06119013 0.18440989\n",
      "  0.81987937 0.1863237  0.20731677 0.4873096  0.71715063 0.28670877\n",
      "  0.88748252 0.40346843 0.6585781  0.54979691 0.83786753 0.38971472\n",
      "  0.36930802 0.49804214 0.1282395  0.74422595 0.30082114 0.82402859\n",
      "  0.67088476 0.26293064 0.58058571 0.8224164  0.17642179 0.19286365\n",
      "  0.33170364 0.63641097 0.19620096 0.68303141 0.50860478 0.32677333\n",
      "  0.6962216  0.77338777 0.56828699 0.77511691 0.84456895 0.59567543\n",
      "  0.33606637 0.29851988 0.80814459 0.89644141 0.9047274  0.50927404\n",
      "  0.81106282 0.29893072 0.40197242 0.72002288 0.30244403 0.34516439\n",
      "  0.23445706 0.05360168 0.58690312 0.65620557 0.83604198 0.65679899\n",
      "  0.5420757  0.10877873 0.69666695 0.80053122 0.87103024 0.78878301\n",
      "  0.83536779 0.57561552 0.33227515 0.73906495]\n",
      " [0.62830886 0.83713468 0.44293726 0.49683431 0.33163556 0.92286457\n",
      "  0.48237657 0.91598322 0.39427122 1.1646286  1.23397131 1.08547567\n",
      "  0.88941838 0.70794917 0.42896215 0.38226115 0.75332475 1.13405722\n",
      "  0.74696001 0.49787481 0.41751708 1.20010802 0.89160368 0.68697933\n",
      "  0.         0.09509705 0.72253512 0.20587183 0.61217784 0.78913364\n",
      "  0.8900968  0.74928375 0.384423   0.24001379 0.72233664 0.83826469\n",
      "  0.97857365 0.81057693 0.50415503 1.04749415 0.46359864 0.79830962\n",
      "  0.84839496 0.44295819 0.2374872  0.52427905 1.14421762 0.46725108\n",
      "  0.43530085 0.59741233 0.79474564 0.40474682 0.76461393 0.59676117\n",
      "  0.90698608 0.52203274 0.54784438 0.91337715 0.84258515 0.78641319\n",
      "  0.36720684 0.60733162 0.49267315 0.52063157 0.47818132 0.38062587\n",
      "  0.99157436 0.67847954 0.61418174 1.19801835 1.22473228 0.7902242\n",
      "  0.46839701 0.96621417 0.81698154 0.84762097 0.95874458 0.62475255\n",
      "  0.69350751 0.81433067 0.65474468 0.51251819 0.53412298 0.65240425\n",
      "  0.82760776 0.74031125 0.3333353  1.02860996 1.04221018 0.85475574\n",
      "  0.92046333 0.79394181 1.11062436 1.10139062 1.3330002  0.70924989\n",
      "  0.74836727 0.83788445 0.35798374 1.01345077]\n",
      " [0.57402378 0.85158611 0.3736496  0.40882639 0.23955286 0.83082126\n",
      "  0.39220521 0.84602955 0.3822638  1.10348409 1.17320111 1.03672228\n",
      "  0.80100328 0.64761009 0.333941   0.34700829 0.67729189 1.06501296\n",
      "  0.74041922 0.43645029 0.36415727 1.15197286 0.87192785 0.69109988\n",
      "  0.09509705 0.         0.6389457  0.11105679 0.63628164 0.71736691\n",
      "  0.81472614 0.68060757 0.34645503 0.2753153  0.71941218 0.85425899\n",
      "  0.90012079 0.79593184 0.49488745 1.01292346 0.37216076 0.76772157\n",
      "  0.75899486 0.39563206 0.14796142 0.45154233 1.07528097 0.4207813\n",
      "  0.39626031 0.53255078 0.80683813 0.31057281 0.73015128 0.50305412\n",
      "  0.83776156 0.49569861 0.47182471 0.83117366 0.83511155 0.76832957\n",
      "  0.36042372 0.52712993 0.5037244  0.4333807  0.41091197 0.36892986\n",
      "  0.92546268 0.58971076 0.54138359 1.14064038 1.16188037 0.72188125\n",
      "  0.43281475 0.95612183 0.73127913 0.7577038  0.87294256 0.55915686\n",
      "  0.60296641 0.78319126 0.60342559 0.42214655 0.49923185 0.60860194\n",
      "  0.80697229 0.74467317 0.25535827 0.96967365 0.96625967 0.78379355\n",
      "  0.86613725 0.79971569 1.05420895 1.03286507 1.27799409 0.62057911\n",
      "  0.6582866  0.77430446 0.35925684 0.94457151]\n",
      " [0.305661   0.88745029 0.30438672 0.23582903 0.40965501 0.27095628\n",
      "  0.26124208 0.27662701 0.5524407  0.55949386 0.62502051 0.58883428\n",
      "  0.18791336 0.26045879 0.37745715 0.46334708 0.10815792 0.47564485\n",
      "  0.68774831 0.29823043 0.37907185 0.68962452 0.67972676 0.72552525\n",
      "  0.72253512 0.6389457  0.         0.53979711 0.80613938 0.1720361\n",
      "  0.20989292 0.18843635 0.4525389  0.69965456 0.69867588 0.89877245\n",
      "  0.27162152 0.6669091  0.57569044 0.67319829 0.28746067 0.54158181\n",
      "  0.16503491 0.39150025 0.49179297 0.22544558 0.48581779 0.38629673\n",
      "  0.43092311 0.23043625 0.84279599 0.367416   0.49515008 0.23730667\n",
      "  0.27588693 0.4856282  0.19173459 0.19298531 0.73804752 0.62831817\n",
      "  0.57354284 0.12165101 0.67761    0.20990737 0.28413134 0.55411016\n",
      "  0.37062911 0.09721937 0.16289653 0.61729309 0.60188108 0.20827212\n",
      "  0.43944289 0.80263874 0.09990261 0.17248504 0.23863442 0.21635245\n",
      "  0.12750151 0.54587233 0.32977949 0.2363572  0.43712109 0.38690909\n",
      "  0.63297545 0.75718342 0.390222   0.45990028 0.34611467 0.22105315\n",
      "  0.41772215 0.79956307 0.54847011 0.44903179 0.75683986 0.08688102\n",
      "  0.11995414 0.28094652 0.60399327 0.3674831 ]\n",
      " [0.51486798 0.8700537  0.30046171 0.30567381 0.13228762 0.72146537\n",
      "  0.28610877 0.76261686 0.38631554 1.02920251 1.09900907 0.97790161\n",
      "  0.6954364  0.57886325 0.22317994 0.32493303 0.58758601 0.98141503\n",
      "  0.73656802 0.3720456  0.31549072 1.09307315 0.85014933 0.70076606\n",
      "  0.20587183 0.11105679 0.53979711 0.         0.66980049 0.63277959\n",
      "  0.72478159 0.60044492 0.32079607 0.33807181 0.72025458 0.87444701\n",
      "  0.80594097 0.78140038 0.49546286 0.97150362 0.26444719 0.73442665\n",
      "  0.6524202  0.35335801 0.05645065 0.37015602 0.99176458 0.37816047\n",
      "  0.36522837 0.46016089 0.82332893 0.19977139 0.69278873 0.39247201\n",
      "  0.75532279 0.47550053 0.38514128 0.73276447 0.82840888 0.75019405\n",
      "  0.37234307 0.43354981 0.52716592 0.33104401 0.33904983 0.37440736\n",
      "  0.84623485 0.48432746 0.45783459 1.07068876 1.08525141 0.64165483\n",
      "  0.40404788 0.94459776 0.62905416 0.65056846 0.77016965 0.48513945\n",
      "  0.49545465 0.74894751 0.54743305 0.31555807 0.46803837 0.56222757\n",
      "  0.78507093 0.75344331 0.17567722 0.89894455 0.87480571 0.69961371\n",
      "  0.80204251 0.8090718  0.98595026 0.95004919 1.21018361 0.51519927\n",
      "  0.55116395 0.69958197 0.38038612 0.86181858]\n",
      " [0.51332335 0.23306555 0.55933873 0.720724   0.68686003 1.07693068\n",
      "  0.73720342 0.80631493 0.30211875 0.92631124 0.98198038 0.76680647\n",
      "  0.98797981 0.59362076 0.79715323 0.39624404 0.7504402  0.96873364\n",
      "  0.25093586 0.52223599 0.47061035 0.8584604  0.42814301 0.15376892\n",
      "  0.61217784 0.63628164 0.80613938 0.66980049 0.         0.73478394\n",
      "  0.83794448 0.6832262  0.40661033 0.37224292 0.2149411  0.23134418\n",
      "  0.93592482 0.34007733 0.23302533 0.64107378 0.74283211 0.43265832\n",
      "  0.97104907 0.43882588 0.63717945 0.60504397 0.97616504 0.43338827\n",
      "  0.39876233 0.57594699 0.19895816 0.75377277 0.43904743 0.86542897\n",
      "  0.7932672  0.32057379 0.63904554 0.92688731 0.32318018 0.34519161\n",
      "  0.30436068 0.70305669 0.14852977 0.72517783 0.5543805  0.3100159\n",
      "  0.82906329 0.83875965 0.6436323  0.92451397 0.99111724 0.70582663\n",
      "  0.37631619 0.4381313  0.89662315 0.9785922  1.00621986 0.59291617\n",
      "  0.87451423 0.44620664 0.5031752  0.75629547 0.36906158 0.4507915\n",
      "  0.38779744 0.1857083  0.59126987 0.79826303 0.96026736 0.7717232\n",
      "  0.68106922 0.22106918 0.84417229 0.9372567  1.02361268 0.8584604\n",
      "  0.90663511 0.69716897 0.29048743 0.87031652]\n",
      " [0.22528811 0.77529777 0.34619986 0.35552122 0.51385394 0.39131773\n",
      "  0.38701712 0.12995335 0.53115012 0.4075943  0.47617562 0.41761962\n",
      "  0.28381574 0.14148142 0.51348889 0.46100816 0.06463575 0.34865746\n",
      "  0.57332551 0.30049795 0.38927041 0.52089254 0.53346148 0.62882968\n",
      "  0.78913364 0.71736691 0.1720361  0.63277959 0.73478394 0.\n",
      "  0.11018966 0.05214266 0.45219298 0.71248824 0.59108819 0.78777368\n",
      "  0.2097709  0.53594501 0.51977647 0.50426188 0.41417678 0.40143286\n",
      "  0.28857941 0.38319872 0.57869769 0.26585612 0.35900029 0.36771901\n",
      "  0.41449623 0.2004325  0.73421824 0.49295767 0.3596526  0.40078254\n",
      "  0.12350489 0.42758771 0.24763871 0.19362619 0.60768662 0.49903708\n",
      "  0.55867647 0.20982068 0.62635022 0.3313524  0.31177462 0.53694549\n",
      "  0.21813036 0.26744977 0.1760047  0.45942915 0.45800634 0.04024809\n",
      "  0.40732853 0.65605752 0.20438276 0.30048583 0.27616946 0.17321418\n",
      "  0.29951165 0.4023318  0.23160976 0.37001667 0.37916703 0.28549538\n",
      "  0.49489224 0.65115989 0.46248503 0.2944205  0.2583757  0.06683656\n",
      "  0.245893   0.68623136 0.38443153 0.31732014 0.60074971 0.25874728\n",
      "  0.28558681 0.10923675 0.58958586 0.22921076]\n",
      " [0.33351213 0.86314351 0.44850526 0.43262267 0.60043203 0.34538699\n",
      "  0.461708   0.08172867 0.64131027 0.35291061 0.41670503 0.41269396\n",
      "  0.23561748 0.24556722 0.58358664 0.57063352 0.13748973 0.26636244\n",
      "  0.6625391  0.408314   0.49734609 0.50092938 0.60039308 0.72512366\n",
      "  0.8900968  0.81472614 0.20989292 0.72478159 0.83794448 0.11018966\n",
      "  0.         0.16131404 0.56165515 0.82181224 0.68334181 0.87609299\n",
      "  0.09997998 0.61585337 0.62737461 0.53292038 0.48879799 0.47792983\n",
      "  0.25816004 0.49281819 0.67240008 0.36599828 0.27661878 0.47774376\n",
      "  0.52458044 0.30943297 0.82426279 0.56914623 0.44143011 0.44616364\n",
      "  0.08815546 0.53564369 0.34298534 0.11279226 0.68666304 0.58092994\n",
      "  0.66886484 0.2919367  0.73396334 0.40699502 0.41603161 0.64713491\n",
      "  0.16942022 0.30392377 0.27653646 0.41383505 0.39247624 0.13236627\n",
      "  0.51743423 0.72023609 0.18543571 0.27126765 0.19556784 0.28259364\n",
      "  0.32654112 0.47578813 0.33623033 0.44005417 0.4876971  0.38715405\n",
      "  0.57030377 0.74332668 0.55943135 0.27020468 0.15218194 0.06911942\n",
      "  0.26973502 0.77442841 0.35314053 0.23917171 0.5510282  0.28479946\n",
      "  0.294231   0.15805636 0.69977552 0.15880789]\n",
      " [0.17314846 0.72869433 0.30726037 0.33715969 0.48631986 0.43033848\n",
      "  0.36961529 0.16692747 0.48033243 0.43063711 0.50020151 0.41760332\n",
      "  0.32560383 0.09104837 0.49705609 0.41246982 0.08535297 0.38488531\n",
      "  0.52665614 0.25546971 0.34338636 0.52594516 0.49687456 0.57936768\n",
      "  0.74928375 0.68060757 0.18843635 0.60044492 0.6832262  0.05214266\n",
      "  0.16131404 0.         0.40398271 0.66424029 0.54317284 0.74096852\n",
      "  0.26122749 0.49340144 0.46763384 0.4863857  0.39629161 0.36158488\n",
      "  0.32496712 0.33480947 0.54537792 0.230464   0.39508816 0.3183222\n",
      "  0.36482376 0.15437802 0.68685133 0.47283709 0.31771866 0.40093312\n",
      "  0.15770234 0.37545593 0.217593   0.24409955 0.56519646 0.45582323\n",
      "  0.50825359 0.19347653 0.57420835 0.31465064 0.27113385 0.48642517\n",
      "  0.24581558 0.27714479 0.14350666 0.47738642 0.48505706 0.04131554\n",
      "  0.35632978 0.61990812 0.24090183 0.33612009 0.32545903 0.12669214\n",
      "  0.31246802 0.36396628 0.1801913  0.35611218 0.32707961 0.23495313\n",
      "  0.4546633  0.60314842 0.42736693 0.30752198 0.30624942 0.10787478\n",
      "  0.23877856 0.63966803 0.39752447 0.3524388  0.61873854 0.27414057\n",
      "  0.30755761 0.10736718 0.53908145 0.26428212]\n",
      " [0.25389969 0.57116067 0.1610612  0.31738484 0.29263846 0.71166744\n",
      "  0.33151117 0.5672108  0.10904819 0.79187103 0.86016535 0.70176714\n",
      "  0.64027901 0.34202994 0.39481697 0.01130759 0.43679562 0.77763712\n",
      "  0.41906211 0.15747132 0.07423221 0.81609184 0.53048934 0.39572399\n",
      "  0.384423   0.34645503 0.4525389  0.32079607 0.40661033 0.45219298\n",
      "  0.56165515 0.40398271 0.         0.26032193 0.40607423 0.57772667\n",
      "  0.6594643  0.46061477 0.18952263 0.66690715 0.33625825 0.42137431\n",
      "  0.61246307 0.06919742 0.27154813 0.22810983 0.78735929 0.08863386\n",
      "  0.05088556 0.25229993 0.52307295 0.35132937 0.38386994 0.46243942\n",
      "  0.5563253  0.15470601 0.2630657  0.61722517 0.50903089 0.42956128\n",
      "  0.1230817  0.33369767 0.25932715 0.32509072 0.16971494 0.10635178\n",
      "  0.63053803 0.45827956 0.29886112 0.82013231 0.85422232 0.44160293\n",
      "  0.08637636 0.62391507 0.55175711 0.61717851 0.68325826 0.27908084\n",
      "  0.49009348 0.43677437 0.27541356 0.35224041 0.15277704 0.26811987\n",
      "  0.46532782 0.44591406 0.19142557 0.65380472 0.71007508 0.51156956\n",
      "  0.54106728 0.50094939 0.73215045 0.74419349 0.95238181 0.48302617\n",
      "  0.53127199 0.47469884 0.1524829  0.65891188]\n",
      " [0.50848899 0.59897634 0.39543381 0.51875225 0.40704582 0.94445488\n",
      "  0.51943788 0.8266132  0.20633397 1.03950462 1.10626231 0.92991779\n",
      "  0.88470699 0.59914968 0.52511502 0.25179813 0.69504836 1.03431747\n",
      "  0.52615961 0.41501476 0.32647248 1.04072184 0.68524995 0.45637435\n",
      "  0.24001379 0.2753153  0.69965456 0.33807181 0.37224292 0.71248824\n",
      "  0.82181224 0.66424029 0.26032193 0.         0.49795846 0.59956443\n",
      "  0.91923157 0.5987615  0.29714756 0.86289427 0.51197456 0.61292493\n",
      "  0.8520616  0.3294438  0.32620994 0.47522578 1.04385112 0.34675346\n",
      "  0.30159345 0.51237975 0.55777955 0.48672669 0.58816768 0.65310229\n",
      "  0.81548461 0.345407   0.5080287  0.87351724 0.62114719 0.5801733\n",
      "  0.17412476 0.5781145  0.26017367 0.53531001 0.41732743 0.19490732\n",
      "  0.88649694 0.68759873 0.55471615 1.06165852 1.10326942 0.70153557\n",
      "  0.3199559  0.74608311 0.79954566 0.85497694 0.93562513 0.53932167\n",
      "  0.71381254 0.62941862 0.52456476 0.54727997 0.37499645 0.50329757\n",
      "  0.62418553 0.50878564 0.34397124 0.90079986 0.97038709 0.77171023\n",
      "  0.78371255 0.56079254 0.97367332 1.00079495 1.1879457  0.71564567\n",
      "  0.76194431 0.73120208 0.15073192 0.91673623]\n",
      " [0.39310565 0.18894798 0.52006208 0.67692288 0.69671995 0.96540101\n",
      "  0.70103631 0.63787911 0.33777275 0.72249171 0.77487134 0.55573838\n",
      "  0.86591941 0.45269726 0.79010355 0.39951565 0.62167383 0.7769922\n",
      "  0.03605439 0.45911971 0.44401611 0.64432917 0.21443742 0.06119013\n",
      "  0.72233664 0.71941218 0.69867588 0.72025458 0.2149411  0.59108819\n",
      "  0.68334181 0.54317284 0.40607423 0.49795846 0.         0.20009819\n",
      "  0.77607571 0.12523712 0.2256411  0.42616905 0.71416522 0.23065367\n",
      "  0.85806288 0.40333342 0.67503432 0.53682028 0.78357853 0.38648348\n",
      "  0.37315537 0.47571892 0.14436141 0.74748057 0.24981471 0.8133336\n",
      "  0.62483254 0.26074616 0.56560364 0.7839543  0.12392664 0.1327431\n",
      "  0.35920826 0.61689397 0.24013999 0.67358324 0.50071318 0.35085408\n",
      "  0.64493221 0.7528692  0.54584047 0.71571727 0.78642745 0.55621323\n",
      "  0.33690997 0.24876463 0.77705588 0.86759302 0.86719501 0.48397763\n",
      "  0.79104399 0.24184685 0.37029346 0.71258794 0.29290889 0.31281137\n",
      "  0.17345505 0.06009775 0.59456905 0.60049826 0.78835629 0.61447377\n",
      "  0.48832485 0.10294976 0.63822324 0.74706166 0.81021059 0.76623218\n",
      "  0.81173395 0.53064761 0.36454107 0.68839017]\n",
      " [0.59319769 0.01402304 0.70824564 0.86820956 0.8700203  1.16517388\n",
      "  0.89048706 0.82515689 0.48957416 0.87219486 0.91611161 0.69065826\n",
      "  1.06494745 0.65108674 0.97096743 0.56933482 0.82068479 0.94382575\n",
      "  0.21444817 0.65252573 0.62665596 0.75938067 0.32602354 0.18440989\n",
      "  0.83826469 0.85425899 0.89877245 0.87444701 0.23134418 0.78777368\n",
      "  0.87609299 0.74096852 0.57772667 0.59956443 0.20009819 0.\n",
      "  0.96592121 0.26911604 0.38824159 0.53193719 0.90155307 0.40497801\n",
      "  1.05787035 0.58784354 0.83520817 0.73228614 0.94932028 0.5740686\n",
      "  0.55330532 0.67516182 0.0569252  0.92768018 0.43552768 1.00751384\n",
      "  0.8122933  0.44719988 0.76227689 0.9795096  0.20826639 0.29874841\n",
      "  0.5021501  0.81566253 0.35064248 0.86674581 0.69249443 0.50076442\n",
      "  0.82154705 0.95206677 0.7453882  0.85360335 0.93307361 0.75176314\n",
      "  0.52044126 0.27296008 0.97652874 1.06749278 1.06329328 0.68395481\n",
      "  0.99011017 0.411636   0.57012397 0.90414564 0.48546428 0.51264893\n",
      "  0.32174737 0.14253759 0.76915224 0.76316623 0.97180253 0.80697848\n",
      "  0.66037693 0.10170507 0.78536814 0.91609489 0.92679807 0.96594055\n",
      "  1.01164212 0.72049612 0.49687935 0.86609438]\n",
      " [0.43345348 0.95272684 0.54009091 0.5059149  0.67814313 0.31875786\n",
      "  0.5325156  0.14288416 0.74083789 0.34068284 0.39488602 0.44460901\n",
      "  0.21973929 0.34497271 0.6483735  0.66866406 0.22699815 0.22639267\n",
      "  0.75369443 0.50466278 0.59367907 0.51554062 0.67879689 0.81987937\n",
      "  0.97857365 0.90012079 0.27162152 0.80594097 0.93592482 0.2097709\n",
      "  0.09997998 0.26122749 0.6594643  0.91923157 0.77607571 0.96592121\n",
      "  0.         0.70199166 0.72711777 0.58647197 0.55893913 0.56359837\n",
      "  0.2574249  0.59091565 0.7553436  0.45680036 0.23539561 0.57651155\n",
      "  0.62345652 0.40721423 0.91527277 0.63900861 0.53039712 0.49516246\n",
      "  0.15514173 0.63550771 0.43092639 0.09464347 0.77171629 0.6684975\n",
      "  0.76813522 0.37315005 0.83368569 0.47993057 0.50938339 0.74647652\n",
      "  0.19166144 0.35433841 0.36899379 0.40747868 0.36486095 0.23165666\n",
      "  0.61708451 0.7955651  0.21007884 0.26984722 0.1452255  0.38081802\n",
      "  0.36802885 0.55979845 0.43545913 0.50797801 0.5876406  0.48532478\n",
      "  0.65422507 0.8358033  0.64587916 0.29710962 0.07828426 0.16421189\n",
      "  0.33287536 0.8645293  0.36531948 0.20905392 0.5343981  0.32928424\n",
      "  0.32408692 0.24565589 0.79909025 0.15834101]\n",
      " [0.3718934  0.25532087 0.54308117 0.68827063 0.73794111 0.92357696\n",
      "  0.7159699  0.55992288 0.4167645  0.61015301 0.65894395 0.43650075\n",
      "  0.81871026 0.40815136 0.81869239 0.4566611  0.57714167 0.67561196\n",
      "  0.08918617 0.47233711 0.48077171 0.52085244 0.09072936 0.1863237\n",
      "  0.81057693 0.79593184 0.6669091  0.78140038 0.34007733 0.53594501\n",
      "  0.61585337 0.49340144 0.46061477 0.5987615  0.12523712 0.26911604\n",
      "  0.70199166 0.         0.30671093 0.30100113 0.73302383 0.13839503\n",
      "  0.81752549 0.4392377  0.73157453 0.5404952  0.68136205 0.41766157\n",
      "  0.41828772 0.46184049 0.22553152 0.77793806 0.17630214 0.81449359\n",
      "  0.54726097 0.30593844 0.5639462  0.72309578 0.07180203 0.03890378\n",
      "  0.44341338 0.60372825 0.35043898 0.68027137 0.51638669 0.43040804\n",
      "  0.55256244 0.73414481 0.52859019 0.59830498 0.67283987 0.49770494\n",
      "  0.37940511 0.16373336 0.73392967 0.82822925 0.80747008 0.46291038\n",
      "  0.77268391 0.14323284 0.34110236 0.72248493 0.32051632 0.28750563\n",
      "  0.05380744 0.16613701 0.63696867 0.49559733 0.70408181 0.54699496\n",
      "  0.39126152 0.17209037 0.52430326 0.64743603 0.68750087 0.74275197\n",
      "  0.78501912 0.45826902 0.45536584 0.597188  ]\n",
      " [0.29450246 0.38184156 0.33022572 0.49228584 0.48182974 0.84588292\n",
      "  0.51110871 0.60784869 0.11262574 0.77596578 0.83910181 0.64634514\n",
      "  0.75979563 0.38237521 0.58370418 0.18111003 0.52740112 0.79360071\n",
      "  0.24553673 0.28925965 0.24353696 0.75342679 0.39018758 0.20731677\n",
      "  0.50415503 0.49488745 0.57569044 0.49546286 0.23302533 0.51977647\n",
      "  0.62737461 0.46763384 0.18952263 0.29714756 0.2256411  0.38824159\n",
      "  0.72711777 0.30671093 0.         0.5668256  0.51934949 0.31840196\n",
      "  0.74072128 0.20840036 0.45184082 0.37209788 0.80218282 0.200899\n",
      "  0.1699086  0.34679261 0.33385481 0.5402857  0.29911708 0.63599194\n",
      "  0.59521977 0.09258549 0.40602574 0.707627   0.34046018 0.28469302\n",
      "  0.13700877 0.47030692 0.10660134 0.49496967 0.32238747 0.12598572\n",
      "  0.6472123  0.60576672 0.4128078  0.78884955 0.84115681 0.49556529\n",
      "  0.14379457 0.46276623 0.66841227 0.74783127 0.78411484 0.36594947\n",
      "  0.64149001 0.33486881 0.2926965  0.52818113 0.14182645 0.24984793\n",
      "  0.32787948 0.2588794  0.38093504 0.63926462 0.76117577 0.56485071\n",
      "  0.51903775 0.31441169 0.70235041 0.76057582 0.907319   0.62571981\n",
      "  0.67398575 0.50106734 0.14936672 0.68433566]\n",
      " [0.46770434 0.51824405 0.68529088 0.78934901 0.89374705 0.87771096\n",
      "  0.82159422 0.45434953 0.66198644 0.3661154  0.39605164 0.17630377\n",
      "  0.76748505 0.43964301 0.94360566 0.66733507 0.56558358 0.47003903\n",
      "  0.39014552 0.60828488 0.65621186 0.22744489 0.21529886 0.4873096\n",
      "  1.04749415 1.01292346 0.67319829 0.97150362 0.64107378 0.50426188\n",
      "  0.53292038 0.4863857  0.66690715 0.86289427 0.42616905 0.53193719\n",
      "  0.58647197 0.30100113 0.5668256  0.         0.84508413 0.25071601\n",
      "  0.78400932 0.61995739 0.91628791 0.64589337 0.47209024 0.59477912\n",
      "  0.61671549 0.54710383 0.50437485 0.90965829 0.28318961 0.88140889\n",
      "  0.44555295 0.52653033 0.65455652 0.64439503 0.33249219 0.30029008\n",
      "  0.69296987 0.6631645  0.63581489 0.77250065 0.64906565 0.67505007\n",
      "  0.39796528 0.76349659 0.59209949 0.33211378 0.41907139 0.46569927\n",
      "  0.58088032 0.27253813 0.70256478 0.79674601 0.72290957 0.5325717\n",
      "  0.79875096 0.23433779 0.43201848 0.8169429  0.51448695 0.40938887\n",
      "  0.25533293 0.46333221 0.80353922 0.30111103 0.55573993 0.47714709\n",
      "  0.26413825 0.45385446 0.28177094 0.45141785 0.39497478 0.75978478\n",
      "  0.78966115 0.39604642 0.71261804 0.43918665]\n",
      " [0.38251076 0.89343619 0.19410951 0.0591323  0.13266882 0.45929401\n",
      "  0.02724526 0.54116067 0.44315189 0.8217631  0.89030393 0.80867085\n",
      "  0.43145773 0.40949823 0.10107157 0.34676238 0.35766799 0.75400572\n",
      "  0.71782469 0.26069134 0.27599966 0.91994536 0.77889974 0.71715063\n",
      "  0.46359864 0.37216076 0.28746067 0.26444719 0.74283211 0.41417678\n",
      "  0.48879799 0.39629161 0.33625825 0.51197456 0.71416522 0.90155307\n",
      "  0.55893913 0.73302383 0.51934949 0.84508413 0.         0.64368624\n",
      "  0.38802521 0.31376453 0.22620741 0.20080048 0.76435025 0.32811779\n",
      "  0.34980076 0.29810124 0.84525412 0.08040133 0.59568235 0.14159526\n",
      "  0.53653662 0.45499212 0.19100833 0.47846567 0.79526052 0.69571454\n",
      "  0.44904407 0.20454205 0.59547269 0.08288146 0.21673818 0.43759022\n",
      "  0.63211854 0.2210198  0.25961578 0.87226118 0.87135044 0.43433934\n",
      "  0.3811477  0.89237707 0.36916579 0.38612603 0.50872519 0.31321343\n",
      "  0.23105334 0.65452998 0.41871023 0.05225726 0.42182521 0.45774473\n",
      "  0.71837233 0.76289613 0.16872621 0.70361352 0.63237282 0.47872305\n",
      "  0.62754327 0.81541628 0.79373314 0.72496592 1.01374604 0.25175336\n",
      "  0.2867168  0.50338307 0.47284397 0.6389107 ]\n",
      " [0.26426468 0.39142675 0.46452895 0.59346973 0.67015099 0.79154325\n",
      "  0.62357088 0.42160413 0.41127205 0.49410996 0.54936572 0.33804558\n",
      "  0.68513949 0.28114061 0.73635661 0.42077618 0.44651327 0.54666446\n",
      "  0.20070696 0.38846887 0.42019036 0.43895166 0.13984047 0.28670877\n",
      "  0.79830962 0.76772157 0.54158181 0.73442665 0.43265832 0.40143286\n",
      "  0.47792983 0.36158488 0.42137431 0.61292493 0.23065367 0.40497801\n",
      "  0.56359837 0.13839503 0.31840196 0.25071601 0.64368624 0.\n",
      "  0.68654771 0.38115303 0.68070217 0.44412152 0.55311718 0.35658132\n",
      "  0.37235029 0.35443143 0.35761328 0.69830485 0.04872167 0.70875979\n",
      "  0.40891368 0.27644863 0.4620788  0.58603647 0.20873913 0.10627644\n",
      "  0.44230334 0.49161394 0.39647153 0.58171872 0.43217523 0.42433598\n",
      "  0.41774155 0.61565668 0.41572754 0.49250832 0.5586928  0.36241311\n",
      "  0.33500544 0.26168705 0.60241309 0.69768825 0.67044402 0.34977669\n",
      "  0.65389925 0.01649885 0.22933279 0.62558189 0.26874976 0.18603224\n",
      "  0.0934668  0.28591443 0.57386086 0.36989106 0.56684058 0.40923807\n",
      "  0.25857814 0.30503832 0.41151432 0.51709985 0.59865352 0.62120065\n",
      "  0.66111213 0.3201191  0.46238713 0.46195861]\n",
      " [0.46670553 1.04618018 0.4580854  0.35185806 0.52031405 0.10736823\n",
      "  0.36682153 0.33986339 0.71484374 0.59487239 0.65167839 0.67084659\n",
      "  0.04798074 0.40985681 0.45491084 0.6234919  0.24041783 0.48377036\n",
      "  0.84508454 0.46102127 0.53835402 0.75707417 0.82103574 0.88748252\n",
      "  0.84839496 0.75899486 0.16503491 0.6524202  0.97104907 0.28857941\n",
      "  0.25816004 0.32496712 0.61246307 0.8520616  0.85806288 1.05787035\n",
      "  0.2574249  0.81752549 0.74072128 0.78400932 0.38802521 0.68654771\n",
      "  0.         0.55388829 0.61149733 0.38437466 0.49266456 0.5500284\n",
      "  0.59387869 0.39515071 1.00242011 0.45975524 0.64243851 0.27950973\n",
      "  0.34544105 0.65059753 0.34941102 0.16440055 0.88923904 0.77955772\n",
      "  0.73467962 0.27880598 0.84242171 0.32899591 0.44279916 0.71584136\n",
      "  0.42411773 0.17018392 0.3279166  0.6601147  0.62217848 0.3288096\n",
      "  0.60388525 0.94390427 0.08435192 0.0131254  0.14006271 0.37972435\n",
      "  0.1577732  0.6887005  0.48777554 0.33701491 0.60199229 0.54525894\n",
      "  0.77961208 0.91720285 0.52525603 0.52764109 0.33339363 0.3069483\n",
      "  0.52008117 0.95767711 0.60769522 0.4658548  0.79072429 0.13972837\n",
      "  0.10169507 0.39047557 0.76474826 0.40338101]\n",
      " [0.18755242 0.57985931 0.12196153 0.28398556 0.29880916 0.65541841\n",
      "  0.30375331 0.49810782 0.16100761 0.7262373  0.79491632 0.64312923\n",
      "  0.57936944 0.2738795  0.38680392 0.07781822 0.36943292 0.70919095\n",
      "  0.41049574 0.0933103  0.04161133 0.75808108 0.50077924 0.40346843\n",
      "  0.44295819 0.39563206 0.39150025 0.35335801 0.43882588 0.38319872\n",
      "  0.49281819 0.33480947 0.06919742 0.3294438  0.40333342 0.58784354\n",
      "  0.59091565 0.4392377  0.20840036 0.61995739 0.31376453 0.38115303\n",
      "  0.55388829 0.         0.29959172 0.17152858 0.7189624  0.02523304\n",
      "  0.04094199 0.18372098 0.53164259 0.34432987 0.33957101 0.42761474\n",
      "  0.48727947 0.14261005 0.20672085 0.55069156 0.49461573 0.40501529\n",
      "  0.18272331 0.27580188 0.2971127  0.28671889 0.11655702 0.16274995\n",
      "  0.56239795 0.40615967 0.23381326 0.75645166 0.78804266 0.37241651\n",
      "  0.06740271 0.60274361 0.48970336 0.55937771 0.6185427  0.21023337\n",
      "  0.44006757 0.39559848 0.21195433 0.3199273  0.11881123 0.21301514\n",
      "  0.43625228 0.44993544 0.19778685 0.58868556 0.64094648 0.44237396\n",
      "  0.47800767 0.50320803 0.66870823 0.67578502 0.89032886 0.42893523\n",
      "  0.47746895 0.40654362 0.21354997 0.59019101]\n",
      " [0.45853248 0.83019057 0.24411464 0.26087487 0.09539185 0.68549934\n",
      "  0.24500142 0.70836721 0.34564122 0.97351577 1.04333234 0.92146601\n",
      "  0.65319693 0.52252929 0.20537006 0.27667117 0.53498178 0.92733748\n",
      "  0.68983749 0.31562791 0.26088513 1.03663072 0.79844396 0.6585781\n",
      "  0.2374872  0.14796142 0.49179297 0.05645065 0.63717945 0.57869769\n",
      "  0.67240008 0.54537792 0.27154813 0.32620994 0.67503432 0.83520817\n",
      "  0.7553436  0.73157453 0.45184082 0.91628791 0.22620741 0.68070217\n",
      "  0.61149733 0.29959172 0.         0.31492972 0.93767246 0.32413281\n",
      "  0.31383698 0.40396251 0.78294007 0.17329842 0.63847267 0.36171095\n",
      "  0.70084831 0.42577162 0.33119794 0.68440346 0.78051659 0.69957842\n",
      "  0.33505015 0.38227297 0.49174704 0.28543282 0.28268893 0.33453837\n",
      "  0.79119174 0.44194883 0.40325302 1.01458924 1.02989393 0.58664108\n",
      "  0.35278756 0.89511351 0.58343727 0.61045832 0.72505616 0.42910307\n",
      "  0.45609734 0.69503215 0.49123851 0.27510145 0.41569725 0.50690988\n",
      "  0.73348928 0.7106598  0.11940884 0.84286172 0.82308829 0.64549602\n",
      "  0.74561338 0.76622988 0.92971629 0.89577571 1.15396124 0.47279922\n",
      "  0.51111555 0.64379911 0.346701   0.80748383]\n",
      " [0.18173541 0.72273097 0.08342762 0.14941839 0.26102049 0.4844526\n",
      "  0.17957179 0.39461519 0.33151935 0.65934381 0.72911659 0.62126148\n",
      "  0.41264025 0.21734172 0.29779672 0.23912014 0.23003775 0.61368096\n",
      "  0.53530366 0.08285933 0.15410888 0.73497603 0.58083544 0.54979691\n",
      "  0.52427905 0.45154233 0.22544558 0.37015602 0.60504397 0.26585612\n",
      "  0.36599828 0.230464   0.22810983 0.47522578 0.53682028 0.73228614\n",
      "  0.45680036 0.5404952  0.37209788 0.64589337 0.20080048 0.44412152\n",
      "  0.38437466 0.17152858 0.31492972 0.         0.62397375 0.17215961\n",
      "  0.21231769 0.09964052 0.67536445 0.26422316 0.39581753 0.27681462\n",
      "  0.38661221 0.29022873 0.03525001 0.40084266 0.6058043  0.50233756\n",
      "  0.35039898 0.10558788 0.46705955 0.13977617 0.0587272  0.33187237\n",
      "  0.47626882 0.23501334 0.090024   0.70250579 0.71509541 0.27174664\n",
      "  0.22893    0.69670354 0.32521507 0.38924004 0.46042205 0.11966651\n",
      "  0.26978098 0.45449957 0.21791765 0.18243147 0.24739403 0.25882677\n",
      "  0.52180103 0.59033926 0.19711084 0.53088014 0.51817645 0.33225499\n",
      "  0.44119019 0.63969288 0.61918168 0.58173992 0.84292473 0.25740673\n",
      "  0.30594154 0.33020553 0.38038287 0.49340716]\n",
      " [0.53536304 0.93536443 0.70229564 0.70734271 0.87150033 0.54544157\n",
      "  0.737163   0.2293888  0.84629879 0.12844612 0.16513164 0.29878949\n",
      "  0.45338954 0.445361   0.86002202 0.79443249 0.40785768 0.01037869\n",
      "  0.75367678 0.64805449 0.73371821 0.3257355  0.62965095 0.83786753\n",
      "  1.14421762 1.07528097 0.48581779 0.99176458 0.97616504 0.35900029\n",
      "  0.27661878 0.39508816 0.78735929 1.04385112 0.78357853 0.94932028\n",
      "  0.23539561 0.68136205 0.80218282 0.47209024 0.76435025 0.55311718\n",
      "  0.49266456 0.7189624  0.93767246 0.62397375 0.         0.69890748\n",
      "  0.74264339 0.5473486  0.90676345 0.8445251  0.53800752 0.72001077\n",
      "  0.23754615 0.71901654 0.60663143 0.32972015 0.74196303 0.65664492\n",
      "  0.87708455 0.56387041 0.90399501 0.68200557 0.66618176 0.85499067\n",
      "  0.15743852 0.57748263 0.53461032 0.19495703 0.13201231 0.3540217\n",
      "  0.72496087 0.727919   0.44198307 0.50496531 0.37001281 0.51980199\n",
      "  0.59621735 0.54301205 0.5212799  0.71626535 0.67779276 0.55368103\n",
      "  0.62797283 0.83885407 0.82101489 0.18627229 0.16011292 0.29218107\n",
      "  0.29584315 0.85338102 0.19430852 0.04318027 0.30451806 0.55560388\n",
      "  0.55629581 0.31279934 0.90644377 0.13080607]\n",
      " [0.16537762 0.56566994 0.13423648 0.29475242 0.32041187 0.65292491\n",
      "  0.31641869 0.47986512 0.1679719  0.70375935 0.77224123 0.61849016\n",
      "  0.5736996  0.25354651 0.40483122 0.09556062 0.35759627 0.6892147\n",
      "  0.39203955 0.09005506 0.06409904 0.73336716 0.47751481 0.38971472\n",
      "  0.46725108 0.4207813  0.38629673 0.37816047 0.43338827 0.36771901\n",
      "  0.47774376 0.3183222  0.08863386 0.34675346 0.38648348 0.5740686\n",
      "  0.57651155 0.41766157 0.200899   0.59477912 0.32811779 0.35658132\n",
      "  0.5500284  0.02523304 0.32413281 0.17215961 0.69890748 0.\n",
      "  0.04705814 0.17045657 0.51756352 0.36284209 0.31464882 0.43672536\n",
      "  0.4687796  0.12696269 0.20676723 0.53962174 0.4744305  0.38288734\n",
      "  0.19270097 0.27380548 0.29510402 0.29540533 0.12164025 0.17164718\n",
      "  0.54198926 0.40699937 0.22580663 0.73309051 0.76589306 0.35494773\n",
      "  0.05711597 0.58089396 0.4833078  0.55604881 0.60942499 0.19590833\n",
      "  0.441938   0.37090911 0.18825884 0.33076014 0.09737407 0.18783107\n",
      "  0.41320345 0.43480563 0.22024821 0.56591799 0.62453712 0.4253419\n",
      "  0.45436464 0.4873486  0.64524617 0.655752   0.86645814 0.42847308\n",
      "  0.47698625 0.38617601 0.22375804 0.57073694]\n",
      " [0.2075269  0.5457819  0.160793   0.3227094  0.32407376 0.69583152\n",
      "  0.34120125 0.52533887 0.12179715 0.74372651 0.81171671 0.65112564\n",
      "  0.61865076 0.29760008 0.41831677 0.05415379 0.40457912 0.73304287\n",
      "  0.38290825 0.1328648  0.07380144 0.76535604 0.48493254 0.36930802\n",
      "  0.43530085 0.39626031 0.43092311 0.36522837 0.39876233 0.41449623\n",
      "  0.52458044 0.36482376 0.05088556 0.30159345 0.37315537 0.55330532\n",
      "  0.62345652 0.41828772 0.1699086  0.61671549 0.34980076 0.37235029\n",
      "  0.59387869 0.04094199 0.31383698 0.21231769 0.74264339 0.04705814\n",
      "  0.         0.21750239 0.49752485 0.37528926 0.33390265 0.46694698\n",
      "  0.51408195 0.11413888 0.24746765 0.5865262  0.47009227 0.38579584\n",
      "  0.14572074 0.31621383 0.2563021  0.3264291  0.15746103 0.12483643\n",
      "  0.58543002 0.44706328 0.27167844 0.7708282  0.80648236 0.40098683\n",
      "  0.03895712 0.58199676 0.52861568 0.59954054 0.65587463 0.24294443\n",
      "  0.48100949 0.38754756 0.22678829 0.35852572 0.10369721 0.21734882\n",
      "  0.41987754 0.41723991 0.22191975 0.60538968 0.67092491 0.47153992\n",
      "  0.4916602  0.47130953 0.6827779  0.6995374  0.90241576 0.46970717\n",
      "  0.51824711 0.42986416 0.176771   0.61517054]\n",
      " [0.09074283 0.66447887 0.16019847 0.24344096 0.3582861  0.5013924\n",
      "  0.27518057 0.3208792  0.33761109 0.57116686 0.64094669 0.523063\n",
      "  0.41300515 0.11954778 0.3966081  0.26144986 0.18733155 0.53726486\n",
      "  0.46875974 0.10114001 0.18915389 0.63729105 0.49338158 0.49804214\n",
      "  0.59741233 0.53255078 0.23043625 0.46016089 0.57594699 0.2004325\n",
      "  0.30943297 0.15437802 0.25229993 0.51237975 0.47571892 0.67516182\n",
      "  0.40721423 0.46184049 0.34679261 0.54710383 0.29810124 0.35443143\n",
      "  0.39515071 0.18372098 0.40396251 0.09964052 0.5473486  0.17045657\n",
      "  0.21750239 0.         0.61858215 0.36377182 0.30571546 0.35477216\n",
      "  0.31107622 0.25571797 0.10901141 0.36959022 0.53022086 0.42303064\n",
      "  0.36313108 0.14253308 0.45056012 0.22897276 0.12199439 0.34194159\n",
      "  0.3941959  0.27721875 0.07029743 0.61068963 0.62934011 0.194238\n",
      "  0.21678096 0.6123608  0.32161974 0.40290605 0.44131778 0.02770733\n",
      "  0.31550241 0.36341622 0.12510997 0.27336653 0.20689481 0.17443552\n",
      "  0.43738466 0.53273129 0.28455466 0.43901146 0.45877909 0.26211803\n",
      "  0.34394795 0.57812255 0.52579463 0.50437254 0.75002293 0.29094911\n",
      "  0.33732599 0.24175382 0.39418901 0.41680456]\n",
      " [0.53714814 0.04825708 0.65177784 0.81152284 0.8156234  1.10976056\n",
      "  0.83397    0.77533208 0.43746165 0.83436162 0.88093022 0.65637696\n",
      "  1.01014595 0.5966263  0.91552854 0.51491133 0.76587813 0.90091555\n",
      "  0.16173059 0.59565859 0.57070282 0.73115686 0.29241422 0.1282395\n",
      "  0.79474564 0.80683813 0.84279599 0.82332893 0.19895816 0.73421824\n",
      "  0.82426279 0.68685133 0.52307295 0.55777955 0.14436141 0.0569252\n",
      "  0.91527277 0.22553152 0.33385481 0.50437485 0.84525412 0.35761328\n",
      "  1.00242011 0.53164259 0.78294007 0.67536445 0.90676345 0.51756352\n",
      "  0.49752485 0.61858215 0.         0.87230796 0.38527486 0.95065008\n",
      "  0.76238952 0.39063896 0.70535782 0.92653721 0.17293528 0.25158659\n",
      "  0.45156949 0.75890109 0.30352167 0.80992521 0.63572697 0.44902733\n",
      "  0.77530023 0.89538143 0.68883507 0.81920873 0.89632626 0.69870395\n",
      "  0.46424625 0.26017042 0.92139151 1.01193282 1.01009119 0.62767342\n",
      "  0.93339106 0.3655226  0.51465408 0.84744444 0.42858781 0.4571724\n",
      "  0.27919805 0.08585131 0.71444101 0.72111013 0.92347173 0.75520116\n",
      "  0.61515006 0.05345869 0.74800211 0.87244025 0.89888901 0.90943465\n",
      "  0.95526059 0.66963301 0.44809839 0.81956899]\n",
      " [0.4429154  0.92054326 0.23541496 0.13759992 0.08045468 0.52317286\n",
      "  0.10743864 0.62065263 0.45167207 0.90033245 0.96910739 0.88153532\n",
      "  0.50465161 0.47935151 0.04350953 0.36061965 0.43744381 0.83417447\n",
      "  0.75465639 0.30998238 0.30346449 0.99384291 0.83012161 0.74422595\n",
      "  0.40474682 0.31057281 0.367416   0.19977139 0.75377277 0.49295767\n",
      "  0.56914623 0.47283709 0.35132937 0.48672669 0.74748057 0.92768018\n",
      "  0.63900861 0.77793806 0.5402857  0.90965829 0.08040133 0.69830485\n",
      "  0.45975524 0.34432987 0.17329842 0.26422316 0.8445251  0.36284209\n",
      "  0.37528926 0.36377182 0.87230796 0.         0.65125229 0.1927832\n",
      "  0.61575572 0.48676601 0.2612192  0.55758008 0.83685411 0.74177117\n",
      "  0.45183394 0.28314348 0.60524623 0.16257387 0.26613126 0.44396221\n",
      "  0.71106906 0.29669109 0.33309061 0.94982981 0.95064346 0.51166506\n",
      "  0.41060524 0.93976763 0.44668882 0.45671094 0.58481913 0.38178989\n",
      "  0.30199029 0.71018321 0.47906068 0.13114227 0.45981261 0.51275488\n",
      "  0.76783657 0.79252876 0.16254344 0.78035191 0.71267933 0.55800246\n",
      "  0.70049805 0.84652005 0.87027736 0.80498578 1.09128855 0.32694891\n",
      "  0.35806817 0.57937615 0.47180753 0.71869057]\n",
      " [0.21561057 0.42236267 0.41826325 0.54509697 0.62485356 0.74805712\n",
      "  0.57533888 0.39005728 0.38355725 0.48975083 0.54875623 0.34758763\n",
      "  0.64264    0.23480262 0.68893573 0.38416101 0.4020604  0.53088596\n",
      "  0.22430634 0.34178305 0.37759342 0.45447005 0.18830605 0.30082114\n",
      "  0.76461393 0.73015128 0.49515008 0.69278873 0.43904743 0.3596526\n",
      "  0.44143011 0.31771866 0.38386994 0.58816768 0.24981471 0.43552768\n",
      "  0.53039712 0.17630214 0.29911708 0.28318961 0.59568235 0.04872167\n",
      "  0.64243851 0.33957101 0.63847267 0.39581753 0.53800752 0.31464882\n",
      "  0.33390265 0.30571546 0.38527486 0.65125229 0.         0.66004986\n",
      "  0.37711834 0.24553781 0.41344462 0.54738367 0.24803441 0.1398885\n",
      "  0.41528583 0.44305881 0.3861609  0.53314767 0.38522515 0.39616567\n",
      "  0.3955791  0.56783497 0.36716299 0.49488402 0.55498827 0.32143645\n",
      "  0.2977333  0.3095106  0.55855613 0.65336185 0.63169019 0.30116868\n",
      "  0.60614849 0.05895522 0.18061325 0.57706461 0.2313131  0.13851323\n",
      "  0.13785302 0.30820985 0.52971771 0.3593298  0.53902432 0.37235444\n",
      "  0.2423066  0.33415905 0.41061624 0.50004969 0.60888336 0.57391698\n",
      "  0.61439277 0.28502082 0.43750333 0.43875593]\n",
      " [0.44548956 0.99829921 0.30616733 0.14509241 0.26632211 0.33197419\n",
      "  0.1348732  0.51370603 0.57129617 0.79679891 0.86221346 0.8168053\n",
      "  0.32677251 0.44357877 0.17874073 0.47347528 0.33669933 0.70999168\n",
      "  0.81210958 0.35499175 0.39488563 0.92165005 0.84804082 0.82402859\n",
      "  0.59676117 0.50305412 0.23730667 0.39247201 0.86542897 0.40078254\n",
      "  0.44616364 0.40093312 0.46243942 0.65310229 0.8133336  1.00751384\n",
      "  0.49516246 0.81449359 0.63599194 0.88140889 0.14159526 0.70875979\n",
      "  0.27950973 0.42761474 0.36171095 0.27681462 0.72001077 0.43672536\n",
      "  0.46694698 0.35477216 0.95065008 0.1927832  0.66004986 0.\n",
      "  0.51246249 0.56178927 0.25067275 0.40464636 0.88117451 0.77593265\n",
      "  0.58066169 0.219765   0.72049247 0.14132987 0.3157787  0.56722924\n",
      "  0.6077101  0.1425474  0.29451023 0.85422777 0.83862459 0.43136088\n",
      "  0.49310325 0.96706758 0.28741521 0.27418798 0.4141822  0.35959732\n",
      "  0.1287114  0.71711598 0.4795744  0.11044924 0.52206789 0.52838603\n",
      "  0.79201029 0.86609525 0.30923975 0.6942334  0.57281755 0.45647401\n",
      "  0.63959977 0.91610884 0.78364534 0.6846085  0.99405555 0.16587822\n",
      "  0.18103992 0.50508209 0.60625323 0.60447835]\n",
      " [0.31024389 0.79898816 0.46477702 0.47818276 0.63729839 0.43346544\n",
      "  0.50931553 0.01310513 0.62419942 0.28645828 0.35416922 0.32585498\n",
      "  0.32377048 0.21815727 0.63508582 0.56412386 0.17999753 0.22730382\n",
      "  0.60117519 0.41215105 0.49908406 0.41807285 0.52405248 0.67088476\n",
      "  0.90698608 0.83776156 0.27588693 0.75532279 0.7932672  0.12350489\n",
      "  0.08815546 0.15770234 0.5563253  0.81548461 0.62483254 0.8122933\n",
      "  0.15514173 0.54726097 0.59521977 0.44555295 0.53653662 0.40891368\n",
      "  0.34544105 0.48727947 0.70084831 0.38661221 0.23754615 0.4687796\n",
      "  0.51408195 0.31107622 0.76238952 0.61575572 0.37711834 0.51246249\n",
      "  0.         0.50630582 0.37036058 0.19886159 0.61673752 0.51423109\n",
      "  0.65373867 0.33271217 0.70079085 0.45365543 0.4288283  0.63164802\n",
      "  0.09614687 0.37294618 0.29759537 0.34182893 0.33488876 0.11692497\n",
      "  0.50057436 0.64171197 0.2697583  0.35850962 0.27883908 0.28340031\n",
      "  0.39994338 0.40480193 0.30352696 0.4911484  0.46099218 0.34684108\n",
      "  0.49916145 0.68418622 0.58371451 0.18665905 0.1671362  0.05783869\n",
      "  0.18371599 0.71115339 0.27337377 0.19513758 0.48218277 0.35790449\n",
      "  0.3736567  0.09610012 0.68400791 0.10681557]\n",
      " [0.20232218 0.43872387 0.26119914 0.42114672 0.438013   0.75636304\n",
      "  0.44333369 0.5187606  0.13920365 0.70084143 0.76596191 0.58451536\n",
      "  0.6685162  0.29133922 0.52935767 0.15117228 0.43489969 0.71013469\n",
      "  0.26900241 0.20809171 0.18332165 0.69552381 0.37689867 0.26293064\n",
      "  0.52203274 0.49569861 0.4856282  0.47550053 0.32057379 0.42758771\n",
      "  0.53564369 0.37545593 0.15470601 0.345407   0.26074616 0.44719988\n",
      "  0.63550771 0.30593844 0.09258549 0.52653033 0.45499212 0.27644863\n",
      "  0.65059753 0.14261005 0.42577162 0.29022873 0.71901654 0.12696269\n",
      "  0.11413888 0.25571797 0.39063896 0.48676601 0.24553781 0.56178927\n",
      "  0.50630582 0.         0.32274839 0.6150438  0.35606912 0.27501828\n",
      "  0.17134324 0.3839436  0.19889286 0.42057154 0.24604133 0.15129822\n",
      "  0.56269724 0.52057427 0.32305853 0.71883918 0.76554312 0.40421138\n",
      "  0.07647341 0.46935883 0.57710709 0.6580504  0.69161918 0.27396847\n",
      "  0.55715429 0.29258811 0.20281644 0.45712011 0.04934455 0.16559594\n",
      "  0.31177469 0.30790759 0.33592242 0.56270204 0.67137323 0.47395506\n",
      "  0.44344093 0.36076573 0.63122918 0.67684375 0.84300696 0.53906986\n",
      "  0.58699172 0.41336686 0.19621414 0.59829024]\n",
      " [0.19783981 0.75246583 0.11339154 0.13486096 0.26873887 0.44922137\n",
      "  0.16704205 0.37749467 0.36676669 0.64822716 0.7177913  0.62033964\n",
      "  0.37830946 0.21876059 0.29106109 0.27411928 0.20570501 0.59628468\n",
      "  0.56269449 0.11694569 0.18894436 0.73289686 0.60026278 0.58058571\n",
      "  0.54784438 0.47182471 0.19173459 0.38514128 0.63904554 0.24763871\n",
      "  0.34298534 0.217593   0.2630657  0.5080287  0.56560364 0.76227689\n",
      "  0.43092639 0.5639462  0.40602574 0.65455652 0.19100833 0.4620788\n",
      "  0.34941102 0.20672085 0.33119794 0.03525001 0.60663143 0.20676723\n",
      "  0.24746765 0.10901141 0.70535782 0.2612192  0.41344462 0.25067275\n",
      "  0.37036058 0.32274839 0.         0.37107834 0.63050635 0.52545901\n",
      "  0.38552063 0.07083787 0.5018309  0.1200279  0.09339215 0.36707578\n",
      "  0.46238473 0.20023254 0.0741583  0.69397717 0.70225151 0.25828285\n",
      "  0.26329301 0.71786413 0.2916321  0.3541471  0.42820567 0.12222645\n",
      "  0.23547827 0.47157749 0.23327831 0.16436709 0.27868331 0.27886184\n",
      "  0.54272889 0.62002349 0.21647727 0.52300218 0.49479761 0.31447243\n",
      "  0.43935414 0.66855216 0.6122706  0.56492119 0.83503161 0.22224072\n",
      "  0.27078215 0.32149183 0.41543167 0.47672031]\n",
      " [0.41439256 0.96683683 0.4838038  0.42851969 0.60256193 0.23749663\n",
      "  0.4528385  0.19025235 0.70717767 0.43061102 0.48737812 0.51681801\n",
      "  0.13108831 0.33484114 0.56371619 0.6272111  0.18233315 0.32055907\n",
      "  0.76519168 0.45983788 0.54731488 0.59701047 0.71138199 0.8224164\n",
      "  0.91337715 0.83117366 0.19298531 0.73276447 0.92688731 0.19362619\n",
      "  0.11279226 0.24409955 0.61722517 0.87351724 0.7839543  0.9795096\n",
      "  0.09464347 0.72309578 0.707627   0.64439503 0.47846567 0.58603647\n",
      "  0.16440055 0.55069156 0.68440346 0.40084266 0.32972015 0.53962174\n",
      "  0.5865262  0.36959022 0.92653721 0.55758008 0.54738367 0.40464636\n",
      "  0.19886159 0.6150438  0.37107834 0.         0.79440039 0.68726955\n",
      "  0.73223943 0.30655381 0.813743   0.40267249 0.45710992 0.71126827\n",
      "  0.26514622 0.26616377 0.31891473 0.4961976  0.45821599 0.22783416\n",
      "  0.58583436 0.83189511 0.11744951 0.17714112 0.08440755 0.34585885\n",
      "  0.27643965 0.58484194 0.42422379 0.42660404 0.56590574 0.47890896\n",
      "  0.6790462  0.84405114 0.58017135 0.37070543 0.17256259 0.17807355\n",
      "  0.38205298 0.87783219 0.44685614 0.30163901 0.62633183 0.23929955\n",
      "  0.23038831 0.26835361 0.76328051 0.24053402]\n",
      " [0.44092868 0.19424496 0.60335858 0.75233384 0.79304812 0.99534382\n",
      "  0.77920684 0.62928774 0.45296377 0.66405434 0.70896132 0.48395037\n",
      "  0.89051074 0.47972657 0.87830593 0.50392658 0.64887645 0.73668631\n",
      "  0.09564671 0.53491311 0.53620448 0.55864225 0.11949547 0.17642179\n",
      "  0.84258515 0.83511155 0.73804752 0.82840888 0.32318018 0.60768662\n",
      "  0.68666304 0.56519646 0.50903089 0.62114719 0.12392664 0.20826639\n",
      "  0.77171629 0.07180203 0.34046018 0.33249219 0.79526052 0.20873913\n",
      "  0.88923904 0.49461573 0.78051659 0.6058043  0.74196303 0.4744305\n",
      "  0.47009227 0.53022086 0.17293528 0.83685411 0.24803441 0.88117451\n",
      "  0.61673752 0.35606912 0.63050635 0.79440039 0.         0.10981255\n",
      "  0.47681193 0.67251944 0.3640487  0.74542336 0.57858975 0.46640412\n",
      "  0.61811541 0.80401385 0.59777895 0.64689155 0.72523808 0.56936195\n",
      "  0.43175486 0.12498184 0.80568637 0.89990831 0.87879484 0.53240598\n",
      "  0.84256315 0.21193568 0.41105285 0.78700324 0.37714839 0.35644086\n",
      "  0.11786823 0.13772545 0.6912688  0.55570034 0.77159295 0.61792907\n",
      "  0.45611768 0.12142432 0.57730898 0.70952065 0.72635475 0.81320311\n",
      "  0.85584833 0.52884674 0.48467507 0.66294933]\n",
      " [0.33302029 0.28523741 0.50661376 0.65040771 0.70329665 0.88577793\n",
      "  0.67834733 0.52701361 0.39214712 0.59093156 0.64240727 0.42304106\n",
      "  0.78131976 0.36994267 0.78224593 0.42618247 0.53924643 0.65051297\n",
      "  0.0990025  0.43510837 0.44640809 0.51337112 0.10551227 0.19286365\n",
      "  0.78641319 0.76832957 0.62831817 0.75019405 0.34519161 0.49903708\n",
      "  0.58092994 0.45582323 0.42956128 0.5801733  0.1327431  0.29874841\n",
      "  0.6684975  0.03890378 0.28469302 0.30029008 0.69571454 0.10627644\n",
      "  0.77955772 0.40501529 0.69957842 0.50233756 0.65664492 0.38288734\n",
      "  0.38579584 0.42303064 0.25158659 0.74177117 0.1398885  0.77593265\n",
      "  0.51423109 0.27501828 0.52545901 0.68726955 0.10981255 0.\n",
      "  0.42005089 0.56485917 0.3388008  0.64210287 0.47924168 0.40578961\n",
      "  0.52373806 0.69525167 0.48969646 0.58303096 0.65452584 0.46113203\n",
      "  0.34683941 0.19818126 0.6960985  0.79018244 0.77157869 0.42400753\n",
      "  0.73379186 0.11403638 0.30220427 0.68447813 0.28621359 0.24865864\n",
      "  0.04556482 0.18315588 0.6027867  0.4718817  0.67305523 0.51192173\n",
      "  0.36369813 0.19882666 0.50613515 0.62154252 0.67846133 0.70392945\n",
      "  0.74629678 0.42385816 0.43405436 0.56806439]\n",
      " [0.34369133 0.49795135 0.28364997 0.43626723 0.38284323 0.83450818\n",
      "  0.44746603 0.66543606 0.03221787 0.86752406 0.9337312  0.75581575\n",
      "  0.76145284 0.4356637  0.49492733 0.1118297  0.55029079 0.86778163\n",
      "  0.38146777 0.27584163 0.19718027 0.86682874 0.52549611 0.33170364\n",
      "  0.36720684 0.36042372 0.57354284 0.37234307 0.30436068 0.55867647\n",
      "  0.66886484 0.50825359 0.1230817  0.17412476 0.35920826 0.5021501\n",
      "  0.76813522 0.44341338 0.13700877 0.69296987 0.44904407 0.44230334\n",
      "  0.73467962 0.18272331 0.33505015 0.35039898 0.87708455 0.19270097\n",
      "  0.14572074 0.36313108 0.45156949 0.45183394 0.41528583 0.58066169\n",
      "  0.65373867 0.17134324 0.38552063 0.73223943 0.47681193 0.42005089\n",
      "  0.         0.45589235 0.15704444 0.44579612 0.29237188 0.02212484\n",
      "  0.71969324 0.58135945 0.41648849 0.88823391 0.93167802 0.54304347\n",
      "  0.15316439 0.59963655 0.67216559 0.739639   0.80112392 0.38826566\n",
      "  0.61304199 0.45873478 0.35586385 0.47021613 0.20221617 0.33053139\n",
      "  0.46218857 0.38511603 0.2895577  0.72889348 0.81350949 0.61384723\n",
      "  0.61095856 0.44048219 0.80034543 0.83426766 1.01388582 0.60605386\n",
      "  0.6543282  0.56577258 0.03105804 0.75204176]\n",
      " [0.23184005 0.80526963 0.18275557 0.1457264  0.30855672 0.37962736\n",
      "  0.17747641 0.33790876 0.43648309 0.61731289 0.68599084 0.60994629\n",
      "  0.30751897 0.22413175 0.30454329 0.34470438 0.15608492 0.55349358\n",
      "  0.61092083 0.18386926 0.25966411 0.71926808 0.63136476 0.63641097\n",
      "  0.60733162 0.52712993 0.12165101 0.43354981 0.70305669 0.20982068\n",
      "  0.2919367  0.19347653 0.33369767 0.5781145  0.61689397 0.81566253\n",
      "  0.37315005 0.60372825 0.47030692 0.6631645  0.20454205 0.49161394\n",
      "  0.27880598 0.27580188 0.38227297 0.10558788 0.56387041 0.27380548\n",
      "  0.31621383 0.14253308 0.75890109 0.28314348 0.44305881 0.219765\n",
      "  0.33271217 0.3839436  0.07083787 0.30655381 0.67251944 0.56485917\n",
      "  0.45589235 0.         0.56855692 0.12194147 0.1641526  0.43717948\n",
      "  0.42792562 0.13711955 0.0758987  0.66782463 0.66758559 0.2303154\n",
      "  0.32934481 0.75183971 0.22147049 0.28381732 0.3595591  0.14197573\n",
      "  0.17465471 0.49921232 0.26389475 0.16264559 0.33763554 0.31624685\n",
      "  0.57742422 0.67312533 0.27399712 0.4997696  0.44126312 0.27503697\n",
      "  0.42961406 0.71957953 0.58998902 0.52350013 0.80930267 0.15541519\n",
      "  0.20371098 0.30083593 0.48594263 0.43645603]\n",
      " [0.40106517 0.34786683 0.41525575 0.57545944 0.53862932 0.94664074\n",
      "  0.59071521 0.71349453 0.15361911 0.87193164 0.93328392 0.73255105\n",
      "  0.86308841 0.48886938 0.64862369 0.24871997 0.63303702 0.89563383\n",
      "  0.27077454 0.38513131 0.32593806 0.83542288 0.44025366 0.19620096\n",
      "  0.49267315 0.5037244  0.67761    0.52716592 0.14852977 0.62635022\n",
      "  0.73396334 0.57420835 0.25932715 0.26017367 0.24013999 0.35064248\n",
      "  0.83368569 0.35043898 0.10660134 0.63581489 0.59547269 0.39647153\n",
      "  0.84242171 0.2971127  0.49174704 0.46705955 0.90399501 0.29510402\n",
      "  0.2563021  0.45056012 0.30352167 0.60524623 0.3861609  0.72049247\n",
      "  0.70079085 0.19889286 0.5018309  0.813743   0.3640487  0.3388008\n",
      "  0.15704444 0.56855692 0.         0.58124619 0.41364491 0.1615553\n",
      "  0.75020372 0.70204032 0.5148763  0.8807296  0.93728282 0.60210199\n",
      "  0.23923612 0.48889398 0.77183281 0.8490715  0.88965735 0.47077146\n",
      "  0.73666171 0.41240225 0.39896755 0.61073727 0.2478583  0.35441094\n",
      "  0.38431068 0.24876869 0.44274012 0.73686714 0.86708639 0.67125597\n",
      "  0.61665569 0.30152709 0.79555011 0.86284542 0.99388925 0.72351798\n",
      "  0.77200921 0.60614568 0.14706133 0.78821458]\n",
      " [0.31764006 0.8576844  0.16601882 0.0259879  0.19996261 0.41222712\n",
      "  0.05567448 0.45831016 0.43412249 0.73894668 0.80744459 0.72914084\n",
      "  0.36891276 0.33388178 0.18262661 0.33629683 0.27491257 0.67165092\n",
      "  0.6735514  0.21453518 0.25531406 0.83957249 0.71943297 0.68303141\n",
      "  0.52063157 0.4333807  0.20990737 0.33104401 0.72517783 0.3313524\n",
      "  0.40699502 0.31465064 0.32509072 0.53531001 0.67358324 0.86674581\n",
      "  0.47993057 0.68027137 0.49496967 0.77250065 0.08288146 0.58171872\n",
      "  0.32899591 0.28671889 0.28543282 0.13977617 0.68200557 0.29540533\n",
      "  0.3264291  0.22897276 0.80992521 0.16257387 0.53314767 0.14132987\n",
      "  0.45365543 0.42057154 0.1200279  0.40267249 0.74542336 0.64210287\n",
      "  0.44579612 0.12194147 0.58124619 0.         0.17453023 0.43100681\n",
      "  0.54924849 0.15886626 0.1817695  0.78976395 0.78847643 0.35213787\n",
      "  0.35185913 0.83611169 0.29822876 0.32927146 0.4397019  0.2402161\n",
      "  0.17975268 0.59142531 0.35323398 0.04452788 0.38149622 0.39753008\n",
      "  0.6610842  0.72563916 0.19758009 0.62156323 0.552174   0.39584325\n",
      "  0.54819995 0.77616926 0.71175254 0.6424124  0.9312404  0.18929775\n",
      "  0.2314117  0.42195267 0.47279016 0.55617044]\n",
      " [0.18190834 0.68358791 0.0386009  0.17621946 0.24503132 0.54214306\n",
      "  0.20106587 0.4378085  0.27447146 0.69312755 0.76291645 0.64026695\n",
      "  0.47136396 0.23985115 0.30468771 0.18080325 0.28248341 0.65599481\n",
      "  0.50250219 0.04423168 0.09555523 0.75516182 0.56466154 0.50860478\n",
      "  0.47818132 0.41091197 0.28413134 0.33904983 0.5543805  0.31177462\n",
      "  0.41603161 0.27113385 0.16971494 0.41732743 0.50071318 0.69249443\n",
      "  0.50938339 0.51638669 0.32238747 0.64906565 0.21673818 0.43217523\n",
      "  0.44279916 0.11655702 0.28268893 0.0587272  0.66618176 0.12164025\n",
      "  0.15746103 0.12199439 0.63572697 0.26613126 0.38522515 0.3157787\n",
      "  0.4288283  0.24604133 0.09339215 0.45710992 0.57858975 0.47924168\n",
      "  0.29237188 0.1641526  0.41364491 0.17453023 0.         0.27425204\n",
      "  0.51478887 0.29034668 0.1404125  0.73244785 0.75104253 0.31216348\n",
      "  0.17863091 0.67638314 0.38384907 0.44746367 0.51838495 0.14827029\n",
      "  0.32372584 0.44412896 0.21713236 0.21196495 0.20788366 0.24679834\n",
      "  0.50309081 0.55177069 0.16341224 0.56084396 0.56793713 0.37682278\n",
      "  0.46317434 0.60292374 0.64719221 0.62344719 0.87144487 0.31406464\n",
      "  0.36248935 0.36355875 0.32214561 0.5353831 ]\n",
      " [0.32157812 0.49597863 0.26741106 0.4224249  0.37717374 0.81627444\n",
      "  0.43487168 0.6433575  0.0136522  0.84584812 0.91217159 0.73539365\n",
      "  0.74201361 0.41356083 0.4872787  0.09505071 0.52920039 0.84568182\n",
      "  0.37151788 0.25604366 0.17968752 0.84674781 0.51102824 0.32677333\n",
      "  0.38062587 0.36892986 0.55411016 0.37440736 0.3100159  0.53694549\n",
      "  0.64713491 0.48642517 0.10635178 0.19490732 0.35085408 0.50076442\n",
      "  0.74647652 0.43040804 0.12598572 0.67505007 0.43759022 0.42433598\n",
      "  0.71584136 0.16274995 0.33453837 0.33187237 0.85499067 0.17164718\n",
      "  0.12483643 0.34194159 0.44902733 0.44396221 0.39616567 0.56722924\n",
      "  0.63164802 0.15129822 0.36707578 0.71126827 0.46640412 0.40578961\n",
      "  0.02212484 0.43717948 0.1615553  0.43100681 0.27425204 0.\n",
      "  0.69759402 0.56400473 0.39620995 0.8669502  0.90994106 0.52107863\n",
      "  0.13107691 0.58830565 0.65244992 0.72099646 0.78064763 0.3668803\n",
      "  0.59620221 0.44071697 0.33379084 0.45681718 0.18059436 0.30896162\n",
      "  0.44723165 0.37981456 0.28141879 0.70719436 0.79155355 0.59188957\n",
      "  0.58943273 0.43538783 0.77901868 0.81216655 0.99306815 0.5882662\n",
      "  0.63663837 0.54364867 0.05265628 0.7299172 ]\n",
      " [0.37803475 0.80781235 0.55181312 0.57358299 0.73051254 0.50230775\n",
      "  0.60492268 0.09401018 0.68896691 0.19031201 0.25823193 0.25347618\n",
      "  0.39586532 0.28854208 0.73097011 0.6374488  0.27612264 0.14808876\n",
      "  0.61742891 0.49404184 0.57843078 0.33295745 0.51401327 0.6962216\n",
      "  0.99157436 0.92546268 0.37062911 0.84623485 0.82906329 0.21813036\n",
      "  0.16942022 0.24581558 0.63053803 0.88649694 0.64493221 0.82154705\n",
      "  0.19166144 0.55256244 0.6472123  0.39796528 0.63211854 0.41774155\n",
      "  0.42411773 0.56239795 0.79119174 0.47626882 0.15743852 0.54198926\n",
      "  0.58543002 0.3941959  0.77530023 0.71106906 0.3955791  0.6077101\n",
      "  0.09614687 0.56269724 0.46238473 0.26514622 0.61811541 0.52373806\n",
      "  0.71969324 0.42792562 0.75020372 0.54924849 0.51478887 0.69759402\n",
      "  0.         0.46731293 0.38872603 0.24671061 0.24014763 0.20458009\n",
      "  0.56752235 0.62408402 0.35467029 0.43722744 0.33449916 0.36698895\n",
      "  0.49290309 0.41003384 0.36395529 0.58711319 0.52080909 0.39782651\n",
      "  0.50086968 0.70235143 0.67304295 0.10613605 0.15984244 0.15383961\n",
      "  0.1621331  0.72253119 0.18398576 0.11458184 0.38642198 0.45087827\n",
      "  0.46325065 0.15585883 0.74911244 0.0449533 ]\n",
      " [0.36362057 0.94151719 0.29879222 0.18173221 0.35203986 0.25687446\n",
      "  0.19822097 0.37337819 0.56469353 0.6555264  0.72038592 0.68500004\n",
      "  0.21130708 0.33716016 0.29871055 0.46954401 0.2028641  0.56745494\n",
      "  0.74578635 0.31712249 0.38434543 0.78662899 0.75525132 0.77338777\n",
      "  0.67847954 0.58971076 0.09721937 0.48432746 0.83875965 0.26744977\n",
      "  0.30392377 0.27714479 0.45827956 0.68759873 0.7528692  0.95206677\n",
      "  0.35433841 0.73414481 0.60576672 0.76349659 0.2210198  0.61565668\n",
      "  0.17018392 0.40615967 0.44194883 0.23501334 0.57748263 0.40699937\n",
      "  0.44706328 0.27721875 0.89538143 0.29669109 0.56783497 0.1425474\n",
      "  0.37294618 0.52057427 0.20023254 0.26616377 0.80401385 0.69525167\n",
      "  0.58135945 0.13711955 0.70204032 0.15886626 0.29034668 0.56400473\n",
      "  0.46731293 0.         0.20742722 0.7140235  0.69638483 0.30180922\n",
      "  0.4634663  0.87728829 0.15119487 0.17047336 0.28815994 0.27177492\n",
      "  0.03854939 0.62162219 0.39305655 0.16905114 0.47462802 0.44789659\n",
      "  0.70453128 0.80955627 0.35573105 0.55710163 0.43147611 0.31827048\n",
      "  0.5118844  0.85533564 0.64568214 0.54209891 0.85319061 0.03088583\n",
      "  0.07435173 0.37534893 0.61040396 0.46250197]\n",
      " [0.15685127 0.73465879 0.17196922 0.20122904 0.34288356 0.43332242\n",
      "  0.23404768 0.3052286  0.39345228 0.57411049 0.64370017 0.5491324\n",
      "  0.3486805  0.15257785 0.36059948 0.30908694 0.14207161 0.52429424\n",
      "  0.53836362 0.14142938 0.22840179 0.66088128 0.55546854 0.56828699\n",
      "  0.61418174 0.54138359 0.16289653 0.45783459 0.6436323  0.1760047\n",
      "  0.27653646 0.14350666 0.29886112 0.55471615 0.54584047 0.7453882\n",
      "  0.36899379 0.52859019 0.4128078  0.59209949 0.25961578 0.41572754\n",
      "  0.3279166  0.23381326 0.40325302 0.090024   0.53461032 0.22580663\n",
      "  0.27167844 0.07029743 0.68883507 0.33309061 0.36716299 0.29451023\n",
      "  0.29759537 0.32305853 0.0741583  0.31891473 0.59777895 0.48969646\n",
      "  0.41648849 0.0758987  0.5148763  0.1817695  0.1404125  0.39620995\n",
      "  0.38872603 0.20742722 0.         0.61989854 0.62840007 0.18435083\n",
      "  0.27738078 0.67597621 0.25782751 0.33509244 0.38476769 0.06611197\n",
      "  0.24584424 0.42340876 0.18818049 0.22577392 0.27488368 0.24133811\n",
      "  0.50164821 0.6029838  0.28650633 0.44906124 0.42869199 0.24258783\n",
      "  0.36799262 0.64813137 0.53848807 0.492574   0.76101159 0.22065353\n",
      "  0.26709774 0.24754725 0.4473559  0.40426089]\n",
      " [0.56975886 0.83964028 0.77083594 0.81324009 0.96230116 0.72588955\n",
      "  0.8452721  0.34067565 0.8561047  0.06815882 0.06395248 0.16297379\n",
      "  0.62616243 0.4932462  0.97231696 0.8249151  0.52049063 0.19925705\n",
      "  0.6817728  0.7042066  0.78056072 0.13722432 0.52779243 0.77511691\n",
      "  1.19801835 1.14064038 0.61729309 1.07068876 0.92451397 0.45942915\n",
      "  0.41383505 0.47738642 0.82013231 1.06165852 0.71571727 0.85360335\n",
      "  0.40747868 0.59830498 0.78884955 0.33211378 0.87226118 0.49250832\n",
      "  0.6601147  0.75645166 1.01458924 0.70250579 0.19495703 0.73309051\n",
      "  0.7708282  0.61068963 0.81920873 0.94982981 0.49488402 0.85422777\n",
      "  0.34182893 0.71883918 0.69397717 0.4961976  0.64689155 0.58303096\n",
      "  0.88823391 0.66782463 0.8807296  0.78976395 0.73244785 0.8669502\n",
      "  0.24671061 0.7140235  0.61989854 0.         0.09098357 0.43816478\n",
      "  0.74480999 0.60395562 0.59692137 0.67301885 0.55076388 0.58556203\n",
      "  0.73932294 0.47845729 0.54488653 0.82928395 0.6866861  0.5585362\n",
      "  0.54522782 0.76398677 0.89520022 0.17175501 0.34198386 0.39853622\n",
      "  0.27918035 0.76639738 0.08811552 0.20273268 0.14148524 0.69733554\n",
      "  0.70792456 0.37264106 0.91471323 0.25754352]\n",
      " [0.60058317 0.91906319 0.78869325 0.81306508 0.97058703 0.67737439\n",
      "  0.84411842 0.33029948 0.89989031 0.06536205 0.03601178 0.24517041\n",
      "  0.5840786  0.51688677 0.96950566 0.86000672 0.51406651 0.13975004\n",
      "  0.75352148 0.7271416  0.80828692 0.22688716 0.60716316 0.84456895\n",
      "  1.22473228 1.16188037 0.60188108 1.08525141 0.99111724 0.45800634\n",
      "  0.39247624 0.48505706 0.85422232 1.10326942 0.78642745 0.93307361\n",
      "  0.36486095 0.67283987 0.84115681 0.41907139 0.87135044 0.5586928\n",
      "  0.62217848 0.78804266 1.02989393 0.71509541 0.13201231 0.76589306\n",
      "  0.80648236 0.62934011 0.89632626 0.95064346 0.55498827 0.83862459\n",
      "  0.33488876 0.76554312 0.70225151 0.45821599 0.72523808 0.65452584\n",
      "  0.93167802 0.66758559 0.93728282 0.78847643 0.75104253 0.90994106\n",
      "  0.24014763 0.69638483 0.62840007 0.09098357 0.         0.44405101\n",
      "  0.78370895 0.68927452 0.5672991  0.63467185 0.50184577 0.60277263\n",
      "  0.71789074 0.54577272 0.57987192 0.82544054 0.72949666 0.60140228\n",
      "  0.61919737 0.83714445 0.91122699 0.20289722 0.29146657 0.39265339\n",
      "  0.32240975 0.84312003 0.14854854 0.15687901 0.1727201  0.67651894\n",
      "  0.6810118  0.38759657 0.9594569  0.23451322]\n",
      " [0.2028228  0.73914109 0.34846165 0.37525023 0.52689221 0.43128242\n",
      "  0.40745963 0.12666208 0.51443283 0.39019908 0.45964146 0.38544474\n",
      "  0.32336842 0.11331711 0.53475884 0.44977794 0.10016021 0.34384358\n",
      "  0.53739738 0.2953604  0.38268702 0.49149382 0.49361201 0.59567543\n",
      "  0.7902242  0.72188125 0.20827212 0.64165483 0.70582663 0.04024809\n",
      "  0.13236627 0.04131554 0.44160293 0.70153557 0.55621323 0.75176314\n",
      "  0.23165666 0.49770494 0.49556529 0.46569927 0.43433934 0.36241311\n",
      "  0.3288096  0.37241651 0.58664108 0.27174664 0.3540217  0.35494773\n",
      "  0.40098683 0.194238   0.69870395 0.51166506 0.32143645 0.43136088\n",
      "  0.11692497 0.40421138 0.25828285 0.22783416 0.56936195 0.46113203\n",
      "  0.54304347 0.2303154  0.60210199 0.35213787 0.31216348 0.52107863\n",
      "  0.20458009 0.30180922 0.18435083 0.43816478 0.44405101 0.\n",
      "  0.39031703 0.61610427 0.2446289  0.34073089 0.31153929 0.16654257\n",
      "  0.33521193 0.36292247 0.20389191 0.39270257 0.35676812 0.25512525\n",
      "  0.45587467 0.61631052 0.46867852 0.26945421 0.27047967 0.07082373\n",
      "  0.21007601 0.65010906 0.35967782 0.3112957  0.57962644 0.29514543\n",
      "  0.32399284 0.07384705 0.57368822 0.22323195]\n",
      " [0.19059625 0.51246686 0.18866781 0.35032355 0.36168303 0.70761017\n",
      "  0.37083068 0.51228132 0.12412254 0.72025523 0.78755023 0.62091536\n",
      "  0.62605487 0.28251192 0.45333569 0.08649945 0.40352164 0.71555923\n",
      "  0.34544856 0.14635187 0.10718162 0.73451931 0.44610385 0.33606637\n",
      "  0.46839701 0.43281475 0.43944289 0.40404788 0.37631619 0.40732853\n",
      "  0.51743423 0.35632978 0.08637636 0.3199559  0.33690997 0.52044126\n",
      "  0.61708451 0.37940511 0.14379457 0.58088032 0.3811477  0.33500544\n",
      "  0.60388525 0.06740271 0.35278756 0.22893    0.72496087 0.05711597\n",
      "  0.03895712 0.21678096 0.46424625 0.41060524 0.2977333  0.49310325\n",
      "  0.50057436 0.07647341 0.26329301 0.58583436 0.43175486 0.34683941\n",
      "  0.15316439 0.32934481 0.23923612 0.35185913 0.17863091 0.13107691\n",
      "  0.56752235 0.4634663  0.27738078 0.74480999 0.78370895 0.39031703\n",
      "  0.         0.5431268  0.53516829 0.61027452 0.6580649  0.23999761\n",
      "  0.4986736  0.35039824 0.2046259  0.38632148 0.06645761 0.18746995\n",
      "  0.38102412 0.38270914 0.25966993 0.58159673 0.66078352 0.46114076\n",
      "  0.46584077 0.43619704 0.65669468 0.6820298  0.87453872 0.48443517\n",
      "  0.53289272 0.4130212  0.18352926 0.59920866]\n",
      " [0.52161828 0.26032716 0.70447938 0.8456494  0.9012904  1.04736866\n",
      "  0.87429024 0.65330382 0.5747559  0.633132   0.66777904 0.44421626\n",
      "  0.93921535 0.54242837 0.98004458 0.61969464 0.705242   0.72422869\n",
      "  0.22011448 0.63216993 0.6442287  0.49676866 0.12306315 0.29851988\n",
      "  0.96621417 0.95612183 0.80263874 0.94459776 0.4381313  0.65605752\n",
      "  0.72023609 0.61990812 0.62391507 0.74608311 0.24876463 0.27296008\n",
      "  0.7955651  0.16373336 0.46276623 0.27253813 0.89237707 0.26168705\n",
      "  0.94390427 0.60274361 0.89511351 0.69670354 0.727919   0.58089396\n",
      "  0.58199676 0.6123608  0.26017042 0.93976763 0.3095106  0.96706758\n",
      "  0.64171197 0.46935883 0.71786413 0.83189511 0.12498184 0.19818126\n",
      "  0.59963655 0.75183971 0.48889398 0.83611169 0.67638314 0.58830565\n",
      "  0.62408402 0.87728829 0.67597621 0.60395562 0.68927452 0.61610427\n",
      "  0.5431268  0.         0.85955557 0.95542329 0.91567293 0.60986982\n",
      "  0.91555955 0.25676909 0.48812771 0.87913499 0.48395242 0.43901088\n",
      "  0.17513816 0.25391407 0.80051999 0.5448508  0.7830717  0.65391349\n",
      "  0.46496068 0.2200393  0.54662632 0.70086991 0.6622644  0.88283215\n",
      "  0.92236979 0.56370824 0.6085929  0.66870565]\n",
      " [0.38777248 0.96467253 0.40422595 0.32339624 0.49729967 0.18968751\n",
      "  0.34469736 0.2657409  0.65035908 0.53387016 0.59450188 0.59543703\n",
      "  0.09140912 0.32687896 0.44990175 0.5624832  0.15688928 0.43240722\n",
      "  0.76317514 0.3964082  0.47854944 0.686247   0.73669615 0.80814459\n",
      "  0.81698154 0.73127913 0.09990261 0.62905416 0.89662315 0.20438276\n",
      "  0.18543571 0.24090183 0.55175711 0.79954566 0.77705588 0.97652874\n",
      "  0.21007884 0.73392967 0.66841227 0.70256478 0.36916579 0.60241309\n",
      "  0.08435192 0.48970336 0.58343727 0.32521507 0.44198307 0.4833078\n",
      "  0.52861568 0.32161974 0.92139151 0.44668882 0.55855613 0.28741521\n",
      "  0.2697583  0.57710709 0.2916321  0.11744951 0.80568637 0.6960985\n",
      "  0.67216559 0.22147049 0.77183281 0.29822876 0.38384907 0.65244992\n",
      "  0.35467029 0.15119487 0.25782751 0.59692137 0.5672991  0.2446289\n",
      "  0.53516829 0.85955557 0.         0.09610477 0.14177023 0.30371608\n",
      "  0.15902084 0.60443931 0.40697413 0.31691441 0.52802705 0.46438674\n",
      "  0.69555574 0.83647516 0.48644611 0.4551859  0.2883478  0.2266925\n",
      "  0.43924079 0.87596882 0.53854014 0.41055344 0.7316375  0.12286468\n",
      "  0.11436618 0.30764197 0.7027559  0.33954376]\n",
      " [0.47573827 1.05586819 0.46176947 0.35164001 0.5186502  0.09855721\n",
      "  0.365527   0.35296587 0.72022694 0.6076961  0.66429406 0.68394936\n",
      "  0.05668225 0.4203332  0.4506716  0.62825442 0.25130507 0.4961203\n",
      "  0.85496242 0.46674816 0.54299531 0.77018458 0.83250844 0.89644141\n",
      "  0.84762097 0.7577038  0.17248504 0.65056846 0.9785922  0.30048583\n",
      "  0.27126765 0.33612009 0.61717851 0.85497694 0.86759302 1.06749278\n",
      "  0.26984722 0.82822925 0.74783127 0.79674601 0.38612603 0.69768825\n",
      "  0.0131254  0.55937771 0.61045832 0.38924004 0.50496531 0.55604881\n",
      "  0.59954054 0.40290605 1.01193282 0.45671094 0.65336185 0.27418798\n",
      "  0.35850962 0.6580504  0.3541471  0.17714112 0.89990831 0.79018244\n",
      "  0.739639   0.28381732 0.8490715  0.32927146 0.44746367 0.72099646\n",
      "  0.43722744 0.17047336 0.33509244 0.67301885 0.63467185 0.34073089\n",
      "  0.61027452 0.95542329 0.09610477 0.         0.14958049 0.38809395\n",
      "  0.15518194 0.70000159 0.49737025 0.33555832 0.60959756 0.55484389\n",
      "  0.79066603 0.92662107 0.5261527  0.54076649 0.34551357 0.31974916\n",
      "  0.5328708  0.9674561  0.62078565 0.47844571 0.80341233 0.14056317\n",
      "  0.09943644 0.40292949 0.76957776 0.41637091]\n",
      " [0.49293109 1.05068029 0.54155086 0.46467869 0.63817198 0.17570809\n",
      "  0.48494279 0.26907415 0.77739657 0.48329137 0.53374668 0.58797339\n",
      "  0.09293096 0.41649779 0.58482598 0.69363609 0.25671949 0.36209942\n",
      "  0.84890304 0.52607187 0.6114302  0.66076428 0.795443   0.9047274\n",
      "  0.95874458 0.87294256 0.23863442 0.77016965 1.00621986 0.27616946\n",
      "  0.19556784 0.32545903 0.68325826 0.93562513 0.86719501 1.06329328\n",
      "  0.1452255  0.80747008 0.78411484 0.72290957 0.50872519 0.67044402\n",
      "  0.14006271 0.6185427  0.72505616 0.46042205 0.37001281 0.60942499\n",
      "  0.65587463 0.44131778 1.01009119 0.58481913 0.63169019 0.4141822\n",
      "  0.27883908 0.69161918 0.42820567 0.08440755 0.87879484 0.77157869\n",
      "  0.80112392 0.3595591  0.88965735 0.4397019  0.51838495 0.78064763\n",
      "  0.33449916 0.28815994 0.38476769 0.55076388 0.50184577 0.31153929\n",
      "  0.6580649  0.91567293 0.14177023 0.14958049 0.         0.41929736\n",
      "  0.2870918  0.66922075 0.50487378 0.45652341 0.64230413 0.56034757\n",
      "  0.76344592 0.92727829 0.62787113 0.44057604 0.21067582 0.26219614\n",
      "  0.46254971 0.96164621 0.51053938 0.34953861 0.67363412 0.2579044\n",
      "  0.23314228 0.35244502 0.83204012 0.30339582]\n",
      " [0.09191859 0.67292522 0.1860631  0.25681779 0.38041559 0.4866399\n",
      "  0.28918503 0.29317675 0.36209173 0.54504008 0.61484897 0.50162292\n",
      "  0.39506364 0.09782211 0.41297922 0.28804413 0.16360017 0.50970484\n",
      "  0.47504261 0.12884715 0.21675412 0.61531534 0.4894622  0.50927404\n",
      "  0.62475255 0.55915686 0.21635245 0.48513945 0.59291617 0.17321418\n",
      "  0.28259364 0.12669214 0.27908084 0.53932167 0.48397763 0.68395481\n",
      "  0.38081802 0.46291038 0.36594947 0.5325717  0.31321343 0.34977669\n",
      "  0.37972435 0.21023337 0.42910307 0.11966651 0.51980199 0.19590833\n",
      "  0.24294443 0.02770733 0.62767342 0.38178989 0.30116868 0.35959732\n",
      "  0.28340031 0.27396847 0.12222645 0.34585885 0.53240598 0.42400753\n",
      "  0.38826566 0.14197573 0.47077146 0.2402161  0.14827029 0.3668803\n",
      "  0.36698895 0.27177492 0.06611197 0.58556203 0.60277263 0.16654257\n",
      "  0.23999761 0.60986982 0.30371608 0.38809395 0.41929736 0.\n",
      "  0.31031259 0.35767902 0.12214255 0.28473388 0.22470521 0.17612526\n",
      "  0.43554666 0.54189782 0.30977577 0.41381116 0.43145753 0.23447107\n",
      "  0.32155058 0.58572009 0.50120865 0.47685211 0.72532053 0.28279726\n",
      "  0.32778835 0.21533819 0.41930717 0.38921123]\n",
      " [0.4021448  0.97961862 0.32956773 0.19995161 0.3636716  0.23258537\n",
      "  0.21113216 0.39942621 0.59737963 0.6793878  0.74304774 0.71617352\n",
      "  0.20301783 0.37491526 0.29841197 0.50139108 0.23537285 0.58636113\n",
      "  0.78416745 0.35238125 0.41657652 0.8160171  0.79342997 0.81106282\n",
      "  0.69350751 0.60296641 0.12750151 0.49545465 0.87451423 0.29951165\n",
      "  0.32654112 0.31246802 0.49009348 0.71381254 0.79104399 0.99011017\n",
      "  0.36802885 0.77268391 0.64149001 0.79875096 0.23105334 0.65389925\n",
      "  0.1577732  0.44006757 0.45609734 0.26978098 0.59621735 0.441938\n",
      "  0.48100949 0.31550241 0.93339106 0.30199029 0.60614849 0.1287114\n",
      "  0.39994338 0.55715429 0.23547827 0.27643965 0.84256315 0.73379186\n",
      "  0.61304199 0.17465471 0.73666171 0.17975268 0.32372584 0.59620221\n",
      "  0.49290309 0.03854939 0.24584424 0.73932294 0.71789074 0.33521193\n",
      "  0.4986736  0.91555955 0.15902084 0.15518194 0.2870918  0.31031259\n",
      "  0.         0.65973628 0.4316003  0.18099707 0.51162135 0.48643649\n",
      "  0.74294498 0.84758373 0.3771367  0.58553624 0.44605502 0.34682589\n",
      "  0.54502202 0.89357075 0.67328885 0.56233953 0.87744373 0.04205028\n",
      "  0.05607924 0.40826273 0.64166672 0.48529166]\n",
      " [0.27378528 0.39795851 0.47698747 0.60368782 0.68321007 0.79317175\n",
      "  0.63405647 0.41735657 0.42767077 0.48140434 0.53582147 0.32301836\n",
      "  0.68614565 0.28576682 0.74789078 0.43632686 0.44916907 0.53675689\n",
      "  0.21080197 0.40062282 0.43433663 0.42307474 0.13391266 0.29893072\n",
      "  0.81433067 0.78319126 0.54587233 0.74894751 0.44620664 0.4023318\n",
      "  0.47578813 0.36396628 0.43677437 0.62941862 0.24184685 0.411636\n",
      "  0.55979845 0.14323284 0.33486881 0.23433779 0.65452998 0.01649885\n",
      "  0.6887005  0.39559848 0.69503215 0.45449957 0.54301205 0.37090911\n",
      "  0.38754756 0.36341622 0.3655226  0.71018321 0.05895522 0.71711598\n",
      "  0.40480193 0.29258811 0.47157749 0.58484194 0.21193568 0.11403638\n",
      "  0.45873478 0.49921232 0.41240225 0.59142531 0.44412896 0.44071697\n",
      "  0.41003384 0.62162219 0.42340876 0.47845729 0.54577272 0.36292247\n",
      "  0.35039824 0.25676909 0.60443931 0.70000159 0.66922075 0.35767902\n",
      "  0.65973628 0.         0.23837961 0.63544544 0.28405355 0.19746278\n",
      "  0.09458615 0.29590449 0.58746147 0.35890752 0.56085025 0.40742861\n",
      "  0.2496671  0.31257541 0.39820125 0.50760245 0.58330389 0.62640518\n",
      "  0.66562747 0.31774692 0.47887343 0.45449846]\n",
      " [0.03624437 0.55851285 0.25385077 0.36624609 0.46207215 0.59510827\n",
      "  0.39719254 0.3159522  0.32502027 0.51695449 0.58494564 0.43331962\n",
      "  0.49645281 0.09073401 0.5146751  0.28060591 0.25279579 0.51203054\n",
      "  0.35806461 0.17738176 0.23935617 0.54860439 0.36846867 0.40197242\n",
      "  0.65474468 0.60342559 0.32977949 0.54743305 0.5031752  0.23160976\n",
      "  0.33623033 0.1801913  0.27541356 0.52456476 0.37029346 0.57012397\n",
      "  0.43545913 0.34110236 0.2926965  0.43201848 0.41871023 0.22933279\n",
      "  0.48777554 0.21195433 0.49123851 0.21791765 0.5212799  0.18825884\n",
      "  0.22678829 0.12510997 0.51465408 0.47906068 0.18061325 0.4795744\n",
      "  0.30352696 0.20281644 0.23327831 0.42422379 0.41105285 0.30220427\n",
      "  0.35586385 0.26389475 0.39896755 0.35323398 0.21713236 0.33379084\n",
      "  0.36395529 0.39305655 0.18818049 0.54488653 0.57987192 0.20389191\n",
      "  0.2046259  0.48812771 0.40697413 0.49737025 0.50487378 0.12214255\n",
      "  0.4316003  0.23837961 0.         0.39739656 0.15787732 0.05748344\n",
      "  0.31353781 0.4295498  0.37490368 0.37860604 0.46868811 0.27235664\n",
      "  0.26611318 0.47022176 0.45700274 0.47853543 0.67837716 0.40234042\n",
      "  0.44575132 0.21147798 0.38516578 0.39744664]\n",
      " [0.3616909  0.89537838 0.19797838 0.03601054 0.18333831 0.41153588\n",
      "  0.03020866 0.49516398 0.46099288 0.77723129 0.84530533 0.77189057\n",
      "  0.37990274 0.37811346 0.1440937  0.36323195 0.31138892 0.7059483\n",
      "  0.71362026 0.25375359 0.28574266 0.88175395 0.76297657 0.72002288\n",
      "  0.51251819 0.42214655 0.2363572  0.31555807 0.75629547 0.37001667\n",
      "  0.44005417 0.35611218 0.35224041 0.54727997 0.71258794 0.90414564\n",
      "  0.50797801 0.72248493 0.52818113 0.8169429  0.05225726 0.62558189\n",
      "  0.33701491 0.3199273  0.27510145 0.18243147 0.71626535 0.33076014\n",
      "  0.35852572 0.27336653 0.84744444 0.13114227 0.57706461 0.11044924\n",
      "  0.4911484  0.45712011 0.16436709 0.42660404 0.78700324 0.68447813\n",
      "  0.47021613 0.16264559 0.61073727 0.04452788 0.21196495 0.45681718\n",
      "  0.58711319 0.16905114 0.22577392 0.82928395 0.82544054 0.39270257\n",
      "  0.38632148 0.87913499 0.31691441 0.33555832 0.45652341 0.28473388\n",
      "  0.18099707 0.63544544 0.39739656 0.         0.4198388  0.44096711\n",
      "  0.70421818 0.7636858  0.20389524 0.66208513 0.58200119 0.43332646\n",
      "  0.59113829 0.81487666 0.75233182 0.67741582 0.97068442 0.19985824\n",
      "  0.23614101 0.46347661 0.49589646 0.59209231]\n",
      " [0.15418716 0.47624353 0.22800545 0.38409935 0.41742556 0.70799795\n",
      "  0.40817776 0.47327615 0.17039633 0.66530871 0.73157822 0.55841745\n",
      "  0.61943326 0.2444699  0.50151881 0.15284899 0.385586   0.66870892\n",
      "  0.29614476 0.16707876 0.16027759 0.67129246 0.38289207 0.30244403\n",
      "  0.53412298 0.49923185 0.43712109 0.46803837 0.36906158 0.37916703\n",
      "  0.4876971  0.32707961 0.15277704 0.37499645 0.29290889 0.48546428\n",
      "  0.5876406  0.32051632 0.14182645 0.51448695 0.42182521 0.26874976\n",
      "  0.60199229 0.11881123 0.41569725 0.24739403 0.67779276 0.09737407\n",
      "  0.10369721 0.20689481 0.42858781 0.45981261 0.2313131  0.52206789\n",
      "  0.46099218 0.04934455 0.27868331 0.56590574 0.37714839 0.28621359\n",
      "  0.20221617 0.33763554 0.2478583  0.38149622 0.20788366 0.18059436\n",
      "  0.52080909 0.47462802 0.27488368 0.6866861  0.72949666 0.35676812\n",
      "  0.06645761 0.48395242 0.52802705 0.60959756 0.64230413 0.22470521\n",
      "  0.51162135 0.28405355 0.15787732 0.4198388  0.         0.12837519\n",
      "  0.31809516 0.34414298 0.3165973  0.52668675 0.62511071 0.42689397\n",
      "  0.40885487 0.39504035 0.59868275 0.63528512 0.81413838 0.49228967\n",
      "  0.5399716  0.36933734 0.23011666 0.55513702]\n",
      " [0.08448947 0.50105853 0.28037916 0.40823668 0.48790058 0.65259133\n",
      "  0.43794435 0.35965864 0.29861069 0.53707616 0.60321218 0.43389741\n",
      "  0.5537058  0.14407026 0.55045398 0.27112498 0.30979678 0.54488604\n",
      "  0.30083931 0.20357484 0.24737575 0.54801058 0.32202796 0.34516439\n",
      "  0.65240425 0.60860194 0.38690909 0.56222757 0.4507915  0.28549538\n",
      "  0.38715405 0.23495313 0.26811987 0.50329757 0.31281137 0.51264893\n",
      "  0.48532478 0.28750563 0.24984793 0.40938887 0.45774473 0.18603224\n",
      "  0.54525894 0.21301514 0.50690988 0.25882677 0.55368103 0.18783107\n",
      "  0.21734882 0.17443552 0.4571724  0.51275488 0.13851323 0.52838603\n",
      "  0.34684108 0.16559594 0.27886184 0.47890896 0.35644086 0.24865864\n",
      "  0.33053139 0.31624685 0.35441094 0.39753008 0.24679834 0.30896162\n",
      "  0.39782651 0.44789659 0.24133811 0.5585362  0.60140228 0.25512525\n",
      "  0.18746995 0.43901088 0.46438674 0.55484389 0.56034757 0.17612526\n",
      "  0.48643649 0.19746278 0.05748344 0.44096711 0.12837519 0.\n",
      "  0.26387291 0.37209914 0.39483138 0.39852753 0.51366023 0.32122198\n",
      "  0.28047994 0.4128304  0.47048417 0.51167579 0.68716117 0.45823809\n",
      "  0.50221625 0.25178016 0.35806037 0.4345058 ]\n",
      " [0.34665029 0.30786319 0.53244166 0.67091339 0.73286884 0.88481404\n",
      "  0.699835   0.51165738 0.43362622 0.55640864 0.60559368 0.38386095\n",
      "  0.77857171 0.37265563 0.80748749 0.46262832 0.53939153 0.62231662\n",
      "  0.1380851  0.45886498 0.47720372 0.47088964 0.06516474 0.23445706\n",
      "  0.82760776 0.80697229 0.63297545 0.78507093 0.38779744 0.49489224\n",
      "  0.57030377 0.4546633  0.46532782 0.62418553 0.17345505 0.32174737\n",
      "  0.65422507 0.05380744 0.32787948 0.25533293 0.71837233 0.0934668\n",
      "  0.77961208 0.43625228 0.73348928 0.52180103 0.62797283 0.41320345\n",
      "  0.41987754 0.43738466 0.27919805 0.76783657 0.13785302 0.79201029\n",
      "  0.49916145 0.31177469 0.54272889 0.6790462  0.11786823 0.04556482\n",
      "  0.46218857 0.57742422 0.38431068 0.6610842  0.50309081 0.44723165\n",
      "  0.50086968 0.70453128 0.50164821 0.54522782 0.61919737 0.45587467\n",
      "  0.38102412 0.17513816 0.69555574 0.79066603 0.76344592 0.43554666\n",
      "  0.74294498 0.09458615 0.31353781 0.70421818 0.31809516 0.26387291\n",
      "  0.         0.21876594 0.63343571 0.4420683  0.65377864 0.50185016\n",
      "  0.33912359 0.22574092 0.47065096 0.59437738 0.63681369 0.71130556\n",
      "  0.75212514 0.41228412 0.47717566 0.54562807]\n",
      " [0.45152251 0.13244238 0.5690026  0.7278358  0.73835461 1.02456286\n",
      "  0.75090235 0.69721368 0.36744317 0.77381538 0.82418802 0.60251293\n",
      "  0.92554301 0.51259075 0.83553543 0.43840372 0.68134472 0.83250199\n",
      "  0.08520807 0.51117517 0.4897121  0.68608936 0.2481337  0.05360168\n",
      "  0.74031125 0.74467317 0.75718342 0.75344331 0.1857083  0.65115989\n",
      "  0.74332668 0.60314842 0.44591406 0.50878564 0.06009775 0.14253759\n",
      "  0.8358033  0.16613701 0.2588794  0.46333221 0.76289613 0.28591443\n",
      "  0.91720285 0.44993544 0.7106598  0.59033926 0.83885407 0.43480563\n",
      "  0.41723991 0.53273129 0.08585131 0.79252876 0.30820985 0.86609525\n",
      "  0.68418622 0.30790759 0.62002349 0.84405114 0.13772545 0.18315588\n",
      "  0.38511603 0.67312533 0.24876869 0.72563916 0.55177069 0.37981456\n",
      "  0.70235143 0.80955627 0.6029838  0.76398677 0.83714445 0.61631052\n",
      "  0.38270914 0.25391407 0.83647516 0.92662107 0.92727829 0.54189782\n",
      "  0.84758373 0.29590449 0.4295498  0.7636858  0.34414298 0.37209914\n",
      "  0.21876594 0.         0.63657877 0.65469084 0.84717761 0.6744256\n",
      "  0.54443154 0.05562867 0.68863803 0.80301415 0.85312273 0.82358567\n",
      "  0.86943688 0.5902774  0.38587663 0.74608214]\n",
      " [0.34131553 0.76255385 0.12481311 0.17776999 0.10218041 0.60970995\n",
      "  0.17556129 0.59163107 0.28921077 0.85445802 0.9242791  0.80306491\n",
      "  0.56330593 0.40318936 0.20588479 0.20000645 0.42204904 0.81071224\n",
      "  0.60482498 0.19794959 0.15640024 0.91811361 0.69765094 0.58690312\n",
      "  0.3333353  0.25535827 0.390222   0.17567722 0.59126987 0.46248503\n",
      "  0.55943135 0.42736693 0.19142557 0.34397124 0.59456905 0.76915224\n",
      "  0.64587916 0.63696867 0.38093504 0.80353922 0.16872621 0.57386086\n",
      "  0.52525603 0.19778685 0.11940884 0.19711084 0.82101489 0.22024821\n",
      "  0.22191975 0.28455466 0.71444101 0.16254344 0.52971771 0.30923975\n",
      "  0.58371451 0.33592242 0.21647727 0.58017135 0.6912688  0.6027867\n",
      "  0.2895577  0.27399712 0.44274012 0.19758009 0.16341224 0.28141879\n",
      "  0.67304295 0.35573105 0.28650633 0.89520022 0.91122699 0.46867852\n",
      "  0.25966993 0.80051999 0.48644611 0.5261527  0.62787113 0.30977577\n",
      "  0.3771367  0.58746147 0.37490368 0.20389524 0.3165973  0.39483138\n",
      "  0.63343571 0.63657877 0.         0.72348192 0.71110542 0.52909155\n",
      "  0.6265418  0.69131488 0.81031107 0.77883288 1.03455434 0.38567301\n",
      "  0.42889554 0.52468117 0.31043745 0.69049941]\n",
      " [0.40124048 0.74920025 0.5991893  0.64449135 0.79098026 0.60809812\n",
      "  0.67680897 0.18951213 0.69706695 0.13870489 0.20636169 0.14751291\n",
      "  0.50101308 0.32206534 0.80416669 0.65919188 0.3576967  0.18124138\n",
      "  0.56967828 0.53325404 0.61114238 0.23143208 0.44372147 0.65620557\n",
      "  1.02860996 0.96967365 0.45990028 0.89894455 0.79826303 0.2944205\n",
      "  0.27020468 0.30752198 0.65380472 0.90079986 0.60049826 0.76316623\n",
      "  0.29710962 0.49559733 0.63926462 0.30111103 0.70361352 0.36989106\n",
      "  0.52764109 0.58868556 0.84286172 0.53088014 0.18627229 0.56591799\n",
      "  0.60538968 0.43901146 0.72111013 0.78035191 0.3593298  0.6942334\n",
      "  0.18665905 0.56270204 0.52300218 0.37070543 0.55570034 0.4718817\n",
      "  0.72889348 0.4997696  0.73686714 0.62156323 0.56084396 0.70719436\n",
      "  0.10613605 0.55710163 0.44906124 0.17175501 0.20289722 0.26945421\n",
      "  0.58159673 0.5448508  0.4551859  0.54076649 0.44057604 0.41381116\n",
      "  0.58553624 0.35890752 0.37860604 0.66208513 0.52668675 0.39852753\n",
      "  0.4420683  0.65469084 0.72348192 0.         0.25627806 0.23888545\n",
      "  0.12029049 0.66768299 0.09025144 0.156088   0.31214135 0.54357638\n",
      "  0.56031565 0.20151819 0.75658781 0.14130142]\n",
      " [0.47225232 0.95826655 0.60065938 0.57809097 0.74871386 0.38637691\n",
      "  0.6056646  0.15416775 0.78489056 0.27402168 0.32308241 0.40065104\n",
      "  0.29336034 0.38072538 0.72354874 0.71866795 0.28909401 0.15178782\n",
      "  0.76324712 0.55877747 0.64762519 0.45899153 0.67109078 0.83604198\n",
      "  1.04221018 0.96625967 0.34611467 0.87480571 0.96026736 0.2583757\n",
      "  0.15218194 0.30624942 0.71007508 0.97038709 0.78835629 0.97180253\n",
      "  0.07828426 0.70408181 0.76117577 0.55573993 0.63237282 0.56684058\n",
      "  0.33339363 0.64094648 0.82308829 0.51817645 0.16011292 0.62453712\n",
      "  0.67092491 0.45877909 0.92347173 0.71267933 0.53902432 0.57281755\n",
      "  0.1671362  0.67137323 0.49479761 0.17256259 0.77159295 0.67305523\n",
      "  0.81350949 0.44126312 0.86708639 0.552174   0.56793713 0.79155355\n",
      "  0.15984244 0.43147611 0.42869199 0.34198386 0.29146657 0.27047967\n",
      "  0.66078352 0.7830717  0.2883478  0.34551357 0.21067582 0.43145753\n",
      "  0.44605502 0.56085025 0.46868811 0.58200119 0.62511071 0.51366023\n",
      "  0.65377864 0.84717761 0.71110542 0.25627806 0.         0.19966399\n",
      "  0.31877641 0.87145552 0.31112429 0.13950733 0.46297248 0.40698074\n",
      "  0.40236702 0.26315924 0.84416692 0.11669413]\n",
      " [0.2732581  0.79402513 0.41189397 0.42041587 0.58043673 0.401938\n",
      "  0.4514983  0.06321304 0.58525632 0.34411479 0.41197995 0.37179933\n",
      "  0.2916804  0.18261628 0.5772507  0.51991244 0.1223308  0.28184274\n",
      "  0.59347284 0.36309635 0.45121663 0.46922157 0.53331026 0.65679899\n",
      "  0.85475574 0.78379355 0.22105315 0.69961371 0.7717232  0.06683656\n",
      "  0.06911942 0.10787478 0.51156956 0.77171023 0.61447377 0.80697848\n",
      "  0.16421189 0.54699496 0.56485071 0.47714709 0.47872305 0.40923807\n",
      "  0.3069483  0.44237396 0.64549602 0.33225499 0.29218107 0.4253419\n",
      "  0.47153992 0.26211803 0.75520116 0.55800246 0.37235444 0.45647401\n",
      "  0.05783869 0.47395506 0.31447243 0.17807355 0.61792907 0.51192173\n",
      "  0.61384723 0.27503697 0.67125597 0.39584325 0.37682278 0.59188957\n",
      "  0.15383961 0.31827048 0.24258783 0.39853622 0.39265339 0.07082373\n",
      "  0.46114076 0.65391349 0.2266925  0.31974916 0.26219614 0.23447107\n",
      "  0.34682589 0.40742861 0.27235664 0.43332646 0.42689397 0.32122198\n",
      "  0.50185016 0.6744256  0.52909155 0.23888545 0.19966399 0.\n",
      "  0.21313434 0.70531744 0.32749947 0.25049061 0.53927522 0.30494222\n",
      "  0.32426168 0.09028013 0.64450368 0.16243599]\n",
      " [0.29255016 0.64657884 0.5017689  0.56890107 0.70188276 0.61375097\n",
      "  0.60171504 0.19372764 0.57897336 0.25748051 0.32279612 0.18113986\n",
      "  0.50347871 0.22441208 0.72857027 0.54575976 0.30965219 0.28892742\n",
      "  0.45923872 0.4311658  0.50362824 0.29383135 0.35244373 0.5420757\n",
      "  0.92046333 0.86613725 0.41772215 0.80204251 0.68106922 0.245893\n",
      "  0.26973502 0.23877856 0.54106728 0.78371255 0.48832485 0.66037693\n",
      "  0.33287536 0.39126152 0.51903775 0.26413825 0.62754327 0.25857814\n",
      "  0.52008117 0.47800767 0.74561338 0.44119019 0.29584315 0.45436464\n",
      "  0.4916602  0.34394795 0.61515006 0.70049805 0.2423066  0.63959977\n",
      "  0.18371599 0.44344093 0.43935414 0.38205298 0.45611768 0.36369813\n",
      "  0.61095856 0.42961406 0.61665569 0.54819995 0.46317434 0.58943273\n",
      "  0.1621331  0.5118844  0.36799262 0.27918035 0.32240975 0.21007601\n",
      "  0.46584077 0.46496068 0.43924079 0.5328708  0.46254971 0.32155058\n",
      "  0.54502202 0.2496671  0.26611318 0.59113829 0.40885487 0.28047994\n",
      "  0.33912359 0.54443154 0.6265418  0.12029049 0.31877641 0.21313434\n",
      "  0.         0.56210233 0.19111784 0.25873681 0.41257271 0.50454823\n",
      "  0.53067009 0.13677587 0.63817486 0.20705769]\n",
      " [0.49441874 0.08906682 0.62134574 0.77913615 0.79320389 1.06490568\n",
      "  0.80282752 0.7240512  0.42304658 0.78104373 0.82795845 0.60366033\n",
      "  0.96404342 0.55003007 0.88941416 0.4935771  0.71984214 0.84756362\n",
      "  0.11301323 0.56164712 0.54334512 0.68004879 0.24048382 0.10877873\n",
      "  0.79394181 0.79971569 0.79956307 0.8090718  0.22106918 0.68623136\n",
      "  0.77442841 0.63966803 0.50094939 0.56079254 0.10294976 0.10170507\n",
      "  0.8645293  0.17209037 0.31441169 0.45385446 0.81541628 0.30503832\n",
      "  0.95767711 0.50320803 0.76622988 0.63969288 0.85338102 0.4873486\n",
      "  0.47130953 0.57812255 0.05345869 0.84652005 0.33415905 0.91610884\n",
      "  0.71115339 0.36076573 0.66855216 0.87783219 0.12142432 0.19882666\n",
      "  0.44048219 0.71957953 0.30152709 0.77616926 0.60292374 0.43538783\n",
      "  0.72253119 0.85533564 0.64813137 0.76639738 0.84312003 0.65010906\n",
      "  0.43619704 0.2200393  0.87596882 0.9674561  0.96164621 0.58572009\n",
      "  0.89357075 0.31257541 0.47022176 0.81487666 0.39504035 0.4128304\n",
      "  0.22574092 0.05562867 0.69131488 0.66768299 0.87145552 0.70531744\n",
      "  0.56210233 0.         0.69474792 0.81916954 0.84775173 0.86829344\n",
      "  0.91349473 0.61901482 0.44067915 0.76688651]\n",
      " [0.4823164  0.77134909 0.68568949 0.73460483 0.87975196 0.68244323\n",
      "  0.76695951 0.27466054 0.76823585 0.0870732  0.1382061  0.10582741\n",
      "  0.57794127 0.40749081 0.89434022 0.73687687 0.44739374 0.19402966\n",
      "  0.60513762 0.61794666 0.69329005 0.15038338 0.45978379 0.69666695\n",
      "  1.11062436 1.05420895 0.54847011 0.98595026 0.84417229 0.38443153\n",
      "  0.35314053 0.39752447 0.73215045 0.97367332 0.63822324 0.78536814\n",
      "  0.36531948 0.52430326 0.70235041 0.28177094 0.79373314 0.41151432\n",
      "  0.60769522 0.66870823 0.92971629 0.61918168 0.19430852 0.64524617\n",
      "  0.6827779  0.52579463 0.74800211 0.87027736 0.41061624 0.78364534\n",
      "  0.27337377 0.63122918 0.6122706  0.44685614 0.57730898 0.50613515\n",
      "  0.80034543 0.58998902 0.79555011 0.71175254 0.64719221 0.77901868\n",
      "  0.18398576 0.64568214 0.53848807 0.08811552 0.14854854 0.35967782\n",
      "  0.65669468 0.54662632 0.53854014 0.62078565 0.51053938 0.50120865\n",
      "  0.67328885 0.39820125 0.45700274 0.75233182 0.59868275 0.47048417\n",
      "  0.47065096 0.68863803 0.81031107 0.09025144 0.31112429 0.32749947\n",
      "  0.19111784 0.69474792 0.         0.18258879 0.22425332 0.63125822\n",
      "  0.6460832  0.29104042 0.82695933 0.20742797]\n",
      " [0.49230774 0.90218614 0.65969554 0.66759533 0.83054991 0.52516545\n",
      "  0.69774365 0.18743303 0.80354864 0.13464002 0.1858751  0.28254885\n",
      "  0.42876976 0.4022068  0.82137317 0.75128234 0.36774007 0.03353113\n",
      "  0.7178068  0.60501366 0.69057908 0.32462291 0.59912331 0.80053122\n",
      "  1.10139062 1.03286507 0.44903179 0.95004919 0.9372567  0.31732014\n",
      "  0.23917171 0.3524388  0.74419349 1.00079495 0.74706166 0.91609489\n",
      "  0.20905392 0.64743603 0.76057582 0.45141785 0.72496592 0.51709985\n",
      "  0.4658548  0.67578502 0.89577571 0.58173992 0.04318027 0.655752\n",
      "  0.6995374  0.50437254 0.87244025 0.80498578 0.50004969 0.6846085\n",
      "  0.19513758 0.67684375 0.56492119 0.30163901 0.70952065 0.62154252\n",
      "  0.83426766 0.52350013 0.86284542 0.6424124  0.62344719 0.81216655\n",
      "  0.11458184 0.54209891 0.492574   0.20273268 0.15687901 0.3112957\n",
      "  0.6820298  0.70086991 0.41055344 0.47844571 0.34953861 0.47685211\n",
      "  0.56233953 0.50760245 0.47853543 0.67741582 0.63528512 0.51167579\n",
      "  0.59437738 0.80301415 0.77883288 0.156088   0.13950733 0.25049061\n",
      "  0.25873681 0.81916954 0.18258879 0.         0.32535647 0.52125506\n",
      "  0.52443776 0.2696775  0.8636942  0.08833347]\n",
      " [0.70505998 0.9131434  0.90994264 0.95472514 1.10312095 0.84930939\n",
      "  0.98675451 0.48038334 0.98166826 0.19814552 0.13989022 0.26139366\n",
      "  0.7541253  0.63171713 1.11378215 0.95656651 0.66143608 0.31185102\n",
      "  0.77488432 0.84194844 0.91615925 0.16773227 0.60753699 0.87103024\n",
      "  1.3330002  1.27799409 0.75683986 1.21018361 1.02361268 0.60074971\n",
      "  0.5510282  0.61873854 0.95238181 1.1879457  0.81021059 0.92679807\n",
      "  0.5343981  0.68750087 0.907319   0.39497478 1.01374604 0.59865352\n",
      "  0.79072429 0.89032886 1.15396124 0.84292473 0.30451806 0.86645814\n",
      "  0.90241576 0.75002293 0.89888901 1.09128855 0.60888336 0.99405555\n",
      "  0.48218277 0.84300696 0.83503161 0.62633183 0.72635475 0.67846133\n",
      "  1.01388582 0.80930267 0.99388925 0.9312404  0.87144487 0.99306815\n",
      "  0.38642198 0.85319061 0.76101159 0.14148524 0.1727201  0.57962644\n",
      "  0.87453872 0.6622644  0.7316375  0.80341233 0.67363412 0.72532053\n",
      "  0.87744373 0.58330389 0.67837716 0.97068442 0.81413838 0.68716117\n",
      "  0.63681369 0.85312273 1.03455434 0.31214135 0.46297248 0.53927522\n",
      "  0.41257271 0.84775173 0.22425332 0.32535647 0.         0.83557698\n",
      "  0.84403484 0.51355784 1.03918692 0.39273208]\n",
      " [0.37459905 0.95512747 0.32474168 0.21244384 0.3829118  0.22953892\n",
      "  0.22909065 0.35737864 0.58849566 0.63755659 0.70142896 0.67475969\n",
      "  0.1804291  0.3407589  0.32781375 0.49424374 0.19503848 0.54568796\n",
      "  0.75783754 0.33841834 0.40887426 0.77416052 0.76028905 0.78878301\n",
      "  0.70924989 0.62057911 0.08688102 0.51519927 0.8584604  0.25874728\n",
      "  0.28479946 0.27414057 0.48302617 0.71564567 0.76623218 0.96594055\n",
      "  0.32928424 0.74275197 0.62571981 0.75978478 0.25175336 0.62120065\n",
      "  0.13972837 0.42893523 0.47279922 0.25740673 0.55560388 0.42847308\n",
      "  0.46970717 0.29094911 0.90943465 0.32694891 0.57391698 0.16587822\n",
      "  0.35790449 0.53906986 0.22224072 0.23929955 0.81320311 0.70392945\n",
      "  0.60605386 0.15541519 0.72351798 0.18929775 0.31406464 0.5882662\n",
      "  0.45087827 0.03088583 0.22065353 0.69733554 0.67651894 0.29514543\n",
      "  0.48443517 0.88283215 0.12286468 0.14056317 0.2579044  0.28279726\n",
      "  0.04205028 0.62640518 0.40234042 0.19985824 0.49228967 0.45823809\n",
      "  0.71130556 0.82358567 0.38567301 0.54357638 0.40698074 0.30494222\n",
      "  0.50454823 0.86829344 0.63125822 0.52125506 0.83557698 0.\n",
      "  0.04854373 0.36777878 0.63541687 0.44359416]\n",
      " [0.41920817 1.00068008 0.37251284 0.25304455 0.41921621 0.18252274\n",
      "  0.26614149 0.37148139 0.63694672 0.64597605 0.70767448 0.6960483\n",
      "  0.14721308 0.37999168 0.35394529 0.54250371 0.22455331 0.54668802\n",
      "  0.80254018 0.38693131 0.45716274 0.79171614 0.79951447 0.83536779\n",
      "  0.74836727 0.6582866  0.11995414 0.55116395 0.90663511 0.28558681\n",
      "  0.294231   0.30755761 0.53127199 0.76194431 0.81173395 1.01164212\n",
      "  0.32408692 0.78501912 0.67398575 0.78966115 0.2867168  0.66111213\n",
      "  0.10169507 0.47746895 0.51111555 0.30594154 0.55629581 0.47698625\n",
      "  0.51824711 0.33732599 0.95526059 0.35806817 0.61439277 0.18103992\n",
      "  0.3736567  0.58699172 0.27078215 0.23038831 0.85584833 0.74629678\n",
      "  0.6543282  0.20371098 0.77200921 0.2314117  0.36248935 0.63663837\n",
      "  0.46325065 0.07435173 0.26709774 0.70792456 0.6810118  0.32399284\n",
      "  0.53289272 0.92236979 0.11436618 0.09943644 0.23314228 0.32778835\n",
      "  0.05607924 0.66562747 0.44575132 0.23614101 0.5399716  0.50221625\n",
      "  0.75212514 0.86943688 0.42889554 0.56031565 0.40236702 0.32426168\n",
      "  0.53067009 0.91349473 0.6460832  0.52443776 0.84403484 0.04854373\n",
      "  0.         0.39459647 0.6836039  0.45135508]\n",
      " [0.22279241 0.70736822 0.40139199 0.44426486 0.5896607  0.48893419\n",
      "  0.47679947 0.10916008 0.53547371 0.32979083 0.3996112  0.31176993\n",
      "  0.37908001 0.13268428 0.60424772 0.48167019 0.17289002 0.30317916\n",
      "  0.50803888 0.34001277 0.42315226 0.41883401 0.44303085 0.57561552\n",
      "  0.83788445 0.77430446 0.28094652 0.69958197 0.69716897 0.10923675\n",
      "  0.15805636 0.10736718 0.47469884 0.73120208 0.53064761 0.72049612\n",
      "  0.24565589 0.45826902 0.50106734 0.39604642 0.50338307 0.3201191\n",
      "  0.39047557 0.40654362 0.64379911 0.33020553 0.31279934 0.38617601\n",
      "  0.42986416 0.24175382 0.66963301 0.57937615 0.28502082 0.50508209\n",
      "  0.09610012 0.41336686 0.32149183 0.26835361 0.52884674 0.42385816\n",
      "  0.56577258 0.30083593 0.60614568 0.42195267 0.36355875 0.54364867\n",
      "  0.15585883 0.37534893 0.24754725 0.37264106 0.38759657 0.07384705\n",
      "  0.4130212  0.56370824 0.30764197 0.40292949 0.35244502 0.21533819\n",
      "  0.40826273 0.31774692 0.21147798 0.46347661 0.36933734 0.25178016\n",
      "  0.41228412 0.5902774  0.52468117 0.20151819 0.26315924 0.09028013\n",
      "  0.13677587 0.61901482 0.29104042 0.2696775  0.51355784 0.36777878\n",
      "  0.39459647 0.         0.59555958 0.18628774]\n",
      " [0.37383139 0.493513   0.31210202 0.46241185 0.40053133 0.86414858\n",
      "  0.47240411 0.69576448 0.06014571 0.89511772 0.9609622  0.78030461\n",
      "  0.79188526 0.46587379 0.51455045 0.14134638 0.58134549 0.89719361\n",
      "  0.3890328  0.30654851 0.2267149  0.89054103 0.53953999 0.33227515\n",
      "  0.35798374 0.35925684 0.60399327 0.38038612 0.29048743 0.58958586\n",
      "  0.69977552 0.53908145 0.1524829  0.15073192 0.36454107 0.49687935\n",
      "  0.79909025 0.45536584 0.14936672 0.71261804 0.47284397 0.46238713\n",
      "  0.76474826 0.21354997 0.346701   0.38038287 0.90644377 0.22375804\n",
      "  0.176771   0.39418901 0.44809839 0.47180753 0.43750333 0.60625323\n",
      "  0.68400791 0.19621414 0.41543167 0.76328051 0.48467507 0.43405436\n",
      "  0.03105804 0.48594263 0.14706133 0.47279016 0.32214561 0.05265628\n",
      "  0.74911244 0.61040396 0.4473559  0.91471323 0.9594569  0.57368822\n",
      "  0.18352926 0.6085929  0.7027559  0.76957776 0.83204012 0.41930717\n",
      "  0.64166672 0.47887343 0.38516578 0.49589646 0.23011666 0.35806037\n",
      "  0.47717566 0.38587663 0.31043745 0.75658781 0.84416692 0.64450368\n",
      "  0.63817486 0.44067915 0.82695933 0.8636942  1.03918692 0.63541687\n",
      "  0.6836039  0.59555958 0.         0.78184722]\n",
      " [0.40876739 0.85238015 0.57149826 0.58114574 0.74281207 0.47508258\n",
      "  0.61166717 0.09925763 0.72176054 0.19462545 0.25792155 0.28795517\n",
      "  0.3714829  0.31758725 0.73617794 0.6662914  0.28125791 0.12061238\n",
      "  0.66127331 0.51766058 0.60380937 0.3578052  0.55894963 0.73906495\n",
      "  1.01345077 0.94457151 0.3674831  0.86181858 0.87031652 0.22921076\n",
      "  0.15880789 0.26428212 0.65891188 0.91673623 0.68839017 0.86609438\n",
      "  0.15834101 0.597188   0.68433566 0.43918665 0.6389107  0.46195861\n",
      "  0.40338101 0.59019101 0.80748383 0.49340716 0.13080607 0.57073694\n",
      "  0.61517054 0.41680456 0.81956899 0.71869057 0.43875593 0.60447835\n",
      "  0.10681557 0.59829024 0.47672031 0.24053402 0.66294933 0.56806439\n",
      "  0.75204176 0.43645603 0.78821458 0.55617044 0.5353831  0.7299172\n",
      "  0.0449533  0.46250197 0.40426089 0.25754352 0.23451322 0.22323195\n",
      "  0.59920866 0.66870565 0.33954376 0.41637091 0.30339582 0.38921123\n",
      "  0.48529166 0.45449846 0.39744664 0.59209231 0.55513702 0.4345058\n",
      "  0.54562807 0.74608214 0.69049941 0.14130142 0.11669413 0.16243599\n",
      "  0.20705769 0.76688651 0.20742797 0.08833347 0.39273208 0.44359416\n",
      "  0.45135508 0.18628774 0.78184722 0.        ]]\n"
     ]
    }
   ],
   "source": [
    "import numpy as np\n",
    "\n",
    "# Generate random vector with shape (100, 2) representing coordinates\n",
    "random_vector = np.random.rand(100, 2)\n",
    "\n",
    "# Calculate the pairwise Euclidean distances between all points\n",
    "distances = np.sqrt(np.sum((random_vector[:, np.newaxis, :] - random_vector[np.newaxis, :, :]) ** 2, axis=-1))\n",
    "\n",
    "print(distances)\n"
   ]
  },
  {
   "cell_type": "markdown",
   "metadata": {},
   "source": [
    "53. How to convert a float (32 bits) array into an integer (32 bits) in place?"
   ]
  },
  {
   "cell_type": "code",
   "execution_count": 47,
   "metadata": {},
   "outputs": [
    {
     "name": "stdout",
     "output_type": "stream",
     "text": [
      "[1.5 2.5 3.5 4.5]\n"
     ]
    }
   ],
   "source": [
    "import numpy as np\n",
    "\n",
    "# Create a float (32 bits) array\n",
    "float_array = np.array([1.5, 2.5, 3.5, 4.5], dtype=np.float32)\n",
    "\n",
    "# Convert float array to integer array in place\n",
    "float_array.view(dtype=np.int32)[:] = float_array.view(dtype=np.int32)\n",
    "\n",
    "print(float_array)\n"
   ]
  },
  {
   "cell_type": "markdown",
   "metadata": {},
   "source": [
    "54. How to read the following file? (★★☆)\n",
    "1, 2, 3, 4, 5\n",
    "6,  ,  , 7, 8\n",
    " ,  , 9,10,11"
   ]
  },
  {
   "cell_type": "code",
   "execution_count": null,
   "metadata": {},
   "outputs": [],
   "source": [
    "import csv\n",
    "\n",
    "# Define the file path\n",
    "file_path = \"your_file_path_here.txt\"  # Replace \"your_file_path_here.txt\" with the actual file path\n",
    "\n",
    "# Initialize an empty list to store the data\n",
    "data = []\n",
    "\n",
    "# Open the file and read its contents using csv.reader\n",
    "with open(file_path, 'r') as file:\n",
    "    reader = csv.reader(file)\n",
    "    for row in reader:\n",
    "        # Convert empty strings to None and convert strings to integers\n",
    "        row = [int(cell.strip()) if cell.strip() else None for cell in row]\n",
    "        data.append(row)\n",
    "\n",
    "# Print the data\n",
    "for row in data:\n",
    "    print(row)\n"
   ]
  },
  {
   "cell_type": "markdown",
   "metadata": {},
   "source": [
    "55. What is the equivalent of enumerate for numpy arrays? (★★☆)\n"
   ]
  },
  {
   "cell_type": "code",
   "execution_count": 49,
   "metadata": {},
   "outputs": [
    {
     "name": "stdout",
     "output_type": "stream",
     "text": [
      "Index: (0, 0) Value: 1\n",
      "Index: (0, 1) Value: 2\n",
      "Index: (0, 2) Value: 3\n",
      "Index: (1, 0) Value: 4\n",
      "Index: (1, 1) Value: 5\n",
      "Index: (1, 2) Value: 6\n",
      "Index: (2, 0) Value: 7\n",
      "Index: (2, 1) Value: 8\n",
      "Index: (2, 2) Value: 9\n"
     ]
    }
   ],
   "source": [
    "import numpy as np\n",
    "\n",
    "# Create a NumPy array\n",
    "arr = np.array([[1, 2, 3],\n",
    "                [4, 5, 6],\n",
    "                [7, 8, 9]])\n",
    "\n",
    "# Iterate over the array using numpy.ndenumerate\n",
    "for index, value in np.ndenumerate(arr):\n",
    "    print(\"Index:\", index, \"Value:\", value)\n"
   ]
  },
  {
   "cell_type": "markdown",
   "metadata": {},
   "source": [
    "56. Generate a generic 2D Gaussian-like array"
   ]
  },
  {
   "cell_type": "code",
   "execution_count": null,
   "metadata": {},
   "outputs": [],
   "source": [
    "import numpy as np\n",
    "\n",
    "def gaussian_2d(shape, sigma=1):\n",
    "    \"\"\"\n",
    "    Generate a 2D Gaussian-like array.\n",
    "\n",
    "    Parameters:\n",
    "        shape (tuple): Shape of the array (rows, columns).\n",
    "        sigma (float): Standard deviation of the Gaussian distribution.\n",
    "\n",
    "    Returns:\n",
    "        numpy.ndarray: 2D Gaussian-like array.\n",
    "    \"\"\"\n",
    "    # Create a grid of coordinates\n",
    "    x = np.linspace(-1, 1, shape[1])\n",
    "    y = np.linspace(-1, 1, shape[0])\n",
    "    x_grid, y_grid = np.meshgrid(x, y)\n",
    "\n",
    "    # Calculate the Gaussian-like values\n",
    "    gaussian_values = np.exp(-(x_grid**2 + y_grid**2) / (2 * sigma**2))\n",
    "\n",
    "    return gaussian_values\n",
    "\n",
    "# Example usage:\n",
    "shape = (5, 5)  # Shape of the array\n",
    "sigma = 1.0     # Standard deviation\n",
    "gaussian_array = gaussian_2d(shape, sigma)\n",
    "\n",
    "print(gaussian_array)\n"
   ]
  },
  {
   "cell_type": "markdown",
   "metadata": {},
   "source": [
    "57. How to randomly place p elements in a 2D array? "
   ]
  },
  {
   "cell_type": "code",
   "execution_count": null,
   "metadata": {},
   "outputs": [],
   "source": [
    "import numpy as np\n",
    "\n",
    "def randomly_place_elements(array, p):\n",
    "    \"\"\n",
    "    \n",
    "    if p > total_elements:\n",
    "        raise ValueError(\"Number of elements to place (p) cannot exceed total number of elements in the array.\")\n",
    "    \n",
    "    # Generate random indices\n",
    "    indices = np.random.choice(total_elements, p, replace=False)\n",
    "    \n",
    "    # Assign elements to random indices\n",
    "    array_flat = array.flatten()\n",
    "    array_flat[indices] = 1  # Assuming the elements to be placed are 1, you can change this value as needed\n",
    "    \n",
    "    # Reshape the modified flattened array to the original shape\n",
    "    modified_array = array_flat.reshape((rows, cols))\n",
    "    \n",
    "    return modified_arra\n",
    "# Example usage:\n",
    "# Create a 5x5 array\n",
    "array = np.zeros((5, 5))\n",
    "\n",
    "# Place 5 elements randomly\n",
    "p = 5\n",
    "array_with_elements = randomly_place_elements(array, p)\n",
    "\n",
    "print(\"Array with randomly placed elements:\")\n",
    "print(array_with_elements)\n"
   ]
  },
  {
   "cell_type": "markdown",
   "metadata": {},
   "source": [
    "58. Subtract the mean of each row of a matrix "
   ]
  },
  {
   "cell_type": "code",
   "execution_count": 51,
   "metadata": {},
   "outputs": [
    {
     "name": "stdout",
     "output_type": "stream",
     "text": [
      "Matrix with row means subtracted:\n",
      "[[-1.  0.  1.]\n",
      " [-1.  0.  1.]\n",
      " [-1.  0.  1.]]\n"
     ]
    }
   ],
   "source": [
    "import numpy as np\n",
    "\n",
    "def subtract_row_mean(matrix):\n",
    "    \"\"\"\n",
    "    Subtract the mean of each row from the corresponding row of the matrix.\n",
    "\n",
    "    Parameters:\n",
    "        matrix (numpy.ndarray): Input matrix.\n",
    "\n",
    "    Returns:\n",
    "        numpy.ndarray: Matrix with row means subtracted.\n",
    "    \"\"\"\n",
    "    # Calculate the mean of each row\n",
    "    row_means = np.mean(matrix, axis=1, keepdims=True)\n",
    "    \n",
    "    # Subtract the row means from the matrix\n",
    "    matrix_minus_mean = matrix - row_means\n",
    "    \n",
    "    return matrix_minus_mean\n",
    "\n",
    "# Example usage:\n",
    "matrix = np.array([[1, 2, 3],\n",
    "                   [4, 5, 6],\n",
    "                   [7, 8, 9]])\n",
    "\n",
    "result = subtract_row_mean(matrix)\n",
    "print(\"Matrix with row means subtracted:\")\n",
    "print(result)\n"
   ]
  },
  {
   "cell_type": "markdown",
   "metadata": {},
   "source": [
    "59. How to sort an array by the nth column? (★★☆)"
   ]
  },
  {
   "cell_type": "code",
   "execution_count": 53,
   "metadata": {},
   "outputs": [
    {
     "name": "stdout",
     "output_type": "stream",
     "text": [
      "Sorted array by the nth column:\n",
      "[[1 2 3]\n",
      " [4 5 6]\n",
      " [7 8 9]]\n"
     ]
    }
   ],
   "source": [
    "import numpy as np\n",
    "\n",
    "def sort_by_nth_column(array, n):\n",
    "    \"\"\"\n",
    "    Sort a NumPy array by the nth column.\n",
    "\n",
    "    Parameters:\n",
    "        array (numpy.ndarray): Input array.\n",
    "        n (int): Index of the column to sort by.\n",
    "\n",
    "    Returns:\n",
    "        numpy.ndarray: Sorted array.\n",
    "    \"\"\"\n",
    "    # Get indices that would sort the array by the nth column\n",
    "    indices = np.argsort(array[:, n])\n",
    "    \n",
    "    # Use the sorted indices to rearrange the rows of the array\n",
    "    sorted_array = array[indices]\n",
    "    \n",
    "    return sorted_array\n",
    "\n",
    "# Example usage:\n",
    "array = np.array([[1, 2, 3],\n",
    "                  [4, 5, 6],\n",
    "                  [7, 8, 9]])\n",
    "\n",
    "n = 1  # Sort by the second column (indexing starts from 0)\n",
    "sorted_array = sort_by_nth_column(array, n)\n",
    "\n",
    "print(\"Sorted array by the nth column:\")\n",
    "print(sorted_array)\n"
   ]
  },
  {
   "cell_type": "markdown",
   "metadata": {},
   "source": [
    "60. How to tell if a given 2D array has null columns?"
   ]
  },
  {
   "cell_type": "code",
   "execution_count": 54,
   "metadata": {},
   "outputs": [
    {
     "name": "stdout",
     "output_type": "stream",
     "text": [
      "The array has null columns.\n"
     ]
    }
   ],
   "source": [
    "import numpy as np\n",
    "\n",
    "def has_null_columns(array):\n",
    "    \"\"\"\n",
    "    Check if a given 2D array has null columns (containing only zeros or NaN values).\n",
    "\n",
    "    Parameters:\n",
    "        array (numpy.ndarray): Input 2D array.\n",
    "\n",
    "    Returns:\n",
    "        bool: True if the array has null columns, False otherwise.\n",
    "    \"\"\"\n",
    "    # Check if any column contains only zeros or NaN values\n",
    "    null_columns = np.any(np.isnan(array), axis=0) | np.all(array == 0, axis=0)\n",
    "    \n",
    "    return np.any(null_columns)\n",
    "\n",
    "# Example usage:\n",
    "array_with_null_columns = np.array([[0, 1, 2],\n",
    "                                    [0, 0, 0],\n",
    "                                    [np.nan, 3, 4]])\n",
    "\n",
    "if has_null_columns(array_with_null_columns):\n",
    "    print(\"The array has null columns.\")\n",
    "else:\n",
    "    print(\"The array does not have null columns.\")\n"
   ]
  },
  {
   "cell_type": "markdown",
   "metadata": {},
   "source": [
    "61. Find the nearest value from a given value in an array"
   ]
  },
  {
   "cell_type": "code",
   "execution_count": 55,
   "metadata": {},
   "outputs": [
    {
     "name": "stdout",
     "output_type": "stream",
     "text": [
      "Nearest value to 6 in the array is: 5\n"
     ]
    }
   ],
   "source": [
    "import numpy as np\n",
    "\n",
    "def find_nearest_value(array, value):\n",
    "    \"\"\"\n",
    "    Find the nearest value from a given value in an array.\n",
    "\n",
    "    Parameters:\n",
    "        array (numpy.ndarray): Input array.\n",
    "        value: Value to find the nearest value to.\n",
    "\n",
    "    Returns:\n",
    "        float: Nearest value in the array.\n",
    "    \"\"\"\n",
    "    # Find the index of the nearest value\n",
    "    index = np.abs(array - value).argmin()\n",
    "    \n",
    "    # Get the nearest value\n",
    "    nearest_value = array[index]\n",
    "    \n",
    "    return nearest_value\n",
    "\n",
    "# Example usage:\n",
    "array = np.array([1, 3, 5, 7, 9])\n",
    "value = 6\n",
    "\n",
    "nearest_value = find_nearest_value(array, value)\n",
    "print(\"Nearest value to\", value, \"in the array is:\", nearest_value)\n"
   ]
  },
  {
   "cell_type": "markdown",
   "metadata": {},
   "source": [
    "\n",
    "62. Considering two arrays with shape (1,3) and (3,1), how to compute their sum using an iterator? (★★☆)"
   ]
  },
  {
   "cell_type": "code",
   "execution_count": null,
   "metadata": {},
   "outputs": [],
   "source": [
    "import numpy as np\n",
    "\n",
    "# Create two arrays with shapes (1,3) and (3,1)\n",
    "array1 = np.array([[1, 2, 3]])\n",
    "array2 = np.array([[4],\n",
    "                   [5],\n",
    "                   [6]])\n",
    "\n",
    "# Initialize the sum\n",
    "sum_result = 0\n",
    "\n",
    "# Create an iterator for array1 and array2\n",
    "iterator1 = np.nditer(array1)\n",
    "iterator2 = np.nditer(array2)\n",
    "\n",
    "# Iterate over the arrays and compute the sum\n",
    "while not (iterator1.finished and iterator2.finished):\n",
    "    sum_result += iterator1[0] + iterator2[0]\n",
    "    iterator1.iternext()\n",
    "    iterator2.iternext()\n",
    "\n",
    "print(\"Sum of the two arrays:\", sum_result)\n"
   ]
  },
  {
   "cell_type": "markdown",
   "metadata": {},
   "source": [
    "63. Create an array class that has a name attribute (★★☆)"
   ]
  },
  {
   "cell_type": "code",
   "execution_count": 56,
   "metadata": {},
   "outputs": [
    {
     "name": "stdout",
     "output_type": "stream",
     "text": [
      "Named Array: [1 2 3 4 5]\n",
      "Name of the array: MyArray\n"
     ]
    }
   ],
   "source": [
    "import numpy as np\n",
    "\n",
    "class NamedArray(np.ndarray):\n",
    "    def __new__(cls, array, name=None):\n",
    "        obj = np.asarray(array).view(cls)\n",
    "        obj.name = name\n",
    "        return obj\n",
    "\n",
    "    def __array_finalize__(self, obj):\n",
    "        if obj is None:\n",
    "            return\n",
    "        self.name = getattr(obj, 'name', None)\n",
    "\n",
    "# Example usage:\n",
    "data = np.array([1, 2, 3, 4, 5])\n",
    "named_array = NamedArray(data, name=\"MyArray\")\n",
    "\n",
    "print(\"Named Array:\", named_array)\n",
    "print(\"Name of the array:\", named_array.name)\n"
   ]
  },
  {
   "cell_type": "markdown",
   "metadata": {},
   "source": [
    "64. Consider a given vector, how to add 1 to each element indexed by a second vector (be careful with repeated indices)? (★★★)"
   ]
  },
  {
   "cell_type": "code",
   "execution_count": 57,
   "metadata": {},
   "outputs": [
    {
     "name": "stdout",
     "output_type": "stream",
     "text": [
      "Result vector with 1 added to elements indexed by second vector:\n",
      "[1 2 2 3 5 5]\n"
     ]
    }
   ],
   "source": [
    "import numpy as np\n",
    "\n",
    "def add_one_to_indexed_elements(vector, indices):\n",
    "    \"\"\"\n",
    "    Add 1 to each element of a vector indexed by a second vector, handling repeated indices.\n",
    "\n",
    "    Parameters:\n",
    "        vector (numpy.ndarray): Input vector.\n",
    "        indices (numpy.ndarray): Indices vector.\n",
    "\n",
    "    Returns:\n",
    "        numpy.ndarray: Result vector with 1 added to elements indexed by indices.\n",
    "    \"\"\"\n",
    "    # Create a copy of the original vector to avoid modifying it in place\n",
    "    result = vector.copy()\n",
    "    \n",
    "    # Find unique indices and their counts\n",
    "    unique_indices, counts = np.unique(indices, return_counts=True)\n",
    "    \n",
    "    # Add 1 to elements indexed by unique indices\n",
    "    result[unique_indices] += 1\n",
    "    \n",
    "    # Subtract the count of repeated indices from the elements indexed by those indices\n",
    "    result[unique_indices] -= counts - 1\n",
    "    \n",
    "    return result\n",
    "\n",
    "# Example usage:\n",
    "vector = np.array([0, 1, 2, 3, 4, 5])\n",
    "indices = np.array([0, 1, 2, 2, 3, 3, 4])\n",
    "\n",
    "result = add_one_to_indexed_elements(vector, indices)\n",
    "print(\"Result vector with 1 added to elements indexed by second vector:\")\n",
    "print(result)\n"
   ]
  },
  {
   "cell_type": "markdown",
   "metadata": {},
   "source": [
    "65. How to accumulate elements of a vector (X) to an array (F) based on an index list (I)?"
   ]
  },
  {
   "cell_type": "code",
   "execution_count": 58,
   "metadata": {},
   "outputs": [
    {
     "name": "stdout",
     "output_type": "stream",
     "text": [
      "Accumulated array F: [1. 2. 7. 5.]\n"
     ]
    }
   ],
   "source": [
    "import numpy as np\n",
    "\n",
    "def accumulate_elements(X, I, F):\n",
    "    \"\"\"\n",
    "    Accumulate elements of a vector X to an array F based on an index list I.\n",
    "\n",
    "    Parameters:\n",
    "        X (numpy.ndarray): Input vector.\n",
    "        I (numpy.ndarray): Index list.\n",
    "        F (numpy.ndarray): Array to accumulate elements into.\n",
    "\n",
    "    Returns:\n",
    "        numpy.ndarray: Accumulated array F.\n",
    "    \"\"\"\n",
    "    np.add.at(F, I, X)\n",
    "    return F\n",
    "\n",
    "# Example usage:\n",
    "X = np.array([1, 2, 3, 4, 5])\n",
    "I = np.array([0, 1, 2, 2, 3])\n",
    "F = np.zeros(4)\n",
    "\n",
    "result = accumulate_elements(X, I, F)\n",
    "print(\"Accumulated array F:\", result)\n"
   ]
  },
  {
   "cell_type": "markdown",
   "metadata": {},
   "source": [
    "66. Considering a (w,h,3) image of (dtype=ubyte), compute the number of unique colors"
   ]
  },
  {
   "cell_type": "code",
   "execution_count": 59,
   "metadata": {},
   "outputs": [
    {
     "name": "stdout",
     "output_type": "stream",
     "text": [
      "Number of unique colors in the image: 100\n"
     ]
    }
   ],
   "source": [
    "import numpy as np\n",
    "\n",
    "def count_unique_colors(image):\n",
    "    \"\"\"\n",
    "    Compute the number of unique colors in an image.\n",
    "\n",
    "    Parameters:\n",
    "        image (numpy.ndarray): Input image array of shape (w, h, 3) and dtype ubyte.\n",
    "\n",
    "    Returns:\n",
    "        int: Number of unique colors.\n",
    "    \"\"\"\n",
    "    # Reshape the image array to (w * h, 3)\n",
    "    flattened_image = image.reshape(-1, 3)\n",
    "    \n",
    "    # Convert the dtype to int for np.unique() to work correctly\n",
    "    flattened_image_int = flattened_image.astype(np.int32)\n",
    "    \n",
    "    # Compute the unique colors\n",
    "    unique_colors = np.unique(flattened_image_int, axis=0)\n",
    "    \n",
    "    # Return the number of unique colors\n",
    "    return len(unique_colors)\n",
    "\n",
    "# Example usage:\n",
    "# Generate a sample image (replace this with your actual image)\n",
    "w, h = 10, 10\n",
    "sample_image = np.random.randint(0, 256, size=(w, h, 3), dtype=np.uint8)\n",
    "\n",
    "num_unique_colors = count_unique_colors(sample_image)\n",
    "print(\"Number of unique colors in the image:\", num_unique_colors)\n"
   ]
  },
  {
   "cell_type": "markdown",
   "metadata": {},
   "source": [
    "67. Considering a four dimensions array, how to get sum over the last two axis at once?"
   ]
  },
  {
   "cell_type": "code",
   "execution_count": 60,
   "metadata": {},
   "outputs": [
    {
     "name": "stdout",
     "output_type": "stream",
     "text": [
      "Sum over the last two axes:\n",
      "[[139 131 138 144]\n",
      " [131 136 129 136]\n",
      " [122 145 118 137]]\n"
     ]
    }
   ],
   "source": [
    "import numpy as np\n",
    "\n",
    "# Create a four-dimensional array\n",
    "array = np.random.randint(0, 10, size=(3, 4, 5, 6))\n",
    "\n",
    "# Get the sum over the last two axes at once\n",
    "sum_over_last_two_axes = np.sum(array, axis=(-1, -2))\n",
    "\n",
    "print(\"Sum over the last two axes:\")\n",
    "print(sum_over_last_two_axes)\n"
   ]
  },
  {
   "cell_type": "markdown",
   "metadata": {},
   "source": [
    "68. Considering a one-dimensional vector D, how to compute means of subsets of D using a vector S of same size describing subset indices"
   ]
  },
  {
   "cell_type": "code",
   "execution_count": 61,
   "metadata": {},
   "outputs": [
    {
     "name": "stdout",
     "output_type": "stream",
     "text": [
      "Means of subsets: [2.  3.  5.5]\n"
     ]
    }
   ],
   "source": [
    "import numpy as np\n",
    "\n",
    "def means_of_subsets(D, S):\n",
    "    \"\"\"\n",
    "    Compute the means of subsets of a one-dimensional vector D using subset indices vector S.\n",
    "\n",
    "    Parameters:\n",
    "        D (numpy.ndarray): Input one-dimensional vector.\n",
    "        S (numpy.ndarray): Subset indices vector.\n",
    "\n",
    "    Returns:\n",
    "        numpy.ndarray: Means of subsets.\n",
    "    \"\"\"\n",
    "    # Find unique subset indices and their counts\n",
    "    unique_indices, counts = np.unique(S, return_counts=True)\n",
    "    \n",
    "    # Calculate the sums of subsets using np.bincount()\n",
    "    sums = np.bincount(S, weights=D)\n",
    "    \n",
    "    # Calculate the means of subsets\n",
    "    means = sums / counts\n",
    "    \n",
    "    return means\n",
    "\n",
    "# Example usage:\n",
    "D = np.array([1, 2, 3, 4, 5, 6])\n",
    "S = np.array([0, 1, 0, 1, 2, 2])\n",
    "\n",
    "subset_means = means_of_subsets(D, S)\n",
    "print(\"Means of subsets:\", subset_means)\n"
   ]
  },
  {
   "cell_type": "markdown",
   "metadata": {},
   "source": [
    "69. How to get the diagonal of a dot product? (★★★)"
   ]
  },
  {
   "cell_type": "code",
   "execution_count": 62,
   "metadata": {},
   "outputs": [
    {
     "name": "stdout",
     "output_type": "stream",
     "text": [
      "Diagonal of the dot product: [19 50]\n"
     ]
    }
   ],
   "source": [
    "import numpy as np\n",
    "\n",
    "def diagonal_of_dot_product(A, B):\n",
    "    \"\"\"\n",
    "    Get the diagonal of the dot product of two matrices A and B.\n",
    "\n",
    "    Parameters:\n",
    "        A (numpy.ndarray): First matrix.\n",
    "        B (numpy.ndarray): Second matrix.\n",
    "\n",
    "    Returns:\n",
    "        numpy.ndarray: Diagonal of the dot product.\n",
    "    \"\"\"\n",
    "    dot_product = np.einsum(\"ij,jk->ik\", A, B)\n",
    "    diagonal = np.diagonal(dot_product)\n",
    "    return diagonal\n",
    "\n",
    "# Example usage:\n",
    "A = np.array([[1, 2],\n",
    "              [3, 4]])\n",
    "\n",
    "B = np.array([[5, 6],\n",
    "              [7, 8]])\n",
    "\n",
    "diagonal = diagonal_of_dot_product(A, B)\n",
    "print(\"Diagonal of the dot product:\", diagonal)\n"
   ]
  },
  {
   "cell_type": "markdown",
   "metadata": {},
   "source": [
    "70. Consider the vector [1, 2, 3, 4, 5], how to build a new vector with 3 consecutive zeros interleaved between each value? (★★★)\n"
   ]
  },
  {
   "cell_type": "code",
   "execution_count": 63,
   "metadata": {},
   "outputs": [
    {
     "name": "stdout",
     "output_type": "stream",
     "text": [
      "Original Vector: [1 2 3 4 5]\n",
      "New Vector with 3 consecutive zeros interleaved: [1. 0. 0. 0. 2. 0. 0. 0. 3. 0. 0. 0. 4. 0. 0. 0. 5.]\n"
     ]
    }
   ],
   "source": [
    "import numpy as np\n",
    "\n",
    "# Given vector\n",
    "original_vector = np.array([1, 2, 3, 4, 5])\n",
    "\n",
    "# Build a new vector with 3 consecutive zeros interleaved between each value\n",
    "new_vector = np.zeros(len(original_vector) + 3 * (len(original_vector) - 1))\n",
    "new_vector[::4] = original_vector\n",
    "\n",
    "print(\"Original Vector:\", original_vector)\n",
    "print(\"New Vector with 3 consecutive zeros interleaved:\", new_vector)\n"
   ]
  },
  {
   "cell_type": "markdown",
   "metadata": {},
   "source": [
    "71. Consider an array of dimension (5,5,3), how to mulitply it by an array with dimensions (5,5)?"
   ]
  },
  {
   "cell_type": "code",
   "execution_count": 64,
   "metadata": {},
   "outputs": [
    {
     "name": "stdout",
     "output_type": "stream",
     "text": [
      "Result after multiplication:\n",
      "[[[0.05062884 0.00150156 0.01970094]\n",
      "  [0.27880837 0.39051906 0.24152435]\n",
      "  [0.1320167  0.15589843 0.18269673]\n",
      "  [0.0358377  0.00189634 0.0354536 ]\n",
      "  [0.03306896 0.17810541 0.23176553]]\n",
      "\n",
      " [[0.18212264 0.264969   0.19065403]\n",
      "  [0.13105696 0.07130895 0.07697236]\n",
      "  [0.04169869 0.08760894 0.06854111]\n",
      "  [0.42470759 0.19428702 0.42321007]\n",
      "  [0.09026536 0.03265643 0.10550361]]\n",
      "\n",
      " [[0.46045756 0.27579427 0.14667956]\n",
      "  [0.21850672 0.25334718 0.19069364]\n",
      "  [0.06724065 0.10770869 0.04421891]\n",
      "  [0.83557565 0.86547497 0.55761882]\n",
      "  [0.00097875 0.00155497 0.0067372 ]]\n",
      "\n",
      " [[0.03613706 0.00216783 0.01486961]\n",
      "  [0.53915261 0.2591494  0.31359038]\n",
      "  [0.21768664 0.78984944 0.709986  ]\n",
      "  [0.35730317 0.20843317 0.03810473]\n",
      "  [0.00407748 0.0050389  0.00706703]]\n",
      "\n",
      " [[0.50819757 0.32324839 0.01058012]\n",
      "  [0.12041923 0.8884236  0.36852305]\n",
      "  [0.05802543 0.02602913 0.006352  ]\n",
      "  [0.10834404 0.83887229 0.12819981]\n",
      "  [0.38896351 0.50832611 0.5322941 ]]]\n"
     ]
    }
   ],
   "source": [
    "import numpy as np\n",
    "\n",
    "# Create a 3D array of dimensions (5, 5, 3)\n",
    "array_3d = np.random.rand(5, 5, 3)\n",
    "\n",
    "# Create a 2D array of dimensions (5, 5)\n",
    "array_2d = np.random.rand(5, 5)\n",
    "\n",
    "# Multiply the 3D array by the 2D array using broadcasting\n",
    "result = array_3d * array_2d[:, :, np.newaxis]\n",
    "\n",
    "print(\"Result after multiplication:\")\n",
    "print(result)\n"
   ]
  },
  {
   "cell_type": "markdown",
   "metadata": {},
   "source": [
    "72. How to swap two rows of an array?"
   ]
  },
  {
   "cell_type": "code",
   "execution_count": 65,
   "metadata": {},
   "outputs": [
    {
     "name": "stdout",
     "output_type": "stream",
     "text": [
      "Array with rows swapped:\n",
      "[[7 8 9]\n",
      " [4 5 6]\n",
      " [1 2 3]]\n"
     ]
    }
   ],
   "source": [
    "import numpy as np\n",
    "\n",
    "def swap_rows(array, row1, row2):\n",
    "    \"\"\"\n",
    "    Swap two rows of a NumPy array.\n",
    "\n",
    "    Parameters:\n",
    "        array (numpy.ndarray): Input array.\n",
    "        row1 (int): Index of the first row to swap.\n",
    "        row2 (int): Index of the second row to swap.\n",
    "\n",
    "    Returns:\n",
    "        numpy.ndarray: Array with rows swapped.\n",
    "    \"\"\"\n",
    "    # Copy the array to avoid modifying it in place\n",
    "    swapped_array = array.copy()\n",
    "    \n",
    "    # Swap rows\n",
    "    swapped_array[[row1, row2]] = swapped_array[[row2, row1]]\n",
    "    \n",
    "    return swapped_array\n",
    "\n",
    "# Example usage:\n",
    "array = np.array([[1, 2, 3],\n",
    "                  [4, 5, 6],\n",
    "                  [7, 8, 9]])\n",
    "\n",
    "row1 = 0  # Index of the first row to swap\n",
    "row2 = 2  # Index of the second row to swap\n",
    "\n",
    "result = swap_rows(array, row1, row2)\n",
    "print(\"Array with rows swapped:\")\n",
    "print(result)\n"
   ]
  },
  {
   "cell_type": "markdown",
   "metadata": {},
   "source": [
    "73. Consider a set of 10 triplets describing 10 triangles (with shared vertices), find the set of unique line segments composing all the triangles (★★★)"
   ]
  },
  {
   "cell_type": "code",
   "execution_count": 66,
   "metadata": {},
   "outputs": [
    {
     "name": "stdout",
     "output_type": "stream",
     "text": [
      "Set of unique line segments:\n",
      "{((2, 4), (3, 2)), ((8, 6), (8, 7)), ((2, 0), (3, 2)), ((4, 2), (6, 8)), ((0, 3), (9, 0)), ((5, 0), (9, 9)), ((0, 1), (6, 7)), ((6, 6), (6, 8)), ((0, 3), (5, 4)), ((2, 8), (6, 7)), ((6, 3), (9, 9)), ((0, 3), (1, 9)), ((7, 0), (9, 8)), ((8, 7), (8, 7)), ((6, 9), (7, 1)), ((4, 2), (6, 6)), ((5, 3), (6, 9)), ((5, 3), (7, 1)), ((3, 8), (5, 4)), ((6, 6), (9, 1)), ((9, 0), (9, 8)), ((0, 3), (3, 8)), ((0, 1), (2, 8)), ((1, 9), (9, 0)), ((5, 0), (6, 3)), ((5, 3), (6, 6)), ((7, 0), (9, 0)), ((5, 3), (9, 1)), ((2, 0), (2, 4))}\n"
     ]
    }
   ],
   "source": [
    "import numpy as np\n",
    "\n",
    "def extract_line_segments(triplets):\n",
    "    \"\"\"\n",
    "    Extract line segments from a set of triplets describing triangles.\n",
    "\n",
    "    Parameters:\n",
    "        triplets (numpy.ndarray): Input array of shape (10, 3, 2) representing 10 triangles.\n",
    "\n",
    "    Returns:\n",
    "        set: Set of unique line segments.\n",
    "    \"\"\"\n",
    "    line_segments = set()\n",
    "\n",
    "    for triangle in triplets:\n",
    "        # Extract line segments from each triangle\n",
    "        for i in range(3):\n",
    "            line_segment = tuple(sorted([tuple(triangle[i]), tuple(triangle[(i + 1) % 3])]))\n",
    "            line_segments.add(line_segment)\n",
    "\n",
    "    return line_segments\n",
    "\n",
    "# Example usage:\n",
    "triplets = np.random.randint(0, 10, size=(10, 3, 2))\n",
    "\n",
    "unique_line_segments = extract_line_segments(triplets)\n",
    "print(\"Set of unique line segments:\")\n",
    "print(unique_line_segments)\n"
   ]
  },
  {
   "cell_type": "markdown",
   "metadata": {},
   "source": [
    "74. Given a sorted array C that corresponds to a bincount, how to produce an array A such that np.bincount(A) == C?"
   ]
  },
  {
   "cell_type": "code",
   "execution_count": 68,
   "metadata": {},
   "outputs": [
    {
     "name": "stdout",
     "output_type": "stream",
     "text": [
      "Array A such that np.bincount(A) == C:\n",
      "[0 1 1 3 5 8 8 9]\n"
     ]
    }
   ],
   "source": [
    "import numpy as np\n",
    "\n",
    "def array_from_bincount(bincount_array):\n",
    "    \"\"\"\n",
    "    Produce an array A such that np.bincount(A) == bincount_array.\n",
    "\n",
    "    Parameters:\n",
    "        bincount_array (numpy.ndarray): Sorted array corresponding to a bincount.\n",
    "\n",
    "    Returns:\n",
    "        numpy.ndarray: Array A.\n",
    "    \"\"\"\n",
    "    # Calculate the size of the resulting array A\n",
    "    size = np.sum(bincount_array)\n",
    "\n",
    "    # Create an array A by repeating indices according to bin counts\n",
    "    A = np.repeat(np.arange(len(bincount_array)), bincount_array)\n",
    "\n",
    "    return A\n",
    "\n",
    "# Example usage:\n",
    "C = np.array([1, 2, 0, 1, 0, 1, 0, 0, 2, 1])  # Sorted array corresponding to a bincount\n",
    "\n",
    "A = array_from_bincount(C)\n",
    "print(\"Array A such that np.bincount(A) == C:\")\n",
    "print(A)\n"
   ]
  },
  {
   "cell_type": "markdown",
   "metadata": {},
   "source": [
    "75. How to compute averages using a sliding window over an array? (★★★)"
   ]
  },
  {
   "cell_type": "code",
   "execution_count": 69,
   "metadata": {},
   "outputs": [
    {
     "name": "stdout",
     "output_type": "stream",
     "text": [
      "Averages computed using a sliding window of size 3 : [2. 3. 4. 5. 6. 7. 8.]\n"
     ]
    }
   ],
   "source": [
    "import numpy as np\n",
    "\n",
    "def sliding_window_average(array, window_size):\n",
    "    \"\"\"\n",
    "    Compute averages using a sliding window over an array.\n",
    "\n",
    "    Parameters:\n",
    "        array (numpy.ndarray): Input array.\n",
    "        window_size (int): Size of the sliding window.\n",
    "\n",
    "    Returns:\n",
    "        numpy.ndarray: Array of averages.\n",
    "    \"\"\"\n",
    "    # Create a sliding window kernel\n",
    "    kernel = np.ones(window_size) / window_size\n",
    "\n",
    "    # Compute the sliding window average using convolution\n",
    "    averages = np.convolve(array, kernel, mode='valid')\n",
    "\n",
    "    return averages\n",
    "\n",
    "# Example usage:\n",
    "array = np.array([1, 2, 3, 4, 5, 6, 7, 8, 9])\n",
    "window_size = 3\n",
    "\n",
    "averages = sliding_window_average(array, window_size)\n",
    "print(\"Averages computed using a sliding window of size\", window_size, \":\", averages)\n"
   ]
  },
  {
   "cell_type": "markdown",
   "metadata": {},
   "source": [
    "76. Consider a one-dimensional array Z, build a two-dimensional array whose first row is (Z[0],Z[1],Z[2]) and each subsequent row is shifted by 1 (last row should be (Z[-3],Z[-2],Z[-1])"
   ]
  },
  {
   "cell_type": "code",
   "execution_count": 70,
   "metadata": {},
   "outputs": [
    {
     "name": "stdout",
     "output_type": "stream",
     "text": [
      "Two-dimensional array with sliding window:\n",
      "[[1 2 3 4 5]\n",
      " [2 3 4 5 6]\n",
      " [3 4 5 6 7]]\n"
     ]
    }
   ],
   "source": [
    "import numpy as np\n",
    "\n",
    "def build_sliding_window_array(Z, window_size):\n",
    "    \"\"\"\n",
    "    Build a two-dimensional array with a sliding window from a one-dimensional array.\n",
    "\n",
    "    Parameters:\n",
    "        Z (numpy.ndarray): Input one-dimensional array.\n",
    "        window_size (int): Size of the sliding window.\n",
    "\n",
    "    Returns:\n",
    "        numpy.ndarray: Two-dimensional array with sliding window.\n",
    "    \"\"\"\n",
    "    # Create an array of indices for the sliding window\n",
    "    indices = np.arange(window_size)[:, None] + np.arange(len(Z) - window_size + 1)\n",
    "\n",
    "    # Use the indices to extract the sliding window from the input array\n",
    "    sliding_window_array = Z[indices]\n",
    "\n",
    "    return sliding_window_array\n",
    "\n",
    "# Example usage:\n",
    "Z = np.array([1, 2, 3, 4, 5, 6, 7])\n",
    "window_size = 3\n",
    "\n",
    "result = build_sliding_window_array(Z, window_size)\n",
    "print(\"Two-dimensional array with sliding window:\")\n",
    "print(result)\n"
   ]
  },
  {
   "cell_type": "markdown",
   "metadata": {},
   "source": [
    "77. How to negate a boolean, or to change the sign of a float inplace? "
   ]
  },
  {
   "cell_type": "code",
   "execution_count": 71,
   "metadata": {},
   "outputs": [
    {
     "name": "stdout",
     "output_type": "stream",
     "text": [
      "Negated boolean: False\n",
      "Float value with changed sign: -3.14\n"
     ]
    }
   ],
   "source": [
    "# Negate a boolean\n",
    "boolean_value = True\n",
    "negated_boolean = not boolean_value\n",
    "print(\"Negated boolean:\", negated_boolean)\n",
    "\n",
    "# Change the sign of a float inplace\n",
    "float_value = 3.14\n",
    "float_value *= -1\n",
    "print(\"Float value with changed sign:\", float_value)\n"
   ]
  },
  {
   "cell_type": "markdown",
   "metadata": {},
   "source": [
    "78. Consider 2 sets of points P0,P1 describing lines (2d) and a point p, how to compute distance from p to each line i (P0[i],P1[i])?"
   ]
  },
  {
   "cell_type": "code",
   "execution_count": null,
   "metadata": {},
   "outputs": [],
   "source": [
    "import numpy as np\n",
    "\n",
    "def distance_to_line_segment(P0, P1, p):\n",
    "    \"\"\"\n",
    "    Compute the distance from a point p to each line segment defined by points P0 and P1.\n",
    "\n",
    "    Parameters:\n",
    "        P0 (numpy.ndarray): Array of shape (n, 2) representing the starting points of line segments.\n",
    "        P1 (numpy.ndarray): Array of shape (n, 2) representing the ending points of line segments.\n",
    "        p (numpy.ndarray): Array of shape (2,) representing the point.\n",
    "\n",
    "    Returns:\n",
    "        numpy.ndarray: Array of distances from p to each line segment.\n",
    "    \"\"\"\n",
    "    # Direction vector of line segments\n",
    "    v = P1 - P0\n",
    "\n",
    "    # Vector from P0 to p\n",
    "    w = p - P0\n",
    "\n",
    "    # Dot product of w and v\n",
    "    dot_product = np.dot(w, v.T)\n",
    "\n",
    "    # Squared length of line segments\n",
    "    squared_length = np.sum(v**2, axis=1)\n",
    "\n",
    "    # Parameter t for projection of p onto line segments\n",
    "    t = np.clip(dot_product / squared_length, 0, 1)\n",
    "\n",
    "    # Projection of p onto line segments\n",
    "    projection = P0 + t[:, np.newaxis] * v\n",
    "\n",
    "    # Distance from p to projection\n",
    "    distance = np.linalg.norm(p - projection, axis=1)\n",
    "\n",
    "    return distance\n",
    "\n",
    "# Example usage:\n",
    "P0 = np.array([[0, 0], [1, 1], [2, 2]])\n",
    "P1 = np.array([[1, 0], [2, 1], [3, 2]])\n",
    "p = np.array([0, 1])\n",
    "\n",
    "distances = distance_to_line_segment(P0, P1, p)\n",
    "print(\"Distances from p to each line segment:\", distances)\n"
   ]
  },
  {
   "cell_type": "markdown",
   "metadata": {},
   "source": [
    "79. Consider 2 sets of points P0,P1 describing lines (2d) and a set of points P, how to compute distance from each point j (P[j]) to each line i (P0[i],P1[i])? "
   ]
  },
  {
   "cell_type": "code",
   "execution_count": null,
   "metadata": {},
   "outputs": [],
   "source": [
    "\n",
    "import numpy as np\n",
    "\n",
    "def distance_to_lines(P0, P1, P):\n",
    "    \"\"\"\n",
    "    Compute the distance from each point P[j] to each line segment defined by points P0[i] and P1[i].\n",
    "\n",
    "    Parameters:\n",
    "        P0 (numpy.ndarray): Array of shape (n, 2) representing the starting points of line segments.\n",
    "        P1 (numpy.ndarray): Array of shape (n, 2) representing the ending points of line segments.\n",
    "        P (numpy.ndarray): Array of shape (m, 2) representing the points.\n",
    "\n",
    "    Returns:\n",
    "        numpy.ndarray: Array of shape (m, n) representing the distances from each point to each line segment.\n",
    "    \"\"\"\n",
    "    # Direction vector of line segments\n",
    "    v = P1 - P0\n",
    "\n",
    "    # Vector from P0 to each point P[j]\n",
    "    w = P[:, np.newaxis] - P0\n",
    "\n",
    "    # Dot product of w and v\n",
    "    dot_product = np.sum(w[:, :, np.newaxis] * v.T, axis=1)\n",
    "\n",
    "    # Squared length of line segments\n",
    "    squared_length = np.sum(v**2, axis=1)\n",
    "\n",
    "    # Parameter t for projection of each point onto each line segment\n",
    "    t = np.clip(dot_product / squared_length, 0, 1)\n",
    "\n",
    "    # Projection of each point onto each line segment\n",
    "    projection = P0 + t[:, :, np.newaxis] * v\n",
    "\n",
    "    # Distance from each point to each projection\n",
    "    distance = np.linalg.norm(P[:, np.newaxis] - projection, axis=2)\n",
    "\n",
    "    return distance\n",
    "\n",
    "# Example usage:\n",
    "P0 = np.array([[0, 0], [1, 1], [2, 2]])\n",
    "P1 = np.array([[1, 0], [2, 1], [3, 2]])\n",
    "P = np.array([[0, 1], [1, 2], [2, 3]])\n",
    "\n",
    "distances = distance_to_lines(P0, P1, P)\n",
    "print(\"Distances from each point to each line segment:\")\n",
    "print(distances)\n"
   ]
  },
  {
   "cell_type": "markdown",
   "metadata": {},
   "source": [
    "80. Consider an arbitrary array, write a function that extract a subpart with a fixed shape and centered on a given element (pad with a fill value when necessary)"
   ]
  },
  {
   "cell_type": "code",
   "execution_count": 74,
   "metadata": {},
   "outputs": [
    {
     "name": "stdout",
     "output_type": "stream",
     "text": [
      "[[ 2  3  4]\n",
      " [ 6  7  8]\n",
      " [10 11 12]]\n"
     ]
    }
   ],
   "source": [
    "import numpy as np\n",
    "\n",
    "def extract_subpart(arr, center, shape, fill_value=0):\n",
    "    \"\"\"\n",
    "    Extracts a subpart of an array with a fixed shape centered on a given element.\n",
    "\n",
    "    Parameters:\n",
    "    - arr: Input array.\n",
    "    - center: Center element around which the subpart is extracted.\n",
    "    - shape: Shape of the subpart.\n",
    "    - fill_value: Value used for padding when necessary.\n",
    "\n",
    "    Returns:\n",
    "    - subpart: Extracted subpart with padding.\n",
    "    \"\"\"\n",
    "    # Calculate the indices for the subpart\n",
    "    start_idx = np.maximum(center - np.array(shape) // 2, 0)\n",
    "    end_idx = start_idx + shape\n",
    "    pad_before = np.maximum(np.array([0, 0]) - start_idx, 0)\n",
    "    pad_after = np.maximum(end_idx - np.array(arr.shape), 0)\n",
    "\n",
    "    # Pad the input array\n",
    "    padded_arr = np.pad(arr, (pad_before, pad_after), mode='constant', constant_values=fill_value)\n",
    "\n",
    "    # Calculate the slice for the subpart\n",
    "    slices = tuple(slice(start, end) for start, end in zip(start_idx, end_idx))\n",
    "\n",
    "    # Extract the subpart\n",
    "    subpart = padded_arr[slices]\n",
    "\n",
    "    return subpart\n",
    "\n",
    "# Example usage:\n",
    "arr = np.array([[1, 2, 3, 4],\n",
    "                [5, 6, 7, 8],\n",
    "                [9, 10, 11, 12]])\n",
    "\n",
    "center = (1, 2)  # Centered on element 7\n",
    "shape = (3, 3)\n",
    "subpart = extract_subpart(arr, center, shape, fill_value=-1)\n",
    "print(subpart)\n"
   ]
  },
  {
   "cell_type": "markdown",
   "metadata": {},
   "source": [
    "81. Consider an array Z = [1,2,3,4,5,6,7,8,9,10,11,12,13,14], how to generate an array R = [[1,2,3,4], [2,3,4,5], [3,4,5,6], ..., [11,12,13,14]]? (★★★)"
   ]
  },
  {
   "cell_type": "code",
   "execution_count": 75,
   "metadata": {},
   "outputs": [
    {
     "name": "stdout",
     "output_type": "stream",
     "text": [
      "[[ 1  2  3  4]\n",
      " [ 2  3  4  5]\n",
      " [ 3  4  5  6]\n",
      " [ 4  5  6  7]\n",
      " [ 5  6  7  8]\n",
      " [ 6  7  8  9]\n",
      " [ 7  8  9 10]\n",
      " [ 8  9 10 11]\n",
      " [ 9 10 11 12]\n",
      " [10 11 12 13]\n",
      " [11 12 13 14]]\n"
     ]
    }
   ],
   "source": [
    "import numpy as np\n",
    "\n",
    "Z = np.array([1,2,3,4,5,6,7,8,9,10,11,12,13,14])\n",
    "\n",
    "# Define the size of the sliding window\n",
    "window_size = 4\n",
    "\n",
    "# Calculate the number of rows in the resulting array R\n",
    "num_rows = len(Z) - window_size + 1\n",
    "\n",
    "# Initialize the array R with zeros\n",
    "R = np.zeros((num_rows, window_size), dtype=Z.dtype)\n",
    "\n",
    "# Fill in the values for each row of R\n",
    "for i in range(num_rows):\n",
    "    R[i] = Z[i:i+window_size]\n",
    "\n",
    "print(R)\n"
   ]
  },
  {
   "cell_type": "markdown",
   "metadata": {},
   "source": [
    "82. Compute a matrix rank (★★★)"
   ]
  },
  {
   "cell_type": "code",
   "execution_count": 76,
   "metadata": {},
   "outputs": [
    {
     "name": "stdout",
     "output_type": "stream",
     "text": [
      "Rank of the matrix: 2\n"
     ]
    }
   ],
   "source": [
    "import numpy as np\n",
    "\n",
    "# Define your matrix\n",
    "matrix = np.array([[1, 2, 3],\n",
    "                   [4, 5, 6],\n",
    "                   [7, 8, 9]])\n",
    "\n",
    "# Compute the rank of the matrix\n",
    "rank = np.linalg.matrix_rank(matrix)\n",
    "\n",
    "print(\"Rank of the matrix:\", rank)\n"
   ]
  },
  {
   "cell_type": "markdown",
   "metadata": {},
   "source": [
    "83. How to find the most frequent value in an array?"
   ]
  },
  {
   "cell_type": "code",
   "execution_count": 77,
   "metadata": {},
   "outputs": [
    {
     "name": "stdout",
     "output_type": "stream",
     "text": [
      "Most frequent value: 2\n"
     ]
    }
   ],
   "source": [
    "import numpy as np\n",
    "\n",
    "# Define your array\n",
    "arr = np.array([1, 2, 3, 4, 2, 2, 3, 1, 1, 2, 4, 4, 4])\n",
    "\n",
    "# Find the counts of each unique value\n",
    "unique_values, counts = np.unique(arr, return_counts=True)\n",
    "\n",
    "# Find the index of the maximum count\n",
    "most_frequent_index = np.argmax(counts)\n",
    "\n",
    "# The most frequent value\n",
    "most_frequent_value = unique_values[most_frequent_index]\n",
    "\n",
    "print(\"Most frequent value:\", most_frequent_value)\n"
   ]
  },
  {
   "cell_type": "markdown",
   "metadata": {},
   "source": [
    "84. Extract all the contiguous 3x3 blocks from a random 10x10 matrix (★★★)\n"
   ]
  },
  {
   "cell_type": "code",
   "execution_count": 78,
   "metadata": {},
   "outputs": [
    {
     "name": "stdout",
     "output_type": "stream",
     "text": [
      "Block 1:\n",
      "[[6 3 3]\n",
      " [0 4 8]\n",
      " [4 8 3]]\n",
      "\n",
      "Block 2:\n",
      "[[3 3 2]\n",
      " [4 8 5]\n",
      " [8 3 7]]\n",
      "\n",
      "Block 3:\n",
      "[[3 2 1]\n",
      " [8 5 2]\n",
      " [3 7 8]]\n",
      "\n",
      "Block 4:\n",
      "[[2 1 0]\n",
      " [5 2 4]\n",
      " [7 8 7]]\n",
      "\n",
      "Block 5:\n",
      "[[1 0 2]\n",
      " [2 4 0]\n",
      " [8 7 9]]\n",
      "\n",
      "Block 6:\n",
      "[[0 2 6]\n",
      " [4 0 9]\n",
      " [7 9 2]]\n",
      "\n",
      "Block 7:\n",
      "[[2 6 1]\n",
      " [0 9 0]\n",
      " [9 2 2]]\n",
      "\n",
      "Block 8:\n",
      "[[6 1 8]\n",
      " [9 0 6]\n",
      " [2 2 4]]\n",
      "\n",
      "Block 9:\n",
      "[[0 4 8]\n",
      " [4 8 3]\n",
      " [6 0 6]]\n",
      "\n",
      "Block 10:\n",
      "[[4 8 5]\n",
      " [8 3 7]\n",
      " [0 6 2]]\n",
      "\n",
      "Block 11:\n",
      "[[8 5 2]\n",
      " [3 7 8]\n",
      " [6 2 0]]\n",
      "\n",
      "Block 12:\n",
      "[[5 2 4]\n",
      " [7 8 7]\n",
      " [2 0 0]]\n",
      "\n",
      "Block 13:\n",
      "[[2 4 0]\n",
      " [8 7 9]\n",
      " [0 0 3]]\n",
      "\n",
      "Block 14:\n",
      "[[4 0 9]\n",
      " [7 9 2]\n",
      " [0 3 9]]\n",
      "\n",
      "Block 15:\n",
      "[[0 9 0]\n",
      " [9 2 2]\n",
      " [3 9 1]]\n",
      "\n",
      "Block 16:\n",
      "[[9 0 6]\n",
      " [2 2 4]\n",
      " [9 1 8]]\n",
      "\n",
      "Block 17:\n",
      "[[4 8 3]\n",
      " [6 0 6]\n",
      " [6 8 6]]\n",
      "\n",
      "Block 18:\n",
      "[[8 3 7]\n",
      " [0 6 2]\n",
      " [8 6 7]]\n",
      "\n",
      "Block 19:\n",
      "[[3 7 8]\n",
      " [6 2 0]\n",
      " [6 7 6]]\n",
      "\n",
      "Block 20:\n",
      "[[7 8 7]\n",
      " [2 0 0]\n",
      " [7 6 2]]\n",
      "\n",
      "Block 21:\n",
      "[[8 7 9]\n",
      " [0 0 3]\n",
      " [6 2 5]]\n",
      "\n",
      "Block 22:\n",
      "[[7 9 2]\n",
      " [0 3 9]\n",
      " [2 5 1]]\n",
      "\n",
      "Block 23:\n",
      "[[9 2 2]\n",
      " [3 9 1]\n",
      " [5 1 9]]\n",
      "\n",
      "Block 24:\n",
      "[[2 2 4]\n",
      " [9 1 8]\n",
      " [1 9 1]]\n",
      "\n",
      "Block 25:\n",
      "[[6 0 6]\n",
      " [6 8 6]\n",
      " [4 7 9]]\n",
      "\n",
      "Block 26:\n",
      "[[0 6 2]\n",
      " [8 6 7]\n",
      " [7 9 8]]\n",
      "\n",
      "Block 27:\n",
      "[[6 2 0]\n",
      " [6 7 6]\n",
      " [9 8 8]]\n",
      "\n",
      "Block 28:\n",
      "[[2 0 0]\n",
      " [7 6 2]\n",
      " [8 8 1]]\n",
      "\n",
      "Block 29:\n",
      "[[0 0 3]\n",
      " [6 2 5]\n",
      " [8 1 1]]\n",
      "\n",
      "Block 30:\n",
      "[[0 3 9]\n",
      " [2 5 1]\n",
      " [1 1 5]]\n",
      "\n",
      "Block 31:\n",
      "[[3 9 1]\n",
      " [5 1 9]\n",
      " [1 5 7]]\n",
      "\n",
      "Block 32:\n",
      "[[9 1 8]\n",
      " [1 9 1]\n",
      " [5 7 6]]\n",
      "\n",
      "Block 33:\n",
      "[[6 8 6]\n",
      " [4 7 9]\n",
      " [7 3 3]]\n",
      "\n",
      "Block 34:\n",
      "[[8 6 7]\n",
      " [7 9 8]\n",
      " [3 3 8]]\n",
      "\n",
      "Block 35:\n",
      "[[6 7 6]\n",
      " [9 8 8]\n",
      " [3 8 1]]\n",
      "\n",
      "Block 36:\n",
      "[[7 6 2]\n",
      " [8 8 1]\n",
      " [8 1 8]]\n",
      "\n",
      "Block 37:\n",
      "[[6 2 5]\n",
      " [8 1 1]\n",
      " [1 8 7]]\n",
      "\n",
      "Block 38:\n",
      "[[2 5 1]\n",
      " [1 1 5]\n",
      " [8 7 4]]\n",
      "\n",
      "Block 39:\n",
      "[[5 1 9]\n",
      " [1 5 7]\n",
      " [7 4 5]]\n",
      "\n",
      "Block 40:\n",
      "[[1 9 1]\n",
      " [5 7 6]\n",
      " [4 5 6]]\n",
      "\n",
      "Block 41:\n",
      "[[4 7 9]\n",
      " [7 3 3]\n",
      " [4 8 1]]\n",
      "\n",
      "Block 42:\n",
      "[[7 9 8]\n",
      " [3 3 8]\n",
      " [8 1 4]]\n",
      "\n",
      "Block 43:\n",
      "[[9 8 8]\n",
      " [3 8 1]\n",
      " [1 4 6]]\n",
      "\n",
      "Block 44:\n",
      "[[8 8 1]\n",
      " [8 1 8]\n",
      " [4 6 2]]\n",
      "\n",
      "Block 45:\n",
      "[[8 1 1]\n",
      " [1 8 7]\n",
      " [6 2 3]]\n",
      "\n",
      "Block 46:\n",
      "[[1 1 5]\n",
      " [8 7 4]\n",
      " [2 3 7]]\n",
      "\n",
      "Block 47:\n",
      "[[1 5 7]\n",
      " [7 4 5]\n",
      " [3 7 8]]\n",
      "\n",
      "Block 48:\n",
      "[[5 7 6]\n",
      " [4 5 6]\n",
      " [7 8 2]]\n",
      "\n",
      "Block 49:\n",
      "[[7 3 3]\n",
      " [4 8 1]\n",
      " [5 3 0]]\n",
      "\n",
      "Block 50:\n",
      "[[3 3 8]\n",
      " [8 1 4]\n",
      " [3 0 8]]\n",
      "\n",
      "Block 51:\n",
      "[[3 8 1]\n",
      " [1 4 6]\n",
      " [0 8 7]]\n",
      "\n",
      "Block 52:\n",
      "[[8 1 8]\n",
      " [4 6 2]\n",
      " [8 7 4]]\n",
      "\n",
      "Block 53:\n",
      "[[1 8 7]\n",
      " [6 2 3]\n",
      " [7 4 3]]\n",
      "\n",
      "Block 54:\n",
      "[[8 7 4]\n",
      " [2 3 7]\n",
      " [4 3 7]]\n",
      "\n",
      "Block 55:\n",
      "[[7 4 5]\n",
      " [3 7 8]\n",
      " [3 7 1]]\n",
      "\n",
      "Block 56:\n",
      "[[4 5 6]\n",
      " [7 8 2]\n",
      " [7 1 5]]\n",
      "\n",
      "Block 57:\n",
      "[[4 8 1]\n",
      " [5 3 0]\n",
      " [7 5 5]]\n",
      "\n",
      "Block 58:\n",
      "[[8 1 4]\n",
      " [3 0 8]\n",
      " [5 5 6]]\n",
      "\n",
      "Block 59:\n",
      "[[1 4 6]\n",
      " [0 8 7]\n",
      " [5 6 7]]\n",
      "\n",
      "Block 60:\n",
      "[[4 6 2]\n",
      " [8 7 4]\n",
      " [6 7 7]]\n",
      "\n",
      "Block 61:\n",
      "[[6 2 3]\n",
      " [7 4 3]\n",
      " [7 7 8]]\n",
      "\n",
      "Block 62:\n",
      "[[2 3 7]\n",
      " [4 3 7]\n",
      " [7 8 1]]\n",
      "\n",
      "Block 63:\n",
      "[[3 7 8]\n",
      " [3 7 1]\n",
      " [8 1 7]]\n",
      "\n",
      "Block 64:\n",
      "[[7 8 2]\n",
      " [7 1 5]\n",
      " [1 7 6]]\n",
      "\n"
     ]
    }
   ],
   "source": [
    "import numpy as np\n",
    "\n",
    "# Generate a random 10x10 matrix\n",
    "matrix = np.random.randint(0, 10, size=(10, 10))\n",
    "\n",
    "# Initialize a list to store the 3x3 blocks\n",
    "blocks = []\n",
    "\n",
    "# Iterate over each position in the matrix\n",
    "for i in range(8):  # We go up to 8 because we need a 3x3 block centered at each position\n",
    "    for j in range(8):\n",
    "        # Extract the 3x3 block centered at position (i, j)\n",
    "        block = matrix[i:i+3, j:j+3]\n",
    "        blocks.append(block)\n",
    "\n",
    "# Convert the list of blocks to a numpy array\n",
    "blocks_array = np.array(blocks)\n",
    "\n",
    "# Print the extracted blocks\n",
    "for idx, block in enumerate(blocks_array):\n",
    "    print(f\"Block {idx + 1}:\")\n",
    "    print(block)\n",
    "    print()\n"
   ]
  },
  {
   "cell_type": "markdown",
   "metadata": {},
   "source": [
    "85. Create a 2D array subclass such that Z[i,j] == Z[j,i]"
   ]
  },
  {
   "cell_type": "code",
   "execution_count": 79,
   "metadata": {},
   "outputs": [
    {
     "name": "stdout",
     "output_type": "stream",
     "text": [
      "Original array:\n",
      "[[1 2 3]\n",
      " [4 5 6]\n",
      " [7 8 9]]\n",
      "Symmetric array:\n",
      "[[1 2 3]\n",
      " [2 5 6]\n",
      " [3 6 9]]\n",
      "Is symmetric? (Z[i, j] == Z[j, i]): False\n"
     ]
    }
   ],
   "source": [
    "import numpy as np\n",
    "\n",
    "class SymmetricArray(np.ndarray):\n",
    "    def __new__(cls, input_array):\n",
    "        obj = np.asarray(input_array).view(cls)\n",
    "        return obj\n",
    "\n",
    "    def __getitem__(self, indices):\n",
    "        i, j = indices\n",
    "        return super().__getitem__((i, j)) if i <= j else super().__getitem__((j, i))\n",
    "\n",
    "# Create a test array\n",
    "arr = np.array([[1, 2, 3],\n",
    "                [4, 5, 6],\n",
    "                [7, 8, 9]])\n",
    "\n",
    "# Create an instance of the SymmetricArray subclass\n",
    "symmetric_arr = SymmetricArray(arr)\n",
    "\n",
    "# Test the symmetric property\n",
    "print(\"Original array:\")\n",
    "print(arr)\n",
    "print(\"Symmetric array:\")\n",
    "print(symmetric_arr)\n",
    "print(\"Is symmetric? (Z[i, j] == Z[j, i]):\", np.all(symmetric_arr == symmetric_arr.T))\n"
   ]
  },
  {
   "cell_type": "markdown",
   "metadata": {},
   "source": [
    "86. Consider a set of p matrices with shape (n,n) and a set of p vectors with shape (n,1). How to compute the sum of of the p matrix products at once? (result has shape (n,1)) (★★★)"
   ]
  },
  {
   "cell_type": "code",
   "execution_count": 80,
   "metadata": {},
   "outputs": [
    {
     "name": "stdout",
     "output_type": "stream",
     "text": [
      "Result:\n",
      "[[1.22625775]\n",
      " [1.36297609]]\n"
     ]
    }
   ],
   "source": [
    "import numpy as np\n",
    "\n",
    "def sum_of_matrix_products(matrices, vectors):\n",
    "    \"\"\"\n",
    "    Compute the sum of the products of the p matrices with the corresponding p vectors.\n",
    "\n",
    "    Parameters:\n",
    "    - matrices: Array of shape (p, n, n) containing p matrices.\n",
    "    - vectors: Array of shape (p, n, 1) containing p vectors.\n",
    "\n",
    "    Returns:\n",
    "    - result: Array of shape (n, 1) containing the sum of the products.\n",
    "    \"\"\"\n",
    "    # Perform element-wise multiplication of matrices and vectors\n",
    "    products = matrices @ vectors\n",
    "\n",
    "    # Sum along the first axis to obtain the result\n",
    "    result = np.sum(products, axis=0)\n",
    "\n",
    "    return result\n",
    "\n",
    "# Example usage:\n",
    "p = 3\n",
    "n = 2\n",
    "\n",
    "# Generate random matrices and vectors\n",
    "matrices = np.random.rand(p, n, n)\n",
    "vectors = np.random.rand(p, n, 1)\n",
    "\n",
    "# Compute the sum of matrix products\n",
    "result = sum_of_matrix_products(matrices, vectors)\n",
    "print(\"Result:\")\n",
    "print(result)\n"
   ]
  },
  {
   "cell_type": "markdown",
   "metadata": {},
   "source": [
    "87. Consider a 16x16 array, how to get the block-sum (block size is 4x4)?"
   ]
  },
  {
   "cell_type": "code",
   "execution_count": 82,
   "metadata": {},
   "outputs": [
    {
     "name": "stdout",
     "output_type": "stream",
     "text": [
      "Block sum (shape 4x4):\n",
      "[[65 86 49 67]\n",
      " [83 96 76 81]\n",
      " [64 67 74 76]\n",
      " [74 74 93 70]]\n"
     ]
    }
   ],
   "source": [
    "import numpy as np\n",
    "\n",
    "# Create a random 16x16 array\n",
    "arr = np.random.randint(0, 10, size=(16, 16))\n",
    "\n",
    "# Reshape the array into a 4D array with shape (4, 4, 4, 4)\n",
    "blocks = arr.reshape(4, 4, 4, 4)\n",
    "\n",
    "# Sum along the last two axes to get the block-sum\n",
    "block_sum = np.sum(blocks, axis=(2, 3))\n",
    "\n",
    "print(\"Block sum (shape 4x4):\")\n",
    "print(block_sum)\n"
   ]
  },
  {
   "cell_type": "markdown",
   "metadata": {},
   "source": [
    "88. How to implement the Game of Life using numpy arrays? (★★★)"
   ]
  },
  {
   "cell_type": "code",
   "execution_count": null,
   "metadata": {},
   "outputs": [],
   "source": [
    "import numpy as np\n",
    "import matplotlib.pyplot as plt\n",
    "import matplotlib.animation as animation\n",
    "\n",
    "def update(frame_num, img, grid, grid_size):\n",
    "    new_grid = grid.copy()\n",
    "    for i in range(grid_size):\n",
    "        for j in range(grid_size):\n",
    "            # Count live neighbors\n",
    "            neighbors = np.sum(grid[max(0, i-1):min(grid_size, i+2), max(0, j-1):min(grid_size, j+2)]) - grid[i, j]\n",
    "            \n",
    "            # Apply rules\n",
    "            if grid[i, j] == 1 and (neighbors < 2 or neighbors > 3):\n",
    "                new_grid[i, j] = 0\n",
    "            elif grid[i, j] == 0 and neighbors == 3:\n",
    "                new_grid[i, j] = 1\n",
    "    \n",
    "    img.set_data(new_grid)\n",
    "    grid[:] = new_grid[:]\n",
    "    return img,\n",
    "\n",
    "# Set the grid size and the number of frames\n",
    "grid_size = 50\n",
    "num_frames = 100\n",
    "\n",
    "# Create a random initial grid\n",
    "grid = np.random.choice([0, 1], size=(grid_size, grid_size))\n",
    "\n",
    "# Set up the animation\n",
    "fig, ax = plt.subplots()\n",
    "img = ax.imshow(grid, interpolation='nearest')\n",
    "ani = animation.FuncAnimation(fig, update, frames=num_frames, fargs=(img, grid, grid_size), interval=50, save_count=50)\n",
    "\n",
    "plt.show()\n"
   ]
  },
  {
   "cell_type": "markdown",
   "metadata": {},
   "source": [
    "89. How to get the n largest values of an array (★★★)"
   ]
  },
  {
   "cell_type": "code",
   "execution_count": 84,
   "metadata": {},
   "outputs": [
    {
     "name": "stdout",
     "output_type": "stream",
     "text": [
      "The 3 largest values are: [4 5 6]\n"
     ]
    }
   ],
   "source": [
    "import numpy as np\n",
    "\n",
    "def n_largest(arr, n):\n",
    "    \"\"\"\n",
    "    Get the n largest values of an array.\n",
    "\n",
    "    Parameters:\n",
    "    - arr: Input array.\n",
    "    - n: Number of largest values to retrieve.\n",
    "\n",
    "    Returns:\n",
    "    - largest_values: Array containing the n largest values.\n",
    "    \"\"\"\n",
    "    # Get the indices of the n largest values using partition\n",
    "    indices = np.argpartition(arr, -n)[-n:]\n",
    "\n",
    "    # Sort the indices based on the corresponding values\n",
    "    sorted_indices = indices[np.argsort(arr[indices])]\n",
    "\n",
    "    # Get the n largest values\n",
    "    largest_values = arr[sorted_indices]\n",
    "\n",
    "    return largest_values\n",
    "\n",
    "# Example usage:\n",
    "arr = np.array([1, 3, 5, 2, 4, 6])\n",
    "n = 3\n",
    "largest_values = n_largest(arr, n)\n",
    "print(\"The\", n, \"largest values are:\", largest_values)\n"
   ]
  },
  {
   "cell_type": "markdown",
   "metadata": {},
   "source": [
    "90. Given an arbitrary number of vectors, build the cartesian product (every combinations of every item) (★★★)"
   ]
  },
  {
   "cell_type": "code",
   "execution_count": 85,
   "metadata": {},
   "outputs": [
    {
     "name": "stdout",
     "output_type": "stream",
     "text": [
      "[(1, 3, 5), (1, 3, 6), (1, 4, 5), (1, 4, 6), (2, 3, 5), (2, 3, 6), (2, 4, 5), (2, 4, 6)]\n"
     ]
    }
   ],
   "source": [
    "from itertools import product\n",
    "\n",
    "def cartesian_product(*vectors):\n",
    "    return list(product(*vectors))\n",
    "\n",
    "# Example usage:\n",
    "v1 = [1, 2]\n",
    "v2 = [3, 4]\n",
    "v3 = [5, 6]\n",
    "\n",
    "result = cartesian_product(v1, v2, v3)\n",
    "print(result)\n"
   ]
  },
  {
   "cell_type": "markdown",
   "metadata": {},
   "source": [
    "91. How to create a record array from a regular array? (★★★)"
   ]
  },
  {
   "cell_type": "code",
   "execution_count": 86,
   "metadata": {},
   "outputs": [
    {
     "name": "stdout",
     "output_type": "stream",
     "text": [
      "[(1, 2, 3) (4, 5, 6)]\n"
     ]
    }
   ],
   "source": [
    "import numpy as np\n",
    "\n",
    "# Regular array\n",
    "regular_array = np.array([(1, 2, 3), (4, 5, 6)], dtype=[('a', int), ('b', int), ('c', int)])\n",
    "\n",
    "# Convert regular array to record array\n",
    "record_array = regular_array.view(np.recarray)\n",
    "\n",
    "print(record_array)\n"
   ]
  },
  {
   "cell_type": "markdown",
   "metadata": {},
   "source": [
    "92. Consider a large vector Z, compute Z to the power of 3 using 3 different methods"
   ]
  },
  {
   "cell_type": "code",
   "execution_count": 89,
   "metadata": {},
   "outputs": [],
   "source": [
    "import numpy as np\n",
    "\n",
    "# Method 1: Using numpy.power()\n",
    "result1 = np.power(Z, 3)"
   ]
  },
  {
   "cell_type": "markdown",
   "metadata": {},
   "source": [
    "93. Consider two arrays A and B of shape (8,3) and (2,2). How to find rows of A that contain elements of each row of B regardless of the order of the elements in B? (★★★)"
   ]
  },
  {
   "cell_type": "code",
   "execution_count": null,
   "metadata": {},
   "outputs": [],
   "source": [
    "import numpy as np\n",
    "\n",
    "# Example arrays A and B\n",
    "A = np.array([[1, 2, 3],\n",
    "              [4, 5, 6],\n",
    "              [7, 8, 9],\n",
    "              [1, 2, 4],\n",
    "              [4, 6, 7],\n",
    "              [2, 3, 5],\n",
    "              [8, 9, 1],\n",
    "              [3, 4, 5]])\n",
    "\n",
    "B = np.array([[1, 2],\n",
    "              [3, 4]])\n",
    "\n",
    "# Convert arrays A and B to sets of tuples for easier comparison\n",
    "A_set = {tuple(row) for row in A}\n",
    "B_set = {tuple(row) for row in B}\n",
    "\n",
    "# Find rows of A that contain elements of each row of B\n",
    "result_indices = [i for i, row in enumerate(A_set) if all(elem in row for elem in B_set)]\n",
    "\n",
    "# Get the corresponding rows from A\n",
    "result_rows = A[result_indices]\n",
    "\n",
    "print(result_rows)\n"
   ]
  },
  {
   "cell_type": "markdown",
   "metadata": {},
   "source": [
    "94. Considering a 10x3 matrix, extract rows with unequal values (e.g. [2,2,3]) (★★★)\n"
   ]
  },
  {
   "cell_type": "code",
   "execution_count": 91,
   "metadata": {},
   "outputs": [
    {
     "name": "stdout",
     "output_type": "stream",
     "text": [
      "[[0 0 4]\n",
      " [4 1 3]\n",
      " [3 1 4]\n",
      " [3 1 1]\n",
      " [4 2 3]\n",
      " [4 0 2]\n",
      " [3 2 3]\n",
      " [3 4 4]]\n"
     ]
    }
   ],
   "source": [
    "import numpy as np\n",
    "\n",
    "# Create a 10x3 matrix\n",
    "matrix = np.random.randint(0, 5, (10, 3))  # Generating random integers between 0 and 4\n",
    "\n",
    "# Find rows with unequal values\n",
    "unequal_rows = matrix[np.any(np.diff(matrix, axis=1) != 0, axis=1)]\n",
    "\n",
    "print(unequal_rows)\n"
   ]
  },
  {
   "cell_type": "markdown",
   "metadata": {},
   "source": [
    "95. Convert a vector of ints into a matrix binary representation (★★★)"
   ]
  },
  {
   "cell_type": "code",
   "execution_count": 92,
   "metadata": {},
   "outputs": [
    {
     "name": "stdout",
     "output_type": "stream",
     "text": [
      "[[1 0 1 0]\n",
      " [0 1 0 1]\n",
      " [1 1 0 0]\n",
      " [1 1 1 0]]\n"
     ]
    }
   ],
   "source": [
    "import numpy as np\n",
    "\n",
    "# Example vector of integers\n",
    "vector = np.array([5, 10, 3, 7])\n",
    "\n",
    "# Get the maximum integer value in the vector\n",
    "max_val = np.max(vector)\n",
    "\n",
    "# Determine the number of bits required to represent the maximum integer value\n",
    "num_bits = int(np.ceil(np.log2(max_val + 1)))\n",
    "\n",
    "# Create a matrix to hold the binary representation\n",
    "binary_matrix = ((vector[:, None] & (1 << np.arange(num_bits)))) > 0\n",
    "\n",
    "print(binary_matrix.astype(int))\n"
   ]
  },
  {
   "cell_type": "markdown",
   "metadata": {},
   "source": [
    "96. Given a two dimensional array, how to extract unique rows? (★★★)"
   ]
  },
  {
   "cell_type": "code",
   "execution_count": 93,
   "metadata": {},
   "outputs": [
    {
     "name": "stdout",
     "output_type": "stream",
     "text": [
      "[[1 2 3]\n",
      " [4 5 6]\n",
      " [7 8 9]]\n"
     ]
    }
   ],
   "source": [
    "import numpy as np\n",
    "\n",
    "# Example two-dimensional array\n",
    "array_2d = np.array([[1, 2, 3],\n",
    "                      [4, 5, 6],\n",
    "                      [1, 2, 3],\n",
    "                      [7, 8, 9],\n",
    "                      [4, 5, 6]])\n",
    "\n",
    "# Extract unique rows\n",
    "unique_rows = np.unique(array_2d, axis=0)\n",
    "\n",
    "print(unique_rows)\n"
   ]
  },
  {
   "cell_type": "markdown",
   "metadata": {},
   "source": [
    "97. Considering 2 vectors A & B, write the einsum equivalent of inner, outer, sum, and mul function (★★★)"
   ]
  },
  {
   "cell_type": "code",
   "execution_count": null,
   "metadata": {},
   "outputs": [],
   "source": [
    "inner_product = np.einsum('i,i->', A, B)\n",
    "outer_product = np.einsum('i,j->ij', A, B)\n",
    "sum_result = np.einsum('i,i->i', A, B)\n",
    "elementwise_multiplication = np.einsum('i,i->i', A, B)\n"
   ]
  },
  {
   "cell_type": "markdown",
   "metadata": {},
   "source": [
    "98. Considering a path described by two vectors (X,Y), how to sample it using equidistant samples (★★★)?"
   ]
  },
  {
   "cell_type": "code",
   "execution_count": null,
   "metadata": {},
   "outputs": [],
   "source": [
    "import numpy as np\n",
    "\n",
    "def sample_path(X, Y, num_samples):\n",
    "    # Compute the total length of the path\n",
    "    path_length = np.sum(np.sqrt(np.diff(X)**2 + np.diff(Y)**2))\n",
    "    \n",
    "    # Compute the step size for equidistant samples\n",
    "    step_size = path_length / (num_samples - 1)\n",
    "    \n",
    "    # Interpolate along the path to get equidistant samples\n",
    "    t = np.linspace(0, 1, len(X))\n",
    "    interp_func = np.interp(np.arange(0, path_length, step_size), np.cumsum(np.sqrt(np.diff(X)**2 + np.diff(Y)**2)), t)\n",
    "    \n",
    "    # Interpolate X and Y coordinates using the interpolation function\n",
    "    sampled_X = np.interp(interp_func, t, X)\n",
    "    sampled_Y = np.interp(interp_func, t, Y)\n",
    "    \n",
    "    return sampled_X, sampled_Y\n",
    "\n",
    "# Example vectors (X, Y)\n",
    "X = np.array([0, 1, 3, 6, 9])\n",
    "Y = np.array([0, 2, 4, 7, 10])\n",
    "\n",
    "# Number of equidistant samples\n",
    "num_samples = 10\n",
    "\n",
    "# Sample the path\n",
    "sampled_X, sampled_Y = sample_path(X, Y, num_samples)\n",
    "\n",
    "print(\"Sampled X:\", sampled_X)\n",
    "print(\"Sampled Y:\", sampled_Y)\n"
   ]
  },
  {
   "cell_type": "markdown",
   "metadata": {},
   "source": [
    "99. Given an integer n and a 2D array X, select from X the rows which can be interpreted as draws from a multinomial distribution with n degrees, i.e., the rows which only contain integers and which sum to n. (★★★)"
   ]
  },
  {
   "cell_type": "code",
   "execution_count": 96,
   "metadata": {},
   "outputs": [
    {
     "name": "stdout",
     "output_type": "stream",
     "text": [
      "Selected rows:\n",
      "[[1 2 3]]\n"
     ]
    }
   ],
   "source": [
    "import numpy as np\n",
    "\n",
    "def is_multinomial_row(row, n):\n",
    "    # Check if the row contains only integers\n",
    "    if not np.all(np.equal(np.mod(row, 1), 0)):\n",
    "        return False\n",
    "    \n",
    "    # Check if the sum of the row equals n\n",
    "    if np.sum(row) != n:\n",
    "        return False\n",
    "    \n",
    "    return True\n",
    "\n",
    "def select_multinomial_rows(X, n):\n",
    "    selected_rows = []\n",
    "    \n",
    "    for row in X:\n",
    "        if is_multinomial_row(row, n):\n",
    "            selected_rows.append(row)\n",
    "    \n",
    "    return np.array(selected_rows)\n",
    "\n",
    "# Example 2D array X and integer n\n",
    "X = np.array([[1, 2, 3],\n",
    "              [4, 5, 1],\n",
    "              [0, 3, 2],\n",
    "              [2, 2, 6]])\n",
    "\n",
    "n = 6\n",
    "\n",
    "# Select rows from X which can be interpreted as draws from a multinomial distribution with n degrees\n",
    "selected_rows = select_multinomial_rows(X, n)\n",
    "\n",
    "print(\"Selected rows:\")\n",
    "print(selected_rows)\n"
   ]
  },
  {
   "cell_type": "markdown",
   "metadata": {},
   "source": [
    "100. Compute bootstrapped 95% confidence intervals for the mean of a 1D array X (i.e., resample the elements of an array with replacement N times, compute the mean of each sample, and then compute percentiles over the means). (★★★)"
   ]
  },
  {
   "cell_type": "code",
   "execution_count": 98,
   "metadata": {},
   "outputs": [
    {
     "name": "stdout",
     "output_type": "stream",
     "text": [
      "Bootstrapped 95% confidence interval for the mean of X: (3.7975, 7.3)\n"
     ]
    }
   ],
   "source": [
    "import numpy as np\n",
    "\n",
    "def bootstrap_confidence_interval(X, N, alpha=0.05):\n",
    "    means = []\n",
    "    \n",
    "    # Perform bootstrap resampling\n",
    "    for _ in range(N):\n",
    "        # Resample with replacement\n",
    "        resampled_X = np.random.choice(X, size=len(X), replace=True)\n",
    "        # Compute mean of resampled data\n",
    "        mean = np.mean(resampled_X)\n",
    "        means.append(mean)\n",
    "    \n",
    "    # Compute confidence intervals\n",
    "    lower_percentile = 100 * (alpha / 2)\n",
    "    upper_percentile = 100 * (1 - alpha / 2)\n",
    "    lower_bound = np.percentile(means, lower_percentile)\n",
    "    upper_bound = np.percentile(means, upper_percentile)\n",
    "    \n",
    "    return lower_bound, upper_bound\n",
    "\n",
    "# Example 1D array X\n",
    "X = np.array([1, 2, 3, 4, 5, 6, 7, 8, 9, 10])\n",
    "\n",
    "# Number of bootstrap resamples\n",
    "N = 1000\n",
    "\n",
    "# Compute bootstrapped 95% confidence intervals for the mean of X\n",
    "lower_bound, upper_bound = bootstrap_confidence_interval(X, N)\n",
    "\n",
    "print(\"Bootstrapped 95% confidence interval for the mean of X:\", (lower_bound, upper_bound))\n"
   ]
  }
 ],
 "metadata": {
  "kernelspec": {
   "display_name": "Python 3",
   "language": "python",
   "name": "python3"
  },
  "language_info": {
   "codemirror_mode": {
    "name": "ipython",
    "version": 3
   },
   "file_extension": ".py",
   "mimetype": "text/x-python",
   "name": "python",
   "nbconvert_exporter": "python",
   "pygments_lexer": "ipython3",
   "version": "3.11.7"
  }
 },
 "nbformat": 4,
 "nbformat_minor": 2
}
